{
 "cells": [
  {
   "cell_type": "code",
   "execution_count": null,
   "metadata": {},
   "outputs": [],
   "source": [
    "import math\n",
    "import numpy as np\n",
    "import pandas as pd\n",
    "import scipy.stats as stats\n",
    "import matplotlib.pyplot as plt\n",
    "import re\n",
    "\n",
    "from datetime import datetime \n",
    "from collections import defaultdict\n",
    "from scipy.stats import pearsonr"
   ]
  },
  {
   "cell_type": "code",
   "execution_count": null,
   "metadata": {},
   "outputs": [],
   "source": [
    "users = pd.read_csv('new_users.csv')"
   ]
  },
  {
   "cell_type": "markdown",
   "id": "70f0c6d9",
   "metadata": {},
   "source": [
    "### Summing parameters in users (likes received, retweet and reply received)"
   ]
  },
  {
   "cell_type": "code",
   "execution_count": null,
   "metadata": {},
   "outputs": [],
   "source": [
    "new_users = users.merge(tweets.groupby('user_id').sum(), on='user_id')\n",
    "new_users = new_users.drop(columns=\\\n",
    "    ['infer_urls_x', 'infer_hashtags_y',\t'infer_mentions_y',\\\n",
    "    'infer_urls_y', 'infer_hashtags_x', 'infer_mentions_x', 'id']\\\n",
    "        )\n",
    "new_users = new_users.rename(columns={\n",
    "    'retweet_count' : 'retweet_received',\n",
    "    'reply_count' : 'reply_received',\n",
    "    'favorite_count' : 'favorite_received',\n",
    "    'num_hashtags' : 'hashtag_used',\n",
    "    'num_urls' : 'urls_used',\n",
    "    'num_mentions' : 'mentions_used'}, \n",
    "    errors='raise'\n",
    ")\n",
    "new_users.head()"
   ]
  },
  {
   "cell_type": "code",
   "execution_count": null,
   "metadata": {},
   "outputs": [],
   "source": [
    "new_users[\\\n",
    "    (new_users['retweet_received'].isna() == True) |\\\n",
    "    (new_users['reply_received'].isna() == True) |\\\n",
    "    (new_users['favorite_received'].isna() == True) |\\\n",
    "    (new_users['hashtag_used'].isna() == True) |\\\n",
    "    (new_users['urls_used'].isna() == True) |\\\n",
    "    (new_users['mentions_used'].isna() == True)\n",
    "        ].head()"
   ]
  },
  {
   "cell_type": "code",
   "execution_count": null,
   "metadata": {},
   "outputs": [],
   "source": [
    "new_users['reply_received'] = new_users['reply_received'].fillna(-1)\n",
    "new_users['retweet_received'] = new_users['retweet_received'].fillna(-1)\n",
    "new_users['statuses_count'] = new_users['statuses_count'].fillna(-1)"
   ]
  },
  {
   "cell_type": "code",
   "execution_count": null,
   "metadata": {},
   "outputs": [],
   "source": [
    "new_users['reply_received'] = new_users['reply_received'].astype(int)\n",
    "new_users['retweet_received'] = new_users['retweet_received'].astype(int)\n",
    "new_users['favorite_received'] = new_users['favorite_received'].astype(int)\n",
    "new_users['hashtag_used'] = new_users['hashtag_used'].astype(int)\n",
    "new_users['urls_used'] = new_users['urls_used'].astype(int)\n",
    "new_users['mentions_used'] = new_users['mentions_used'].astype(int)\n",
    "new_users['statuses_count'] = new_users['statuses_count'].astype(int)"
   ]
  },
  {
   "cell_type": "markdown",
   "id": "02892ab8",
   "metadata": {},
   "source": [
    "### Ratio"
   ]
  },
  {
   "cell_type": "code",
   "execution_count": null,
   "metadata": {},
   "outputs": [],
   "source": [
    "new_users['like/statuses'] = round(new_users['favorite_received'] / new_users['count'], 2)\n",
    "new_users.head(3)"
   ]
  },
  {
   "cell_type": "markdown",
   "id": "333a3c76",
   "metadata": {},
   "source": [
    "## Number of special char"
   ]
  },
  {
   "cell_type": "code",
   "execution_count": null,
   "id": "4cd9f865",
   "metadata": {},
   "outputs": [],
   "source": [
    "special = '[(|!£$%&/=?^@#§,.;:-_<>ç@)]' # Define special characters\n",
    "tweets['special'] = tweets['text'].str.count(special) # Count them\n",
    "tweets['special'] = tweets['special'].fillna(0)\n",
    "tweets['special'] = tweets['special'].astype(int)\n"
   ]
  },
  {
   "cell_type": "markdown",
   "id": "3dd987d4",
   "metadata": {},
   "source": [
    "## Lenght"
   ]
  },
  {
   "cell_type": "code",
   "execution_count": null,
   "id": "cd3c83e2",
   "metadata": {},
   "outputs": [],
   "source": [
    "tweets['text_lenght'] = tweets['text'].str.len()\n",
    "tweets['text_lenght'] = tweets['text_lenght'].fillna(0)\n",
    "tweets['text_lenght'] = tweets['text_lenght'].astype(int)\n"
   ]
  },
  {
   "cell_type": "markdown",
   "id": "01a4931a",
   "metadata": {},
   "source": [
    "#### Merging"
   ]
  },
  {
   "cell_type": "code",
   "execution_count": null,
   "id": "77102357",
   "metadata": {},
   "outputs": [],
   "source": [
    "mean_tweets = tweets.groupby('user_id').mean(numeric_only=True)\n"
   ]
  },
  {
   "cell_type": "code",
   "execution_count": null,
   "id": "bdd9afaf",
   "metadata": {},
   "outputs": [],
   "source": [
    "mean_tweets = mean_tweets.drop(columns=['retweet_count', 'reply_count',\\\n",
    "    \t'favorite_count', 'num_hashtags',\\\n",
    "        'num_urls',\t'num_mentions',\\\n",
    "        'infer_hashtags_x',\t'infer_mentions_x', 'infer_urls_x', 'infer_hashtags_y',\\\n",
    "        'infer_mentions_y', 'infer_urls_y', 'id'\\\n",
    "        ])\n",
    "\n"
   ]
  },
  {
   "cell_type": "code",
   "execution_count": null,
   "id": "be45d0ba",
   "metadata": {},
   "outputs": [],
   "source": [
    "\n",
    "new_users = new_users.merge(mean_tweets, on='user_id')\n",
    "new_users = new_users.rename(columns={'text_lenght':'avg_text_len', 'special':'avg_special'})\n"
   ]
  },
  {
   "cell_type": "code",
   "execution_count": null,
   "id": "4b89db53",
   "metadata": {},
   "outputs": [],
   "source": [
    "new_users.head(5)"
   ]
  },
  {
   "cell_type": "code",
   "execution_count": null,
   "id": "ea592627",
   "metadata": {},
   "outputs": [],
   "source": [
    "\n",
    "new_users['avg_special'] = round(new_users['avg_special'], 2)\n",
    "new_users['avg_text_len'] = round(new_users['avg_text_len'], 2)"
   ]
  },
  {
   "cell_type": "code",
   "execution_count": null,
   "id": "e0fda311",
   "metadata": {},
   "outputs": [],
   "source": [
    "new_users.head(5)"
   ]
  },
  {
   "cell_type": "code",
   "execution_count": null,
   "id": "cafad3e1",
   "metadata": {},
   "outputs": [],
   "source": [
    "users = new_users"
   ]
  },
  {
   "cell_type": "code",
   "execution_count": null,
   "id": "eff8a9e0",
   "metadata": {},
   "outputs": [],
   "source": [
    "users[users['like/statuses'] == users['like/statuses'].max()]"
   ]
  },
  {
   "cell_type": "code",
   "execution_count": null,
   "id": "e9279d0b",
   "metadata": {},
   "outputs": [],
   "source": [
    "plt.hist(users['like/statuses'], bins=round(math.log2(users['like/statuses'].max()) + 1), log=True)\n",
    "plt.show()"
   ]
  }
 ],
 "metadata": {
  "kernelspec": {
   "display_name": "Python 3.9.13 64-bit",
   "language": "python",
   "name": "python3"
  },
  "language_info": {
   "name": "python",
   "version": "3.9.13"
  },
  "orig_nbformat": 4,
  "vscode": {
   "interpreter": {
    "hash": "b0fa6594d8f4cbf19f97940f81e996739fb7646882a419484c72d19e05852a7e"
   }
  }
 },
 "nbformat": 4,
 "nbformat_minor": 2
}
