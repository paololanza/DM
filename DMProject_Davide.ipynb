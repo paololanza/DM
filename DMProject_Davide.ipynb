{
 "cells": [
  {
   "cell_type": "code",
   "execution_count": 28,
   "id": "d202ed54",
   "metadata": {},
   "outputs": [],
   "source": [
    "import math\n",
    "import numpy as np\n",
    "import pandas as pd\n",
    "import scipy.stats as stats\n",
    "import matplotlib.pyplot as plt\n",
    "\n",
    "from datetime import datetime \n",
    "from collections import defaultdict\n",
    "from scipy.stats import pearsonr"
   ]
  },
  {
   "cell_type": "code",
   "execution_count": 49,
   "id": "1190324c",
   "metadata": {},
   "outputs": [],
   "source": [
    "#create a pandas dataframes from csv files\n",
    "users = pd.read_csv('users.csv')\n",
    "tweets = pd.read_csv('tweets.csv')"
   ]
  },
  {
   "cell_type": "code",
   "execution_count": null,
   "id": "d75b9728",
   "metadata": {},
   "outputs": [],
   "source": [
    "users.info()\n",
    "users.dtypes"
   ]
  },
  {
   "cell_type": "code",
   "execution_count": null,
   "id": "d073bd55",
   "metadata": {},
   "outputs": [],
   "source": [
    "tweets.info()\n",
    "tweets.dtypes"
   ]
  },
  {
   "cell_type": "markdown",
   "id": "6825bdaa",
   "metadata": {},
   "source": [
    "## Trasformazione delle colonne in tipi"
   ]
  },
  {
   "cell_type": "code",
   "execution_count": 3,
   "id": "108896f1",
   "metadata": {},
   "outputs": [],
   "source": [
    "tweets['id'] = pd.to_numeric(tweets['id'], errors='coerce')\n",
    "tweets['user_id'] = pd.to_numeric(tweets['user_id'], errors='coerce')\n",
    "tweets['retweet_count'] = pd.to_numeric(tweets['retweet_count'], errors='coerce')\n",
    "tweets['reply_count'] = pd.to_numeric(tweets['reply_count'], errors='coerce')\n",
    "tweets['favorite_count'] = pd.to_numeric(tweets['favorite_count'], errors='coerce')\n",
    "tweets['num_hashtags'] = pd.to_numeric(tweets['num_hashtags'], errors='coerce')\n",
    "tweets['num_mentions'] = pd.to_numeric(tweets['num_mentions'], errors='coerce')\n",
    "tweets['num_urls'] = pd.to_numeric(tweets['num_urls'], errors='coerce')\n",
    "tweets['created_at'] = pd.to_datetime(tweets['created_at'], errors='coerce')\n",
    "\n",
    "users['id'] = pd.to_numeric(users['id'], errors='coerce')\n",
    "users['created_at'] = pd.to_datetime(users['created_at'], errors='coerce')"
   ]
  },
  {
   "cell_type": "code",
   "execution_count": null,
   "id": "470ecf67",
   "metadata": {},
   "outputs": [],
   "source": [
    "users.lang.unique()"
   ]
  },
  {
   "cell_type": "markdown",
   "id": "ac7b3161",
   "metadata": {},
   "source": [
    "## User analysis "
   ]
  },
  {
   "cell_type": "code",
   "execution_count": null,
   "id": "dc0a3714",
   "metadata": {},
   "outputs": [],
   "source": [
    "users['lang'].value_counts().plot(kind='bar', title='Languages count')\n",
    "plt.yscale('log')\n",
    "plt.show()"
   ]
  },
  {
   "cell_type": "markdown",
   "id": "69c0673b",
   "metadata": {},
   "source": [
    "#### Lang Analysis"
   ]
  },
  {
   "cell_type": "code",
   "execution_count": null,
   "id": "a65f6485",
   "metadata": {},
   "outputs": [],
   "source": [
    "users['lang'] = users['lang'].str.lower()\n",
    "users['lang'].value_counts().plot(kind='bar', title='Languages count')\n",
    "\n",
    "users.rename(columns={\n",
    "    'id' : 'user_id',\n",
    "    'created_at' : 'subscribing_date'\n",
    "}, inplace=True)\n",
    "nal = users[(users['lang'] == 'select language...') | (users['lang'] == 'xx-lc')]\n",
    "\n",
    "text_nal = tweets.merge(nal, on='user_id')\n",
    "text_nal"
   ]
  },
  {
   "cell_type": "code",
   "execution_count": null,
   "id": "04757d21",
   "metadata": {},
   "outputs": [],
   "source": [
    "text_nal[text_nal['name'] == 'Leanne Arker']"
   ]
  },
  {
   "cell_type": "markdown",
   "id": "811e090f",
   "metadata": {},
   "source": [
    "Visti i tweet tutti so inglesi"
   ]
  },
  {
   "cell_type": "code",
   "execution_count": null,
   "id": "d7a546e4",
   "metadata": {},
   "outputs": [],
   "source": [
    "users['lang'].replace('select language...', 'en', inplace=True)\n",
    "users['lang'].replace('xx-lc', 'en', inplace=True)"
   ]
  },
  {
   "cell_type": "markdown",
   "id": "8dbbac16",
   "metadata": {},
   "source": [
    "### Bot Analysis"
   ]
  },
  {
   "cell_type": "markdown",
   "id": "64b978ba",
   "metadata": {},
   "source": [
    "Check if there are only 0 and 1 values"
   ]
  },
  {
   "cell_type": "code",
   "execution_count": null,
   "id": "1eea843e",
   "metadata": {},
   "outputs": [],
   "source": [
    "users.bot.unique()"
   ]
  },
  {
   "cell_type": "markdown",
   "id": "a44a707e",
   "metadata": {},
   "source": [
    "### Statues Count analysis"
   ]
  },
  {
   "cell_type": "markdown",
   "id": "089067b3",
   "metadata": {},
   "source": [
    "Calculate for each user how much tweets we have in tweets.csv"
   ]
  },
  {
   "cell_type": "code",
   "execution_count": null,
   "id": "087d1ca9",
   "metadata": {},
   "outputs": [],
   "source": [
    "\n",
    "count = tweets.groupby('user_id', as_index=False)['user_id'].count()\n",
    "\n",
    "#cnt['count'] = tweets.groupby(by='user_id', as_index=False, dropna=False)['user_id'].count()\n",
    "c = users\n",
    "c.sort_values('user_id')\n",
    "c['count'] = count\n",
    "c['statuses_count'].sum() - c['count'].sum()\n",
    "\n",
    "#max = tweets.groupby('user_id', as_index=False).count()\n",
    "#max['max'] = max.max(axis=0)\n",
    "#max"
   ]
  },
  {
   "cell_type": "code",
   "execution_count": null,
   "id": "0a0fdcb2",
   "metadata": {},
   "outputs": [],
   "source": [
    "c['count'].median()"
   ]
  },
  {
   "cell_type": "markdown",
   "id": "d423a838",
   "metadata": {},
   "source": [
    "### User's created at analysis (previously we changed the name of the attribute in 'subscribing_date')"
   ]
  },
  {
   "cell_type": "code",
   "execution_count": null,
   "id": "9a0592bb",
   "metadata": {},
   "outputs": [],
   "source": [
    "users[users['subscribing_date'] > datetime.now()]"
   ]
  },
  {
   "cell_type": "code",
   "execution_count": null,
   "id": "a5007859",
   "metadata": {},
   "outputs": [],
   "source": [
    "users[users['subscribing_date'] < datetime.strptime(\"2006-07-15 00:00:00\", \"%Y-%m-%d %H:%M:%S\")]"
   ]
  },
  {
   "cell_type": "markdown",
   "id": "af143b50",
   "metadata": {},
   "source": [
    "Non cene di timestamp sbagliati in italia"
   ]
  },
  {
   "cell_type": "markdown",
   "id": "fd8ae053",
   "metadata": {},
   "source": [
    "### Resulting Plots"
   ]
  },
  {
   "cell_type": "code",
   "execution_count": null,
   "id": "2981d999",
   "metadata": {},
   "outputs": [],
   "source": [
    "fig = plt.figure(figsize=(20,23))\n",
    "fig_dims = (4,2)\n",
    "fig.subplots_adjust(hspace=0.4, wspace=0.4)\n",
    "\n",
    "###fig 1\n",
    "plt.subplot2grid(fig_dims, (0,0))\n",
    "users['lang'].value_counts().plot(kind='bar', title='Languages count')\n",
    "plt.yscale('log')\n",
    "\n",
    "###fig 2\n",
    "plt.subplot2grid(fig_dims, (0,1))\n",
    "users['bot'].value_counts().plot(kind='bar', title='Bots count')\n",
    "\n",
    "plt.show()"
   ]
  },
  {
   "cell_type": "markdown",
   "id": "f333b9b0",
   "metadata": {},
   "source": [
    "## Tweets Analysis"
   ]
  },
  {
   "cell_type": "markdown",
   "id": "eb54f558",
   "metadata": {},
   "source": [
    "### Drop duplicates"
   ]
  },
  {
   "cell_type": "code",
   "execution_count": 44,
   "id": "fc8bc2ce",
   "metadata": {},
   "outputs": [
    {
     "name": "stdout",
     "output_type": "stream",
     "text": [
      "Dropped 1952099 duplicates\n"
     ]
    }
   ],
   "source": [
    "count = tweets['id'].count()\n",
    "tweets.drop_duplicates(inplace=True)\n",
    "print(\"Dropped \" + str(count - tweets['id'].count()) + \" duplicates\")"
   ]
  },
  {
   "cell_type": "markdown",
   "id": "a9a5ceae",
   "metadata": {},
   "source": [
    "### Replace NaN and 'inf' values in 'id'"
   ]
  },
  {
   "cell_type": "code",
   "execution_count": 59,
   "id": "c232293b",
   "metadata": {},
   "outputs": [
    {
     "data": {
      "text/html": [
       "<div>\n",
       "<style scoped>\n",
       "    .dataframe tbody tr th:only-of-type {\n",
       "        vertical-align: middle;\n",
       "    }\n",
       "\n",
       "    .dataframe tbody tr th {\n",
       "        vertical-align: top;\n",
       "    }\n",
       "\n",
       "    .dataframe thead th {\n",
       "        text-align: right;\n",
       "    }\n",
       "</style>\n",
       "<table border=\"1\" class=\"dataframe\">\n",
       "  <thead>\n",
       "    <tr style=\"text-align: right;\">\n",
       "      <th></th>\n",
       "      <th>id</th>\n",
       "      <th>user_id</th>\n",
       "      <th>retweet_count</th>\n",
       "      <th>reply_count</th>\n",
       "      <th>favorite_count</th>\n",
       "      <th>num_hashtags</th>\n",
       "      <th>num_urls</th>\n",
       "      <th>num_mentions</th>\n",
       "      <th>created_at</th>\n",
       "      <th>text</th>\n",
       "    </tr>\n",
       "  </thead>\n",
       "  <tbody>\n",
       "    <tr>\n",
       "      <th>7801213</th>\n",
       "      <td>inf</td>\n",
       "      <td>1546896846</td>\n",
       "      <td>NaN</td>\n",
       "      <td>NaN</td>\n",
       "      <td>NaN</td>\n",
       "      <td>NaN</td>\n",
       "      <td>0.0</td>\n",
       "      <td>0</td>\n",
       "      <td>2020-03-08 08:22:28</td>\n",
       "      <td>Anas 7yo was injured by a rubber bullet (fired...</td>\n",
       "    </tr>\n",
       "    <tr>\n",
       "      <th>9706367</th>\n",
       "      <td>NaN</td>\n",
       "      <td>466475273</td>\n",
       "      <td>NaN</td>\n",
       "      <td>NaN</td>\n",
       "      <td>NaN</td>\n",
       "      <td>NaN</td>\n",
       "      <td>NaN</td>\n",
       "      <td>NaN</td>\n",
       "      <td>2019-09-08 07:09:46</td>\n",
       "      <td>NaN</td>\n",
       "    </tr>\n",
       "    <tr>\n",
       "      <th>9878261</th>\n",
       "      <td>inf</td>\n",
       "      <td>215693377</td>\n",
       "      <td>NaN</td>\n",
       "      <td>NaN</td>\n",
       "      <td>NaN</td>\n",
       "      <td>NaN</td>\n",
       "      <td>0.0</td>\n",
       "      <td>NaN</td>\n",
       "      <td>2019-11-03 02:51:31</td>\n",
       "      <td>It's not whether you get knocked down; it's wh...</td>\n",
       "    </tr>\n",
       "    <tr>\n",
       "      <th>12171674</th>\n",
       "      <td>NaN</td>\n",
       "      <td>87334609</td>\n",
       "      <td>NaN</td>\n",
       "      <td>NaN</td>\n",
       "      <td>NaN</td>\n",
       "      <td>NaN</td>\n",
       "      <td>NaN</td>\n",
       "      <td>NaN</td>\n",
       "      <td>2019-04-13 01:10:44</td>\n",
       "      <td>NaN</td>\n",
       "    </tr>\n",
       "    <tr>\n",
       "      <th>13105703</th>\n",
       "      <td>inf</td>\n",
       "      <td>177455411</td>\n",
       "      <td>NaN</td>\n",
       "      <td>NaN</td>\n",
       "      <td>NaN</td>\n",
       "      <td>NaN</td>\n",
       "      <td>0.0</td>\n",
       "      <td>2</td>\n",
       "      <td>2020-04-06 15:12:11</td>\n",
       "      <td>@briOKC @NewsOK</td>\n",
       "    </tr>\n",
       "  </tbody>\n",
       "</table>\n",
       "</div>"
      ],
      "text/plain": [
       "           id     user_id retweet_count reply_count favorite_count  \\\n",
       "7801213   inf  1546896846           NaN         NaN            NaN   \n",
       "9706367   NaN   466475273           NaN         NaN            NaN   \n",
       "9878261   inf   215693377           NaN         NaN            NaN   \n",
       "12171674  NaN    87334609           NaN         NaN            NaN   \n",
       "13105703  inf   177455411           NaN         NaN            NaN   \n",
       "\n",
       "         num_hashtags num_urls num_mentions           created_at  \\\n",
       "7801213           NaN      0.0            0  2020-03-08 08:22:28   \n",
       "9706367           NaN      NaN          NaN  2019-09-08 07:09:46   \n",
       "9878261           NaN      0.0          NaN  2019-11-03 02:51:31   \n",
       "12171674          NaN      NaN          NaN  2019-04-13 01:10:44   \n",
       "13105703          NaN      0.0            2  2020-04-06 15:12:11   \n",
       "\n",
       "                                                       text  \n",
       "7801213   Anas 7yo was injured by a rubber bullet (fired...  \n",
       "9706367                                                 NaN  \n",
       "9878261   It's not whether you get knocked down; it's wh...  \n",
       "12171674                                                NaN  \n",
       "13105703                                   @briOKC @NewsOK   "
      ]
     },
     "execution_count": 59,
     "metadata": {},
     "output_type": "execute_result"
    }
   ],
   "source": [
    "tweets[(tweets['id'].isna() == True) | (tweets['id'] == 'inf')]"
   ]
  },
  {
   "cell_type": "code",
   "execution_count": 64,
   "id": "cfd2f645",
   "metadata": {},
   "outputs": [
    {
     "data": {
      "text/html": [
       "<div>\n",
       "<style scoped>\n",
       "    .dataframe tbody tr th:only-of-type {\n",
       "        vertical-align: middle;\n",
       "    }\n",
       "\n",
       "    .dataframe tbody tr th {\n",
       "        vertical-align: top;\n",
       "    }\n",
       "\n",
       "    .dataframe thead th {\n",
       "        text-align: right;\n",
       "    }\n",
       "</style>\n",
       "<table border=\"1\" class=\"dataframe\">\n",
       "  <thead>\n",
       "    <tr style=\"text-align: right;\">\n",
       "      <th></th>\n",
       "      <th>id</th>\n",
       "      <th>user_id</th>\n",
       "      <th>retweet_count</th>\n",
       "      <th>reply_count</th>\n",
       "      <th>favorite_count</th>\n",
       "      <th>num_hashtags</th>\n",
       "      <th>num_urls</th>\n",
       "      <th>num_mentions</th>\n",
       "      <th>created_at</th>\n",
       "      <th>text</th>\n",
       "    </tr>\n",
       "  </thead>\n",
       "  <tbody>\n",
       "    <tr>\n",
       "      <th>7801213</th>\n",
       "      <td>-1</td>\n",
       "      <td>1546896846</td>\n",
       "      <td>NaN</td>\n",
       "      <td>NaN</td>\n",
       "      <td>NaN</td>\n",
       "      <td>NaN</td>\n",
       "      <td>0.0</td>\n",
       "      <td>0</td>\n",
       "      <td>2020-03-08 08:22:28</td>\n",
       "      <td>Anas 7yo was injured by a rubber bullet (fired...</td>\n",
       "    </tr>\n",
       "    <tr>\n",
       "      <th>9706367</th>\n",
       "      <td>-1</td>\n",
       "      <td>466475273</td>\n",
       "      <td>NaN</td>\n",
       "      <td>NaN</td>\n",
       "      <td>NaN</td>\n",
       "      <td>NaN</td>\n",
       "      <td>NaN</td>\n",
       "      <td>NaN</td>\n",
       "      <td>2019-09-08 07:09:46</td>\n",
       "      <td>NaN</td>\n",
       "    </tr>\n",
       "    <tr>\n",
       "      <th>9878261</th>\n",
       "      <td>-1</td>\n",
       "      <td>215693377</td>\n",
       "      <td>NaN</td>\n",
       "      <td>NaN</td>\n",
       "      <td>NaN</td>\n",
       "      <td>NaN</td>\n",
       "      <td>0.0</td>\n",
       "      <td>NaN</td>\n",
       "      <td>2019-11-03 02:51:31</td>\n",
       "      <td>It's not whether you get knocked down; it's wh...</td>\n",
       "    </tr>\n",
       "    <tr>\n",
       "      <th>12171674</th>\n",
       "      <td>-1</td>\n",
       "      <td>87334609</td>\n",
       "      <td>NaN</td>\n",
       "      <td>NaN</td>\n",
       "      <td>NaN</td>\n",
       "      <td>NaN</td>\n",
       "      <td>NaN</td>\n",
       "      <td>NaN</td>\n",
       "      <td>2019-04-13 01:10:44</td>\n",
       "      <td>NaN</td>\n",
       "    </tr>\n",
       "    <tr>\n",
       "      <th>13105703</th>\n",
       "      <td>-1</td>\n",
       "      <td>177455411</td>\n",
       "      <td>NaN</td>\n",
       "      <td>NaN</td>\n",
       "      <td>NaN</td>\n",
       "      <td>NaN</td>\n",
       "      <td>0.0</td>\n",
       "      <td>2</td>\n",
       "      <td>2020-04-06 15:12:11</td>\n",
       "      <td>@briOKC @NewsOK</td>\n",
       "    </tr>\n",
       "  </tbody>\n",
       "</table>\n",
       "</div>"
      ],
      "text/plain": [
       "          id     user_id retweet_count reply_count favorite_count  \\\n",
       "7801213   -1  1546896846           NaN         NaN            NaN   \n",
       "9706367   -1   466475273           NaN         NaN            NaN   \n",
       "9878261   -1   215693377           NaN         NaN            NaN   \n",
       "12171674  -1    87334609           NaN         NaN            NaN   \n",
       "13105703  -1   177455411           NaN         NaN            NaN   \n",
       "\n",
       "         num_hashtags num_urls num_mentions           created_at  \\\n",
       "7801213           NaN      0.0            0  2020-03-08 08:22:28   \n",
       "9706367           NaN      NaN          NaN  2019-09-08 07:09:46   \n",
       "9878261           NaN      0.0          NaN  2019-11-03 02:51:31   \n",
       "12171674          NaN      NaN          NaN  2019-04-13 01:10:44   \n",
       "13105703          NaN      0.0            2  2020-04-06 15:12:11   \n",
       "\n",
       "                                                       text  \n",
       "7801213   Anas 7yo was injured by a rubber bullet (fired...  \n",
       "9706367                                                 NaN  \n",
       "9878261   It's not whether you get knocked down; it's wh...  \n",
       "12171674                                                NaN  \n",
       "13105703                                   @briOKC @NewsOK   "
      ]
     },
     "execution_count": 64,
     "metadata": {},
     "output_type": "execute_result"
    }
   ],
   "source": [
    "tweets.loc[(tweets['id'].isna() == True) , 'id'] = -1\n",
    "tweets.loc[(tweets['id'] == 'inf'), 'id'] = -1\n",
    "tweets[tweets['id'] == -1]"
   ]
  },
  {
   "cell_type": "markdown",
   "id": "b6e638bf",
   "metadata": {},
   "source": [
    "### Replace wrong values in 'user_id'"
   ]
  },
  {
   "cell_type": "code",
   "execution_count": 84,
   "id": "4c7b90a8",
   "metadata": {},
   "outputs": [
    {
     "data": {
      "text/plain": [
       "217283"
      ]
     },
     "execution_count": 84,
     "metadata": {},
     "output_type": "execute_result"
    }
   ],
   "source": [
    "len(tweets[(tweets['user_id'].isna() == True)])"
   ]
  },
  {
   "cell_type": "code",
   "execution_count": 95,
   "id": "47f1cb7d",
   "metadata": {},
   "outputs": [
    {
     "data": {
      "text/plain": [
       "0"
      ]
     },
     "execution_count": 95,
     "metadata": {},
     "output_type": "execute_result"
    }
   ],
   "source": [
    "tweets.loc[(tweets['user_id'].isna() == True), 'user_id'] = -1\n",
    "len(tweets[(tweets['user_id'].isna() == True)])"
   ]
  },
  {
   "cell_type": "markdown",
   "id": "d76d9bb5",
   "metadata": {},
   "source": [
    "### Infer num_hashtags, num_urls and num_mentions"
   ]
  },
  {
   "cell_type": "code",
   "execution_count": 96,
   "id": "2c46b878",
   "metadata": {},
   "outputs": [
    {
     "name": "stdout",
     "output_type": "stream",
     "text": [
      "num_hashtags nan: 1057524 num_mentions nan: 854165 num_urls nan: 854165\n",
      "num_hashtags nan: 488757 num_mentions nan: 487992 num_urls nan: 487992\n"
     ]
    }
   ],
   "source": [
    "tweets['infer_hashtags'] = tweets.text.str.count('#')\n",
    "tweets['infer_mentions'] = tweets.text.str.count('@')\n",
    "tweets['infer_urls'] = tweets.text.str.count('http://')\n",
    "\n",
    "print(\"num_hashtags nan: \" + str(tweets['num_hashtags'].isna().sum()) + \\\n",
    "      \" num_mentions nan: \" + str(tweets['num_mentions'].isna().sum()) + \\\n",
    "      \" num_urls nan: \" + str(tweets['num_mentions'].isna().sum()))\n",
    "\n",
    "tweets['num_hashtags'] = tweets['num_hashtags'].fillna(tweets['infer_hashtags'])\n",
    "tweets['num_mentions'] = tweets['num_mentions'].fillna(tweets['infer_mentions'])\n",
    "tweets['num_urls'] = tweets['num_urls'].fillna(tweets['infer_urls'])\n",
    "\n",
    "print(\"num_hashtags nan: \" + str(tweets['num_hashtags'].isna().sum()) + \\\n",
    "      \" num_mentions nan: \" + str(tweets['num_mentions'].isna().sum()) + \\\n",
    "      \" num_urls nan: \" + str(tweets['num_mentions'].isna().sum()))\n"
   ]
  },
  {
   "cell_type": "markdown",
   "id": "2372ab74",
   "metadata": {},
   "source": [
    "### Replace NaN values in tweets"
   ]
  },
  {
   "cell_type": "code",
   "execution_count": null,
   "id": "f2751746",
   "metadata": {},
   "outputs": [],
   "source": [
    "t = tweets\n",
    "user_median = t.groupby('user_id', as_index=False).median()\n",
    "user_median.rename(columns={\n",
    "    'retweet_count' : 'retweet_median',\n",
    "    'reply_count' : 'reply_median',\n",
    "    'favorite_count' : 'favorite_median',\n",
    "    'num_hashtags' : 'hashtags_median',\n",
    "    'num_urls' : 'urls_median',\n",
    "    'num_mentions' : 'mentions_median'\n",
    "}, inplace=True)\n",
    "user_median.drop(columns=['id'], inplace=True)\n",
    "tweets = t.merge(user_median, on='user_id')\n",
    "\n",
    "print(\"retweet_count nan: \" + str(tweets['retweet_count'].isna().sum()) + \\\n",
    "      \", reply_count nan: \" + str(tweets['reply_count'].isna().sum()) + \\\n",
    "      \", favorite_count nan: \" + str(tweets['favorite_count'].isna().sum()) + \\\n",
    "      \", num_hashtags nan: \" + str(tweets['num_hashtags'].isna().sum()) + \\\n",
    "      \", num_mentions nan: \" + str(tweets['num_mentions'].isna().sum()) + \\\n",
    "      \", num_urls nan: \" + str(tweets['num_urls'].isna().sum()))\n",
    "\n",
    "#sostituzione valori\n",
    "tweets['retweet_count'] = tweets['retweet_count'].fillna(tweets['retweet_median'])\n",
    "tweets['reply_count'] = tweets['reply_count'].fillna(tweets['reply_median'])\n",
    "tweets['favorite_count'] = tweets['favorite_count'].fillna(tweets['favorite_median'])\n",
    "tweets['num_hashtags'] = tweets['num_hashtags'].fillna(tweets['hashtags_median'])\n",
    "tweets['num_mentions'] = tweets['num_mentions'].fillna(tweets['mentions_median'])\n",
    "tweets['num_urls'] = tweets['num_urls'].fillna(tweets['urls_median'])\n",
    "\n",
    "tweets.drop(columns=['retweet_median', 'reply_median', 'favorite_median', 'hashtags_median', 'mentions_median', 'urls_median'])\n",
    "\n",
    "print(\"retweet_count nan: \" + str(tweets['retweet_count'].isna().sum()) + \\\n",
    "      \", reply_count nan: \" + str(tweets['reply_count'].isna().sum()) + \\\n",
    "      \", favorite_count nan: \" + str(tweets['favorite_count'].isna().sum()) + \\\n",
    "      \", num_hashtags nan: \" + str(tweets['num_hashtags'].isna().sum()) + \\\n",
    "      \", num_mentions nan: \" + str(tweets['num_mentions'].isna().sum()) + \\\n",
    "      \", num_urls nan: \" + str(tweets['num_urls'].isna().sum()))\n"
   ]
  },
  {
   "cell_type": "markdown",
   "id": "1b5f209d",
   "metadata": {},
   "source": [
    "### Replacing invalid timestamp"
   ]
  },
  {
   "cell_type": "code",
   "execution_count": null,
   "id": "bc72a266",
   "metadata": {},
   "outputs": [],
   "source": [
    "tweets.loc[(tweets.created_at < datetime.strptime(\"2006-07-15 00:00:00\", \"%Y-%m-%d %H:%M:%S\")) | (tweets.created_at > datetime.now()),\\\n",
    "     'created_at'] = datetime.strptime(\"2000-01-01 00:00:00\", \"%Y-%m-%d %H:%M:%S\")\n",
    "tweets[tweets['created_at'] == datetime.strptime(\"2000-01-01 00:00:00\", \"%Y-%m-%d %H:%M:%S\")]['id'].count()"
   ]
  },
  {
   "cell_type": "code",
   "execution_count": null,
   "id": "8ae31e6b",
   "metadata": {},
   "outputs": [],
   "source": []
  }
 ],
 "metadata": {
  "kernelspec": {
   "display_name": "Python 3.10.7 64-bit",
   "language": "python",
   "name": "python3"
  },
  "language_info": {
   "codemirror_mode": {
    "name": "ipython",
    "version": 3
   },
   "file_extension": ".py",
   "mimetype": "text/x-python",
   "name": "python",
   "nbconvert_exporter": "python",
   "pygments_lexer": "ipython3",
   "version": "3.10.7"
  },
  "vscode": {
   "interpreter": {
    "hash": "ed4c1ac920283d7c6dfdb0669735cc4870ba08ee020c89311bceabc127f2f2bd"
   }
  }
 },
 "nbformat": 4,
 "nbformat_minor": 5
}
