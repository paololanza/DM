{
 "cells": [
  {
   "cell_type": "code",
   "execution_count": 1,
   "id": "d202ed54",
   "metadata": {},
   "outputs": [],
   "source": [
    "import math\n",
    "import numpy as np\n",
    "import pandas as pd\n",
    "import scipy.stats as stats\n",
    "import matplotlib.pyplot as plt\n",
    "\n",
    "from datetime import datetime \n",
    "from collections import defaultdict\n",
    "from scipy.stats import pearsonr"
   ]
  },
  {
   "cell_type": "code",
   "execution_count": 2,
   "id": "1190324c",
   "metadata": {},
   "outputs": [],
   "source": [
    "#create a pandas dataframes from csv files\n",
    "users = pd.read_csv('users.csv')\n",
    "tweets = pd.read_csv('tweets.csv')"
   ]
  },
  {
   "cell_type": "code",
   "execution_count": 3,
   "id": "d75b9728",
   "metadata": {},
   "outputs": [
    {
     "name": "stdout",
     "output_type": "stream",
     "text": [
      "<class 'pandas.core.frame.DataFrame'>\n",
      "RangeIndex: 11508 entries, 0 to 11507\n",
      "Data columns (total 6 columns):\n",
      " #   Column          Non-Null Count  Dtype  \n",
      "---  ------          --------------  -----  \n",
      " 0   id              11508 non-null  int64  \n",
      " 1   name            11507 non-null  object \n",
      " 2   lang            11508 non-null  object \n",
      " 3   bot             11508 non-null  int64  \n",
      " 4   created_at      11508 non-null  object \n",
      " 5   statuses_count  11109 non-null  float64\n",
      "dtypes: float64(1), int64(2), object(3)\n",
      "memory usage: 539.6+ KB\n"
     ]
    },
    {
     "data": {
      "text/plain": [
       "id                  int64\n",
       "name               object\n",
       "lang               object\n",
       "bot                 int64\n",
       "created_at         object\n",
       "statuses_count    float64\n",
       "dtype: object"
      ]
     },
     "execution_count": 3,
     "metadata": {},
     "output_type": "execute_result"
    }
   ],
   "source": [
    "users.info()\n",
    "users.dtypes"
   ]
  },
  {
   "cell_type": "code",
   "execution_count": 4,
   "id": "d073bd55",
   "metadata": {},
   "outputs": [
    {
     "name": "stdout",
     "output_type": "stream",
     "text": [
      "<class 'pandas.core.frame.DataFrame'>\n",
      "RangeIndex: 13664696 entries, 0 to 13664695\n",
      "Data columns (total 10 columns):\n",
      " #   Column          Dtype \n",
      "---  ------          ----- \n",
      " 0   id              object\n",
      " 1   user_id         object\n",
      " 2   retweet_count   object\n",
      " 3   reply_count     object\n",
      " 4   favorite_count  object\n",
      " 5   num_hashtags    object\n",
      " 6   num_urls        object\n",
      " 7   num_mentions    object\n",
      " 8   created_at      object\n",
      " 9   text            object\n",
      "dtypes: object(10)\n",
      "memory usage: 1.0+ GB\n"
     ]
    },
    {
     "data": {
      "text/plain": [
       "id                object\n",
       "user_id           object\n",
       "retweet_count     object\n",
       "reply_count       object\n",
       "favorite_count    object\n",
       "num_hashtags      object\n",
       "num_urls          object\n",
       "num_mentions      object\n",
       "created_at        object\n",
       "text              object\n",
       "dtype: object"
      ]
     },
     "execution_count": 4,
     "metadata": {},
     "output_type": "execute_result"
    }
   ],
   "source": [
    "tweets.info()\n",
    "tweets.dtypes"
   ]
  },
  {
   "cell_type": "markdown",
   "id": "6825bdaa",
   "metadata": {},
   "source": [
    "## Trasformazione delle colonne in tipi"
   ]
  },
  {
   "cell_type": "code",
   "execution_count": 5,
   "id": "108896f1",
   "metadata": {},
   "outputs": [],
   "source": [
    "tweets['id'] = pd.to_numeric(tweets['id'], errors='coerce')\n",
    "tweets['user_id'] = pd.to_numeric(tweets['user_id'], errors='coerce')\n",
    "tweets['retweet_count'] = pd.to_numeric(tweets['retweet_count'], errors='coerce')\n",
    "tweets['reply_count'] = pd.to_numeric(tweets['reply_count'], errors='coerce')\n",
    "tweets['favorite_count'] = pd.to_numeric(tweets['favorite_count'], errors='coerce')\n",
    "tweets['num_hashtags'] = pd.to_numeric(tweets['num_hashtags'], errors='coerce')\n",
    "tweets['num_mentions'] = pd.to_numeric(tweets['num_mentions'], errors='coerce')\n",
    "tweets['num_urls'] = pd.to_numeric(tweets['num_urls'], errors='coerce')\n",
    "tweets['created_at'] = pd.to_datetime(tweets['created_at'], errors='coerce')\n",
    "\n",
    "users['id'] = pd.to_numeric(users['id'], errors='coerce')\n",
    "users['created_at'] = pd.to_datetime(users['created_at'], errors='coerce')"
   ]
  },
  {
   "cell_type": "code",
   "execution_count": 6,
   "id": "470ecf67",
   "metadata": {},
   "outputs": [
    {
     "data": {
      "text/plain": [
       "array(['en', 'it', 'fr', 'ru', 'es', 'tr', 'en-gb', 'pt', 'nl', 'id',\n",
       "       'zh-tw', 'ja', 'de', 'ko', 'en-AU', 'da', 'ar', 'en-GB',\n",
       "       'Select Language...', 'zh-TW', 'zh-cn', 'pl', 'el', 'fil', 'sv',\n",
       "       'xx-lc'], dtype=object)"
      ]
     },
     "execution_count": 6,
     "metadata": {},
     "output_type": "execute_result"
    }
   ],
   "source": [
    "users.lang.unique()"
   ]
  },
  {
   "cell_type": "markdown",
   "id": "ac7b3161",
   "metadata": {},
   "source": [
    "## User analysis "
   ]
  },
  {
   "cell_type": "code",
   "execution_count": 7,
   "id": "dc0a3714",
   "metadata": {},
   "outputs": [
    {
     "data": {
      "image/png": "[encoded data removed]",
      "text/plain": [
       "<Figure size 640x480 with 1 Axes>"
      ]
     },
     "metadata": {},
     "output_type": "display_data"
    }
   ],
   "source": [
    "users['lang'].value_counts().plot(kind='bar', title='Languages count')\n",
    "plt.yscale('log')\n",
    "plt.show()"
   ]
  },
  {
   "cell_type": "markdown",
   "id": "69c0673b",
   "metadata": {},
   "source": [
    "#### Lang Analysis"
   ]
  },
  {
   "cell_type": "code",
   "execution_count": 8,
   "id": "a65f6485",
   "metadata": {},
   "outputs": [
    {
     "name": "stderr",
     "output_type": "stream",
     "text": [
      "/var/folders/h4/5wp1mt_n1k72n6zcf7wxd6bc0000gn/T/ipykernel_10975/2716921091.py:10: UserWarning: You are merging on int and float columns where the float values are not equal to their int representation.\n",
      "  text_nal = tweets.merge(nal, on='user_id')\n"
     ]
    },
    {
     "data": {
      "text/html": [
       "<div>\n",
       "<style scoped>\n",
       "    .dataframe tbody tr th:only-of-type {\n",
       "        vertical-align: middle;\n",
       "    }\n",
       "\n",
       "    .dataframe tbody tr th {\n",
       "        vertical-align: top;\n",
       "    }\n",
       "\n",
       "    .dataframe thead th {\n",
       "        text-align: right;\n",
       "    }\n",
       "</style>\n",
       "<table border=\"1\" class=\"dataframe\">\n",
       "  <thead>\n",
       "    <tr style=\"text-align: right;\">\n",
       "      <th></th>\n",
       "      <th>id</th>\n",
       "      <th>user_id</th>\n",
       "      <th>retweet_count</th>\n",
       "      <th>reply_count</th>\n",
       "      <th>favorite_count</th>\n",
       "      <th>num_hashtags</th>\n",
       "      <th>num_urls</th>\n",
       "      <th>num_mentions</th>\n",
       "      <th>created_at</th>\n",
       "      <th>text</th>\n",
       "      <th>name</th>\n",
       "      <th>lang</th>\n",
       "      <th>bot</th>\n",
       "      <th>subscribing_date</th>\n",
       "      <th>statuses_count</th>\n",
       "    </tr>\n",
       "  </thead>\n",
       "  <tbody>\n",
       "    <tr>\n",
       "      <th>0</th>\n",
       "      <td>4.912745e+17</td>\n",
       "      <td>2.955215e+07</td>\n",
       "      <td>0.0</td>\n",
       "      <td>0.0</td>\n",
       "      <td>0.0</td>\n",
       "      <td>0.0</td>\n",
       "      <td>0.0</td>\n",
       "      <td>0.0</td>\n",
       "      <td>2019-07-23 17:32:30</td>\n",
       "      <td>Spent the majority of my day drawing around, c...</td>\n",
       "      <td>Chloe</td>\n",
       "      <td>xx-lc</td>\n",
       "      <td>0</td>\n",
       "      <td>2014-04-09 21:36:02</td>\n",
       "      <td>15398.0</td>\n",
       "    </tr>\n",
       "    <tr>\n",
       "      <th>1</th>\n",
       "      <td>4.886930e+17</td>\n",
       "      <td>2.955215e+07</td>\n",
       "      <td>0.0</td>\n",
       "      <td>0.0</td>\n",
       "      <td>0.0</td>\n",
       "      <td>0.0</td>\n",
       "      <td>0.0</td>\n",
       "      <td>0.0</td>\n",
       "      <td>2019-07-16 14:34:25</td>\n",
       "      <td>We all love dem cuddles. http://t.co/fPrcnUfacS</td>\n",
       "      <td>Chloe</td>\n",
       "      <td>xx-lc</td>\n",
       "      <td>0</td>\n",
       "      <td>2014-04-09 21:36:02</td>\n",
       "      <td>15398.0</td>\n",
       "    </tr>\n",
       "    <tr>\n",
       "      <th>2</th>\n",
       "      <td>4.854109e+17</td>\n",
       "      <td>2.955215e+07</td>\n",
       "      <td>0.0</td>\n",
       "      <td>0.0</td>\n",
       "      <td>0.0</td>\n",
       "      <td>0.0</td>\n",
       "      <td>0.0</td>\n",
       "      <td>0.0</td>\n",
       "      <td>2019-07-07 13:12:33</td>\n",
       "      <td>Dog sitting until 8 tonight. Again..</td>\n",
       "      <td>Chloe</td>\n",
       "      <td>xx-lc</td>\n",
       "      <td>0</td>\n",
       "      <td>2014-04-09 21:36:02</td>\n",
       "      <td>15398.0</td>\n",
       "    </tr>\n",
       "    <tr>\n",
       "      <th>3</th>\n",
       "      <td>1.683542e+15</td>\n",
       "      <td>2.955215e+07</td>\n",
       "      <td>0.0</td>\n",
       "      <td>NaN</td>\n",
       "      <td>0.0</td>\n",
       "      <td>NaN</td>\n",
       "      <td>0.0</td>\n",
       "      <td>NaN</td>\n",
       "      <td>2019-07-16 20:58:50</td>\n",
       "      <td>NaN</td>\n",
       "      <td>Chloe</td>\n",
       "      <td>xx-lc</td>\n",
       "      <td>0</td>\n",
       "      <td>2014-04-09 21:36:02</td>\n",
       "      <td>15398.0</td>\n",
       "    </tr>\n",
       "    <tr>\n",
       "      <th>4</th>\n",
       "      <td>7.055459e+09</td>\n",
       "      <td>2.955215e+07</td>\n",
       "      <td>NaN</td>\n",
       "      <td>0.0</td>\n",
       "      <td>NaN</td>\n",
       "      <td>0.0</td>\n",
       "      <td>0.0</td>\n",
       "      <td>0.0</td>\n",
       "      <td>2020-02-27 20:17:18</td>\n",
       "      <td>The chocolate is soooooooooooo amazing.</td>\n",
       "      <td>Chloe</td>\n",
       "      <td>xx-lc</td>\n",
       "      <td>0</td>\n",
       "      <td>2014-04-09 21:36:02</td>\n",
       "      <td>15398.0</td>\n",
       "    </tr>\n",
       "    <tr>\n",
       "      <th>...</th>\n",
       "      <td>...</td>\n",
       "      <td>...</td>\n",
       "      <td>...</td>\n",
       "      <td>...</td>\n",
       "      <td>...</td>\n",
       "      <td>...</td>\n",
       "      <td>...</td>\n",
       "      <td>...</td>\n",
       "      <td>...</td>\n",
       "      <td>...</td>\n",
       "      <td>...</td>\n",
       "      <td>...</td>\n",
       "      <td>...</td>\n",
       "      <td>...</td>\n",
       "      <td>...</td>\n",
       "    </tr>\n",
       "    <tr>\n",
       "      <th>2557</th>\n",
       "      <td>5.939970e+17</td>\n",
       "      <td>2.956614e+09</td>\n",
       "      <td>0.0</td>\n",
       "      <td>0.0</td>\n",
       "      <td>0.0</td>\n",
       "      <td>0.0</td>\n",
       "      <td>1.0</td>\n",
       "      <td>0.0</td>\n",
       "      <td>2020-05-02 04:35:05</td>\n",
       "      <td>I think even super heroes should rest at weeke...</td>\n",
       "      <td>Leanne Arker</td>\n",
       "      <td>select language...</td>\n",
       "      <td>0</td>\n",
       "      <td>2020-01-05 00:09:59</td>\n",
       "      <td>57.0</td>\n",
       "    </tr>\n",
       "    <tr>\n",
       "      <th>2558</th>\n",
       "      <td>5.939942e+17</td>\n",
       "      <td>2.956614e+09</td>\n",
       "      <td>0.0</td>\n",
       "      <td>0.0</td>\n",
       "      <td>1.0</td>\n",
       "      <td>0.0</td>\n",
       "      <td>1.0</td>\n",
       "      <td>1.0</td>\n",
       "      <td>2020-05-02 04:23:46</td>\n",
       "      <td>Another one for our files @Ruckdie  https://t....</td>\n",
       "      <td>Leanne Arker</td>\n",
       "      <td>select language...</td>\n",
       "      <td>0</td>\n",
       "      <td>2020-01-05 00:09:59</td>\n",
       "      <td>57.0</td>\n",
       "    </tr>\n",
       "    <tr>\n",
       "      <th>2559</th>\n",
       "      <td>5.811560e+17</td>\n",
       "      <td>2.956614e+09</td>\n",
       "      <td>3.0</td>\n",
       "      <td>0.0</td>\n",
       "      <td>0.0</td>\n",
       "      <td>0.0</td>\n",
       "      <td>0.0</td>\n",
       "      <td>2.0</td>\n",
       "      <td>2020-03-27 18:09:19</td>\n",
       "      <td>RT @laura_macd3: Cartoon Paddy in the Dom Post...</td>\n",
       "      <td>Leanne Arker</td>\n",
       "      <td>select language...</td>\n",
       "      <td>0</td>\n",
       "      <td>2020-01-05 00:09:59</td>\n",
       "      <td>57.0</td>\n",
       "    </tr>\n",
       "    <tr>\n",
       "      <th>2560</th>\n",
       "      <td>7.268000e+16</td>\n",
       "      <td>2.956614e+09</td>\n",
       "      <td>NaN</td>\n",
       "      <td>0.0</td>\n",
       "      <td>1.0</td>\n",
       "      <td>0.0</td>\n",
       "      <td>NaN</td>\n",
       "      <td>3.0</td>\n",
       "      <td>2020-05-01 19:38:48</td>\n",
       "      <td>@annabf @CampbellLiveNZ @UniteUnion well done</td>\n",
       "      <td>Leanne Arker</td>\n",
       "      <td>select language...</td>\n",
       "      <td>0</td>\n",
       "      <td>2020-01-05 00:09:59</td>\n",
       "      <td>57.0</td>\n",
       "    </tr>\n",
       "    <tr>\n",
       "      <th>2561</th>\n",
       "      <td>6.322436e+09</td>\n",
       "      <td>2.956614e+09</td>\n",
       "      <td>NaN</td>\n",
       "      <td>NaN</td>\n",
       "      <td>NaN</td>\n",
       "      <td>NaN</td>\n",
       "      <td>0.0</td>\n",
       "      <td>1.0</td>\n",
       "      <td>2020-04-13 20:18:05</td>\n",
       "      <td>RT @EverydaySexism: Waiting for #HillarysBigAn...</td>\n",
       "      <td>Leanne Arker</td>\n",
       "      <td>select language...</td>\n",
       "      <td>0</td>\n",
       "      <td>2020-01-05 00:09:59</td>\n",
       "      <td>57.0</td>\n",
       "    </tr>\n",
       "  </tbody>\n",
       "</table>\n",
       "<p>2562 rows × 15 columns</p>\n",
       "</div>"
      ],
      "text/plain": [
       "                id       user_id  retweet_count  reply_count  favorite_count  \\\n",
       "0     4.912745e+17  2.955215e+07            0.0          0.0             0.0   \n",
       "1     4.886930e+17  2.955215e+07            0.0          0.0             0.0   \n",
       "2     4.854109e+17  2.955215e+07            0.0          0.0             0.0   \n",
       "3     1.683542e+15  2.955215e+07            0.0          NaN             0.0   \n",
       "4     7.055459e+09  2.955215e+07            NaN          0.0             NaN   \n",
       "...            ...           ...            ...          ...             ...   \n",
       "2557  5.939970e+17  2.956614e+09            0.0          0.0             0.0   \n",
       "2558  5.939942e+17  2.956614e+09            0.0          0.0             1.0   \n",
       "2559  5.811560e+17  2.956614e+09            3.0          0.0             0.0   \n",
       "2560  7.268000e+16  2.956614e+09            NaN          0.0             1.0   \n",
       "2561  6.322436e+09  2.956614e+09            NaN          NaN             NaN   \n",
       "\n",
       "      num_hashtags  num_urls  num_mentions          created_at  \\\n",
       "0              0.0       0.0           0.0 2019-07-23 17:32:30   \n",
       "1              0.0       0.0           0.0 2019-07-16 14:34:25   \n",
       "2              0.0       0.0           0.0 2019-07-07 13:12:33   \n",
       "3              NaN       0.0           NaN 2019-07-16 20:58:50   \n",
       "4              0.0       0.0           0.0 2020-02-27 20:17:18   \n",
       "...            ...       ...           ...                 ...   \n",
       "2557           0.0       1.0           0.0 2020-05-02 04:35:05   \n",
       "2558           0.0       1.0           1.0 2020-05-02 04:23:46   \n",
       "2559           0.0       0.0           2.0 2020-03-27 18:09:19   \n",
       "2560           0.0       NaN           3.0 2020-05-01 19:38:48   \n",
       "2561           NaN       0.0           1.0 2020-04-13 20:18:05   \n",
       "\n",
       "                                                   text          name  \\\n",
       "0     Spent the majority of my day drawing around, c...        Chloe    \n",
       "1       We all love dem cuddles. http://t.co/fPrcnUfacS        Chloe    \n",
       "2                  Dog sitting until 8 tonight. Again..        Chloe    \n",
       "3                                                   NaN        Chloe    \n",
       "4               The chocolate is soooooooooooo amazing.        Chloe    \n",
       "...                                                 ...           ...   \n",
       "2557  I think even super heroes should rest at weeke...  Leanne Arker   \n",
       "2558  Another one for our files @Ruckdie  https://t....  Leanne Arker   \n",
       "2559  RT @laura_macd3: Cartoon Paddy in the Dom Post...  Leanne Arker   \n",
       "2560      @annabf @CampbellLiveNZ @UniteUnion well done  Leanne Arker   \n",
       "2561  RT @EverydaySexism: Waiting for #HillarysBigAn...  Leanne Arker   \n",
       "\n",
       "                    lang  bot    subscribing_date  statuses_count  \n",
       "0                  xx-lc    0 2014-04-09 21:36:02         15398.0  \n",
       "1                  xx-lc    0 2014-04-09 21:36:02         15398.0  \n",
       "2                  xx-lc    0 2014-04-09 21:36:02         15398.0  \n",
       "3                  xx-lc    0 2014-04-09 21:36:02         15398.0  \n",
       "4                  xx-lc    0 2014-04-09 21:36:02         15398.0  \n",
       "...                  ...  ...                 ...             ...  \n",
       "2557  select language...    0 2020-01-05 00:09:59            57.0  \n",
       "2558  select language...    0 2020-01-05 00:09:59            57.0  \n",
       "2559  select language...    0 2020-01-05 00:09:59            57.0  \n",
       "2560  select language...    0 2020-01-05 00:09:59            57.0  \n",
       "2561  select language...    0 2020-01-05 00:09:59            57.0  \n",
       "\n",
       "[2562 rows x 15 columns]"
      ]
     },
     "execution_count": 8,
     "metadata": {},
     "output_type": "execute_result"
    },
    {
     "data": {
      "image/png": "[encoded data removed]",
      "text/plain": [
       "<Figure size 640x480 with 1 Axes>"
      ]
     },
     "metadata": {},
     "output_type": "display_data"
    }
   ],
   "source": [
    "users['lang'] = users['lang'].str.lower()\n",
    "users['lang'].value_counts().plot(kind='bar', title='Languages count')\n",
    "\n",
    "users.rename(columns={\n",
    "    'id' : 'user_id',\n",
    "    'created_at' : 'subscribing_date'\n",
    "}, inplace=True)\n",
    "nal = users[(users['lang'] == 'select language...') | (users['lang'] == 'xx-lc')]\n",
    "\n",
    "text_nal = tweets.merge(nal, on='user_id')\n",
    "text_nal"
   ]
  },
  {
   "cell_type": "code",
   "execution_count": 9,
   "id": "04757d21",
   "metadata": {},
   "outputs": [
    {
     "data": {
      "text/html": [
       "<div>\n",
       "<style scoped>\n",
       "    .dataframe tbody tr th:only-of-type {\n",
       "        vertical-align: middle;\n",
       "    }\n",
       "\n",
       "    .dataframe tbody tr th {\n",
       "        vertical-align: top;\n",
       "    }\n",
       "\n",
       "    .dataframe thead th {\n",
       "        text-align: right;\n",
       "    }\n",
       "</style>\n",
       "<table border=\"1\" class=\"dataframe\">\n",
       "  <thead>\n",
       "    <tr style=\"text-align: right;\">\n",
       "      <th></th>\n",
       "      <th>id</th>\n",
       "      <th>user_id</th>\n",
       "      <th>retweet_count</th>\n",
       "      <th>reply_count</th>\n",
       "      <th>favorite_count</th>\n",
       "      <th>num_hashtags</th>\n",
       "      <th>num_urls</th>\n",
       "      <th>num_mentions</th>\n",
       "      <th>created_at</th>\n",
       "      <th>text</th>\n",
       "      <th>name</th>\n",
       "      <th>lang</th>\n",
       "      <th>bot</th>\n",
       "      <th>subscribing_date</th>\n",
       "      <th>statuses_count</th>\n",
       "    </tr>\n",
       "  </thead>\n",
       "  <tbody>\n",
       "    <tr>\n",
       "      <th>2484</th>\n",
       "      <td>5.866970e+17</td>\n",
       "      <td>2.956614e+09</td>\n",
       "      <td>0.0</td>\n",
       "      <td>0.0</td>\n",
       "      <td>0.0</td>\n",
       "      <td>0.0</td>\n",
       "      <td>0.0</td>\n",
       "      <td>1.0</td>\n",
       "      <td>2020-04-12 01:07:12</td>\n",
       "      <td>@bernardchickey I've heard of something called...</td>\n",
       "      <td>Leanne Arker</td>\n",
       "      <td>select language...</td>\n",
       "      <td>0</td>\n",
       "      <td>2020-01-05 00:09:59</td>\n",
       "      <td>57.0</td>\n",
       "    </tr>\n",
       "    <tr>\n",
       "      <th>2485</th>\n",
       "      <td>5.601363e+17</td>\n",
       "      <td>2.956614e+09</td>\n",
       "      <td>13933.0</td>\n",
       "      <td>0.0</td>\n",
       "      <td>0.0</td>\n",
       "      <td>0.0</td>\n",
       "      <td>0.0</td>\n",
       "      <td>2.0</td>\n",
       "      <td>2020-01-29 18:04:45</td>\n",
       "      <td>RT @stephenfry: If physical diseases were trea...</td>\n",
       "      <td>Leanne Arker</td>\n",
       "      <td>select language...</td>\n",
       "      <td>0</td>\n",
       "      <td>2020-01-05 00:09:59</td>\n",
       "      <td>57.0</td>\n",
       "    </tr>\n",
       "    <tr>\n",
       "      <th>2486</th>\n",
       "      <td>5.751565e+17</td>\n",
       "      <td>2.956614e+09</td>\n",
       "      <td>0.0</td>\n",
       "      <td>0.0</td>\n",
       "      <td>0.0</td>\n",
       "      <td>0.0</td>\n",
       "      <td>0.0</td>\n",
       "      <td>1.0</td>\n",
       "      <td>2020-03-11 04:49:27</td>\n",
       "      <td>@Hilary_Barry Gives new meaning to the term sl...</td>\n",
       "      <td>Leanne Arker</td>\n",
       "      <td>select language...</td>\n",
       "      <td>0</td>\n",
       "      <td>2020-01-05 00:09:59</td>\n",
       "      <td>57.0</td>\n",
       "    </tr>\n",
       "    <tr>\n",
       "      <th>2487</th>\n",
       "      <td>NaN</td>\n",
       "      <td>2.956614e+09</td>\n",
       "      <td>9.0</td>\n",
       "      <td>0.0</td>\n",
       "      <td>0.0</td>\n",
       "      <td>NaN</td>\n",
       "      <td>NaN</td>\n",
       "      <td>NaN</td>\n",
       "      <td>2020-03-26 19:04:58</td>\n",
       "      <td>NaN</td>\n",
       "      <td>Leanne Arker</td>\n",
       "      <td>select language...</td>\n",
       "      <td>0</td>\n",
       "      <td>2020-01-05 00:09:59</td>\n",
       "      <td>57.0</td>\n",
       "    </tr>\n",
       "    <tr>\n",
       "      <th>2488</th>\n",
       "      <td>5.925147e+17</td>\n",
       "      <td>2.956614e+09</td>\n",
       "      <td>253.0</td>\n",
       "      <td>0.0</td>\n",
       "      <td>0.0</td>\n",
       "      <td>1.0</td>\n",
       "      <td>0.0</td>\n",
       "      <td>1.0</td>\n",
       "      <td>2020-04-28 02:24:59</td>\n",
       "      <td>RT @philipreeve: Help. If you c medal tweet me...</td>\n",
       "      <td>Leanne Arker</td>\n",
       "      <td>select language...</td>\n",
       "      <td>0</td>\n",
       "      <td>2020-01-05 00:09:59</td>\n",
       "      <td>57.0</td>\n",
       "    </tr>\n",
       "    <tr>\n",
       "      <th>...</th>\n",
       "      <td>...</td>\n",
       "      <td>...</td>\n",
       "      <td>...</td>\n",
       "      <td>...</td>\n",
       "      <td>...</td>\n",
       "      <td>...</td>\n",
       "      <td>...</td>\n",
       "      <td>...</td>\n",
       "      <td>...</td>\n",
       "      <td>...</td>\n",
       "      <td>...</td>\n",
       "      <td>...</td>\n",
       "      <td>...</td>\n",
       "      <td>...</td>\n",
       "      <td>...</td>\n",
       "    </tr>\n",
       "    <tr>\n",
       "      <th>2557</th>\n",
       "      <td>5.939970e+17</td>\n",
       "      <td>2.956614e+09</td>\n",
       "      <td>0.0</td>\n",
       "      <td>0.0</td>\n",
       "      <td>0.0</td>\n",
       "      <td>0.0</td>\n",
       "      <td>1.0</td>\n",
       "      <td>0.0</td>\n",
       "      <td>2020-05-02 04:35:05</td>\n",
       "      <td>I think even super heroes should rest at weeke...</td>\n",
       "      <td>Leanne Arker</td>\n",
       "      <td>select language...</td>\n",
       "      <td>0</td>\n",
       "      <td>2020-01-05 00:09:59</td>\n",
       "      <td>57.0</td>\n",
       "    </tr>\n",
       "    <tr>\n",
       "      <th>2558</th>\n",
       "      <td>5.939942e+17</td>\n",
       "      <td>2.956614e+09</td>\n",
       "      <td>0.0</td>\n",
       "      <td>0.0</td>\n",
       "      <td>1.0</td>\n",
       "      <td>0.0</td>\n",
       "      <td>1.0</td>\n",
       "      <td>1.0</td>\n",
       "      <td>2020-05-02 04:23:46</td>\n",
       "      <td>Another one for our files @Ruckdie  https://t....</td>\n",
       "      <td>Leanne Arker</td>\n",
       "      <td>select language...</td>\n",
       "      <td>0</td>\n",
       "      <td>2020-01-05 00:09:59</td>\n",
       "      <td>57.0</td>\n",
       "    </tr>\n",
       "    <tr>\n",
       "      <th>2559</th>\n",
       "      <td>5.811560e+17</td>\n",
       "      <td>2.956614e+09</td>\n",
       "      <td>3.0</td>\n",
       "      <td>0.0</td>\n",
       "      <td>0.0</td>\n",
       "      <td>0.0</td>\n",
       "      <td>0.0</td>\n",
       "      <td>2.0</td>\n",
       "      <td>2020-03-27 18:09:19</td>\n",
       "      <td>RT @laura_macd3: Cartoon Paddy in the Dom Post...</td>\n",
       "      <td>Leanne Arker</td>\n",
       "      <td>select language...</td>\n",
       "      <td>0</td>\n",
       "      <td>2020-01-05 00:09:59</td>\n",
       "      <td>57.0</td>\n",
       "    </tr>\n",
       "    <tr>\n",
       "      <th>2560</th>\n",
       "      <td>7.268000e+16</td>\n",
       "      <td>2.956614e+09</td>\n",
       "      <td>NaN</td>\n",
       "      <td>0.0</td>\n",
       "      <td>1.0</td>\n",
       "      <td>0.0</td>\n",
       "      <td>NaN</td>\n",
       "      <td>3.0</td>\n",
       "      <td>2020-05-01 19:38:48</td>\n",
       "      <td>@annabf @CampbellLiveNZ @UniteUnion well done</td>\n",
       "      <td>Leanne Arker</td>\n",
       "      <td>select language...</td>\n",
       "      <td>0</td>\n",
       "      <td>2020-01-05 00:09:59</td>\n",
       "      <td>57.0</td>\n",
       "    </tr>\n",
       "    <tr>\n",
       "      <th>2561</th>\n",
       "      <td>6.322436e+09</td>\n",
       "      <td>2.956614e+09</td>\n",
       "      <td>NaN</td>\n",
       "      <td>NaN</td>\n",
       "      <td>NaN</td>\n",
       "      <td>NaN</td>\n",
       "      <td>0.0</td>\n",
       "      <td>1.0</td>\n",
       "      <td>2020-04-13 20:18:05</td>\n",
       "      <td>RT @EverydaySexism: Waiting for #HillarysBigAn...</td>\n",
       "      <td>Leanne Arker</td>\n",
       "      <td>select language...</td>\n",
       "      <td>0</td>\n",
       "      <td>2020-01-05 00:09:59</td>\n",
       "      <td>57.0</td>\n",
       "    </tr>\n",
       "  </tbody>\n",
       "</table>\n",
       "<p>78 rows × 15 columns</p>\n",
       "</div>"
      ],
      "text/plain": [
       "                id       user_id  retweet_count  reply_count  favorite_count  \\\n",
       "2484  5.866970e+17  2.956614e+09            0.0          0.0             0.0   \n",
       "2485  5.601363e+17  2.956614e+09        13933.0          0.0             0.0   \n",
       "2486  5.751565e+17  2.956614e+09            0.0          0.0             0.0   \n",
       "2487           NaN  2.956614e+09            9.0          0.0             0.0   \n",
       "2488  5.925147e+17  2.956614e+09          253.0          0.0             0.0   \n",
       "...            ...           ...            ...          ...             ...   \n",
       "2557  5.939970e+17  2.956614e+09            0.0          0.0             0.0   \n",
       "2558  5.939942e+17  2.956614e+09            0.0          0.0             1.0   \n",
       "2559  5.811560e+17  2.956614e+09            3.0          0.0             0.0   \n",
       "2560  7.268000e+16  2.956614e+09            NaN          0.0             1.0   \n",
       "2561  6.322436e+09  2.956614e+09            NaN          NaN             NaN   \n",
       "\n",
       "      num_hashtags  num_urls  num_mentions          created_at  \\\n",
       "2484           0.0       0.0           1.0 2020-04-12 01:07:12   \n",
       "2485           0.0       0.0           2.0 2020-01-29 18:04:45   \n",
       "2486           0.0       0.0           1.0 2020-03-11 04:49:27   \n",
       "2487           NaN       NaN           NaN 2020-03-26 19:04:58   \n",
       "2488           1.0       0.0           1.0 2020-04-28 02:24:59   \n",
       "...            ...       ...           ...                 ...   \n",
       "2557           0.0       1.0           0.0 2020-05-02 04:35:05   \n",
       "2558           0.0       1.0           1.0 2020-05-02 04:23:46   \n",
       "2559           0.0       0.0           2.0 2020-03-27 18:09:19   \n",
       "2560           0.0       NaN           3.0 2020-05-01 19:38:48   \n",
       "2561           NaN       0.0           1.0 2020-04-13 20:18:05   \n",
       "\n",
       "                                                   text          name  \\\n",
       "2484  @bernardchickey I've heard of something called...  Leanne Arker   \n",
       "2485  RT @stephenfry: If physical diseases were trea...  Leanne Arker   \n",
       "2486  @Hilary_Barry Gives new meaning to the term sl...  Leanne Arker   \n",
       "2487                                                NaN  Leanne Arker   \n",
       "2488  RT @philipreeve: Help. If you c medal tweet me...  Leanne Arker   \n",
       "...                                                 ...           ...   \n",
       "2557  I think even super heroes should rest at weeke...  Leanne Arker   \n",
       "2558  Another one for our files @Ruckdie  https://t....  Leanne Arker   \n",
       "2559  RT @laura_macd3: Cartoon Paddy in the Dom Post...  Leanne Arker   \n",
       "2560      @annabf @CampbellLiveNZ @UniteUnion well done  Leanne Arker   \n",
       "2561  RT @EverydaySexism: Waiting for #HillarysBigAn...  Leanne Arker   \n",
       "\n",
       "                    lang  bot    subscribing_date  statuses_count  \n",
       "2484  select language...    0 2020-01-05 00:09:59            57.0  \n",
       "2485  select language...    0 2020-01-05 00:09:59            57.0  \n",
       "2486  select language...    0 2020-01-05 00:09:59            57.0  \n",
       "2487  select language...    0 2020-01-05 00:09:59            57.0  \n",
       "2488  select language...    0 2020-01-05 00:09:59            57.0  \n",
       "...                  ...  ...                 ...             ...  \n",
       "2557  select language...    0 2020-01-05 00:09:59            57.0  \n",
       "2558  select language...    0 2020-01-05 00:09:59            57.0  \n",
       "2559  select language...    0 2020-01-05 00:09:59            57.0  \n",
       "2560  select language...    0 2020-01-05 00:09:59            57.0  \n",
       "2561  select language...    0 2020-01-05 00:09:59            57.0  \n",
       "\n",
       "[78 rows x 15 columns]"
      ]
     },
     "execution_count": 9,
     "metadata": {},
     "output_type": "execute_result"
    }
   ],
   "source": [
    "text_nal[text_nal['name'] == 'Leanne Arker']"
   ]
  },
  {
   "cell_type": "markdown",
   "id": "811e090f",
   "metadata": {},
   "source": [
    "Visti i tweet tutti so inglesi"
   ]
  },
  {
   "cell_type": "code",
   "execution_count": 10,
   "id": "d7a546e4",
   "metadata": {},
   "outputs": [],
   "source": [
    "users['lang'].replace('select language...', 'en', inplace=True)\n",
    "users['lang'].replace('xx-lc', 'en', inplace=True)"
   ]
  },
  {
   "cell_type": "markdown",
   "id": "8dbbac16",
   "metadata": {},
   "source": [
    "### Bot Analysis"
   ]
  },
  {
   "cell_type": "markdown",
   "id": "64b978ba",
   "metadata": {},
   "source": [
    "Check if there are only 0 and 1 values"
   ]
  },
  {
   "cell_type": "code",
   "execution_count": 11,
   "id": "1eea843e",
   "metadata": {},
   "outputs": [
    {
     "data": {
      "text/plain": [
       "array([1, 0])"
      ]
     },
     "execution_count": 11,
     "metadata": {},
     "output_type": "execute_result"
    }
   ],
   "source": [
    "users.bot.unique()"
   ]
  },
  {
   "cell_type": "markdown",
   "id": "a44a707e",
   "metadata": {},
   "source": [
    "### Statues Count analysis"
   ]
  },
  {
   "cell_type": "markdown",
   "id": "089067b3",
   "metadata": {},
   "source": [
    "Calculate for each user how much tweets we have in tweets.csv"
   ]
  },
  {
   "cell_type": "code",
   "execution_count": 12,
   "id": "087d1ca9",
   "metadata": {},
   "outputs": [
    {
     "data": {
      "text/plain": [
       "53176053.0"
      ]
     },
     "execution_count": 12,
     "metadata": {},
     "output_type": "execute_result"
    }
   ],
   "source": [
    "\n",
    "count = tweets.groupby('user_id', as_index=False)['user_id'].count()\n",
    "\n",
    "#cnt['count'] = tweets.groupby(by='user_id', as_index=False, dropna=False)['user_id'].count()\n",
    "c = users\n",
    "c.sort_values('user_id')\n",
    "c['count'] = count\n",
    "c['statuses_count'].sum() - c['count'].sum()\n",
    "\n",
    "#max = tweets.groupby('user_id', as_index=False).count()\n",
    "#max['max'] = max.max(axis=0)\n",
    "#max"
   ]
  },
  {
   "cell_type": "code",
   "execution_count": 13,
   "id": "0a0fdcb2",
   "metadata": {},
   "outputs": [
    {
     "data": {
      "text/plain": [
       "152.0"
      ]
     },
     "execution_count": 13,
     "metadata": {},
     "output_type": "execute_result"
    }
   ],
   "source": [
    "c['count'].median()"
   ]
  },
  {
   "cell_type": "markdown",
   "id": "d423a838",
   "metadata": {},
   "source": [
    "### User's created at analysis (previously we changed the name of the attribute in 'subscribing_date')"
   ]
  },
  {
   "cell_type": "code",
   "execution_count": 14,
   "id": "9a0592bb",
   "metadata": {},
   "outputs": [
    {
     "data": {
      "text/html": [
       "<div>\n",
       "<style scoped>\n",
       "    .dataframe tbody tr th:only-of-type {\n",
       "        vertical-align: middle;\n",
       "    }\n",
       "\n",
       "    .dataframe tbody tr th {\n",
       "        vertical-align: top;\n",
       "    }\n",
       "\n",
       "    .dataframe thead th {\n",
       "        text-align: right;\n",
       "    }\n",
       "</style>\n",
       "<table border=\"1\" class=\"dataframe\">\n",
       "  <thead>\n",
       "    <tr style=\"text-align: right;\">\n",
       "      <th></th>\n",
       "      <th>user_id</th>\n",
       "      <th>name</th>\n",
       "      <th>lang</th>\n",
       "      <th>bot</th>\n",
       "      <th>subscribing_date</th>\n",
       "      <th>statuses_count</th>\n",
       "      <th>count</th>\n",
       "    </tr>\n",
       "  </thead>\n",
       "  <tbody>\n",
       "  </tbody>\n",
       "</table>\n",
       "</div>"
      ],
      "text/plain": [
       "Empty DataFrame\n",
       "Columns: [user_id, name, lang, bot, subscribing_date, statuses_count, count]\n",
       "Index: []"
      ]
     },
     "execution_count": 14,
     "metadata": {},
     "output_type": "execute_result"
    }
   ],
   "source": [
    "users[users['subscribing_date'] > datetime.now()]"
   ]
  },
  {
   "cell_type": "code",
   "execution_count": 15,
   "id": "a5007859",
   "metadata": {},
   "outputs": [
    {
     "data": {
      "text/html": [
       "<div>\n",
       "<style scoped>\n",
       "    .dataframe tbody tr th:only-of-type {\n",
       "        vertical-align: middle;\n",
       "    }\n",
       "\n",
       "    .dataframe tbody tr th {\n",
       "        vertical-align: top;\n",
       "    }\n",
       "\n",
       "    .dataframe thead th {\n",
       "        text-align: right;\n",
       "    }\n",
       "</style>\n",
       "<table border=\"1\" class=\"dataframe\">\n",
       "  <thead>\n",
       "    <tr style=\"text-align: right;\">\n",
       "      <th></th>\n",
       "      <th>user_id</th>\n",
       "      <th>name</th>\n",
       "      <th>lang</th>\n",
       "      <th>bot</th>\n",
       "      <th>subscribing_date</th>\n",
       "      <th>statuses_count</th>\n",
       "      <th>count</th>\n",
       "    </tr>\n",
       "  </thead>\n",
       "  <tbody>\n",
       "  </tbody>\n",
       "</table>\n",
       "</div>"
      ],
      "text/plain": [
       "Empty DataFrame\n",
       "Columns: [user_id, name, lang, bot, subscribing_date, statuses_count, count]\n",
       "Index: []"
      ]
     },
     "execution_count": 15,
     "metadata": {},
     "output_type": "execute_result"
    }
   ],
   "source": [
    "users[users['subscribing_date'] < datetime.strptime(\"2006-07-15 00:00:00\", \"%Y-%m-%d %H:%M:%S\")]"
   ]
  },
  {
   "cell_type": "markdown",
   "id": "af143b50",
   "metadata": {},
   "source": [
    "Non cene di timestamp sbagliati in italia"
   ]
  },
  {
   "cell_type": "markdown",
   "id": "fd8ae053",
   "metadata": {},
   "source": [
    "### Resulting Plots"
   ]
  },
  {
   "cell_type": "code",
   "execution_count": 16,
   "id": "2981d999",
   "metadata": {},
   "outputs": [
    {
     "data": {
      "image/png": "[encoded data removed]",
      "text/plain": [
       "<Figure size 2000x2300 with 2 Axes>"
      ]
     },
     "metadata": {},
     "output_type": "display_data"
    }
   ],
   "source": [
    "fig = plt.figure(figsize=(20,23))\n",
    "fig_dims = (4,2)\n",
    "fig.subplots_adjust(hspace=0.4, wspace=0.4)\n",
    "\n",
    "###fig 1\n",
    "plt.subplot2grid(fig_dims, (0,0))\n",
    "users['lang'].value_counts().plot(kind='bar', title='Languages count')\n",
    "plt.yscale('log')\n",
    "\n",
    "###fig 2\n",
    "plt.subplot2grid(fig_dims, (0,1))\n",
    "users['bot'].value_counts().plot(kind='bar', title='Bots count')\n",
    "\n",
    "plt.show()"
   ]
  },
  {
   "cell_type": "markdown",
   "id": "f333b9b0",
   "metadata": {},
   "source": [
    "## Tweets Analysis"
   ]
  },
  {
   "cell_type": "markdown",
   "id": "eb54f558",
   "metadata": {},
   "source": [
    "### Drop duplicates"
   ]
  },
  {
   "cell_type": "code",
   "execution_count": 17,
   "id": "fc8bc2ce",
   "metadata": {},
   "outputs": [
    {
     "name": "stdout",
     "output_type": "stream",
     "text": [
      "Dropped 1952099 duplicates\n"
     ]
    }
   ],
   "source": [
    "count = tweets['id'].count()\n",
    "tweets.drop_duplicates(inplace=True)\n",
    "print(\"Dropped \" + str(count - tweets['id'].count()) + \" duplicates\")"
   ]
  },
  {
   "cell_type": "markdown",
   "id": "a9a5ceae",
   "metadata": {},
   "source": [
    "### Replace NaN values in 'id'"
   ]
  },
  {
   "cell_type": "markdown",
   "id": "7a370f23",
   "metadata": {},
   "source": [
    "Replace nan values with a value (-1) that indicates that this information is missing"
   ]
  },
  {
   "cell_type": "code",
   "execution_count": 18,
   "id": "85def117",
   "metadata": {},
   "outputs": [],
   "source": [
    "tweets['id'].replace(math.inf, math.nan, inplace=True)\n",
    "\n",
    "tweets.loc[tweets['id'].isna(), 'id'] = -1"
   ]
  },
  {
   "cell_type": "markdown",
   "id": "7cbcf5f3",
   "metadata": {},
   "source": [
    "Check if there are some id duplicated"
   ]
  },
  {
   "cell_type": "code",
   "execution_count": 19,
   "id": "3057b75b",
   "metadata": {},
   "outputs": [
    {
     "data": {
      "text/html": [
       "<div>\n",
       "<style scoped>\n",
       "    .dataframe tbody tr th:only-of-type {\n",
       "        vertical-align: middle;\n",
       "    }\n",
       "\n",
       "    .dataframe tbody tr th {\n",
       "        vertical-align: top;\n",
       "    }\n",
       "\n",
       "    .dataframe thead th {\n",
       "        text-align: right;\n",
       "    }\n",
       "</style>\n",
       "<table border=\"1\" class=\"dataframe\">\n",
       "  <thead>\n",
       "    <tr style=\"text-align: right;\">\n",
       "      <th></th>\n",
       "      <th>id</th>\n",
       "      <th>user_id</th>\n",
       "      <th>retweet_count</th>\n",
       "      <th>reply_count</th>\n",
       "      <th>favorite_count</th>\n",
       "      <th>num_hashtags</th>\n",
       "      <th>num_urls</th>\n",
       "      <th>num_mentions</th>\n",
       "      <th>created_at</th>\n",
       "      <th>text</th>\n",
       "    </tr>\n",
       "  </thead>\n",
       "  <tbody>\n",
       "    <tr>\n",
       "      <th>8592560</th>\n",
       "      <td>218442.0</td>\n",
       "      <td>4.663176e+08</td>\n",
       "      <td>0.0</td>\n",
       "      <td>NaN</td>\n",
       "      <td>0.0</td>\n",
       "      <td>NaN</td>\n",
       "      <td>NaN</td>\n",
       "      <td>NaN</td>\n",
       "      <td>2019-09-05 06:37:24</td>\n",
       "      <td>NaN</td>\n",
       "    </tr>\n",
       "    <tr>\n",
       "      <th>3498751</th>\n",
       "      <td>218442.0</td>\n",
       "      <td>2.380298e+09</td>\n",
       "      <td>0.0</td>\n",
       "      <td>0.0</td>\n",
       "      <td>0.0</td>\n",
       "      <td>NaN</td>\n",
       "      <td>NaN</td>\n",
       "      <td>NaN</td>\n",
       "      <td>2019-05-03 09:50:40</td>\n",
       "      <td>NaN</td>\n",
       "    </tr>\n",
       "    <tr>\n",
       "      <th>7967612</th>\n",
       "      <td>261723.0</td>\n",
       "      <td>2.877875e+09</td>\n",
       "      <td>285.0</td>\n",
       "      <td>0.0</td>\n",
       "      <td>NaN</td>\n",
       "      <td>0.0</td>\n",
       "      <td>NaN</td>\n",
       "      <td>1.0</td>\n",
       "      <td>2020-01-11 07:55:12</td>\n",
       "      <td>RT @LOLGOP: For the cost of the Iraq War, we c...</td>\n",
       "    </tr>\n",
       "    <tr>\n",
       "      <th>10205294</th>\n",
       "      <td>261723.0</td>\n",
       "      <td>4.670607e+08</td>\n",
       "      <td>NaN</td>\n",
       "      <td>0.0</td>\n",
       "      <td>NaN</td>\n",
       "      <td>1.0</td>\n",
       "      <td>0.0</td>\n",
       "      <td>0.0</td>\n",
       "      <td>2019-09-17 19:36:23</td>\n",
       "      <td>In paradiso non c'e' sesso. Approfittatene ade...</td>\n",
       "    </tr>\n",
       "    <tr>\n",
       "      <th>13085390</th>\n",
       "      <td>457781.0</td>\n",
       "      <td>NaN</td>\n",
       "      <td>NaN</td>\n",
       "      <td>NaN</td>\n",
       "      <td>NaN</td>\n",
       "      <td>NaN</td>\n",
       "      <td>NaN</td>\n",
       "      <td>NaN</td>\n",
       "      <td>2020-04-28 15:05:38</td>\n",
       "      <td>@twistynipple did they</td>\n",
       "    </tr>\n",
       "    <tr>\n",
       "      <th>10408486</th>\n",
       "      <td>457781.0</td>\n",
       "      <td>NaN</td>\n",
       "      <td>NaN</td>\n",
       "      <td>NaN</td>\n",
       "      <td>NaN</td>\n",
       "      <td>NaN</td>\n",
       "      <td>NaN</td>\n",
       "      <td>NaN</td>\n",
       "      <td>2020-01-29 02:53:42</td>\n",
       "      <td>@noraxxalien stupid</td>\n",
       "    </tr>\n",
       "    <tr>\n",
       "      <th>12205716</th>\n",
       "      <td>558867.0</td>\n",
       "      <td>4.716197e+07</td>\n",
       "      <td>NaN</td>\n",
       "      <td>NaN</td>\n",
       "      <td>0.0</td>\n",
       "      <td>NaN</td>\n",
       "      <td>0.0</td>\n",
       "      <td>NaN</td>\n",
       "      <td>2017-05-17 22:32:44</td>\n",
       "      <td>NaN</td>\n",
       "    </tr>\n",
       "    <tr>\n",
       "      <th>10807050</th>\n",
       "      <td>558867.0</td>\n",
       "      <td>NaN</td>\n",
       "      <td>0.0</td>\n",
       "      <td>NaN</td>\n",
       "      <td>NaN</td>\n",
       "      <td>NaN</td>\n",
       "      <td>0.0</td>\n",
       "      <td>NaN</td>\n",
       "      <td>2019-04-05 03:10:53</td>\n",
       "      <td>NaN</td>\n",
       "    </tr>\n",
       "    <tr>\n",
       "      <th>805194</th>\n",
       "      <td>785227.0</td>\n",
       "      <td>7.080435e+08</td>\n",
       "      <td>0.0</td>\n",
       "      <td>0.0</td>\n",
       "      <td>NaN</td>\n",
       "      <td>NaN</td>\n",
       "      <td>0.0</td>\n",
       "      <td>0.0</td>\n",
       "      <td>2020-02-06 11:57:16</td>\n",
       "      <td>@MichaelbMedlin HA u got me</td>\n",
       "    </tr>\n",
       "    <tr>\n",
       "      <th>13549631</th>\n",
       "      <td>785227.0</td>\n",
       "      <td>NaN</td>\n",
       "      <td>590.0</td>\n",
       "      <td>0.0</td>\n",
       "      <td>0.0</td>\n",
       "      <td>0.0</td>\n",
       "      <td>1.0</td>\n",
       "      <td>NaN</td>\n",
       "      <td>2019-06-22 16:30:35</td>\n",
       "      <td>RT @zullylully: You raised your daughter right</td>\n",
       "    </tr>\n",
       "  </tbody>\n",
       "</table>\n",
       "</div>"
      ],
      "text/plain": [
       "                id       user_id  retweet_count  reply_count  favorite_count  \\\n",
       "8592560   218442.0  4.663176e+08            0.0          NaN             0.0   \n",
       "3498751   218442.0  2.380298e+09            0.0          0.0             0.0   \n",
       "7967612   261723.0  2.877875e+09          285.0          0.0             NaN   \n",
       "10205294  261723.0  4.670607e+08            NaN          0.0             NaN   \n",
       "13085390  457781.0           NaN            NaN          NaN             NaN   \n",
       "10408486  457781.0           NaN            NaN          NaN             NaN   \n",
       "12205716  558867.0  4.716197e+07            NaN          NaN             0.0   \n",
       "10807050  558867.0           NaN            0.0          NaN             NaN   \n",
       "805194    785227.0  7.080435e+08            0.0          0.0             NaN   \n",
       "13549631  785227.0           NaN          590.0          0.0             0.0   \n",
       "\n",
       "          num_hashtags  num_urls  num_mentions          created_at  \\\n",
       "8592560            NaN       NaN           NaN 2019-09-05 06:37:24   \n",
       "3498751            NaN       NaN           NaN 2019-05-03 09:50:40   \n",
       "7967612            0.0       NaN           1.0 2020-01-11 07:55:12   \n",
       "10205294           1.0       0.0           0.0 2019-09-17 19:36:23   \n",
       "13085390           NaN       NaN           NaN 2020-04-28 15:05:38   \n",
       "10408486           NaN       NaN           NaN 2020-01-29 02:53:42   \n",
       "12205716           NaN       0.0           NaN 2017-05-17 22:32:44   \n",
       "10807050           NaN       0.0           NaN 2019-04-05 03:10:53   \n",
       "805194             NaN       0.0           0.0 2020-02-06 11:57:16   \n",
       "13549631           0.0       1.0           NaN 2019-06-22 16:30:35   \n",
       "\n",
       "                                                       text  \n",
       "8592560                                                 NaN  \n",
       "3498751                                                 NaN  \n",
       "7967612   RT @LOLGOP: For the cost of the Iraq War, we c...  \n",
       "10205294  In paradiso non c'e' sesso. Approfittatene ade...  \n",
       "13085390                             @twistynipple did they  \n",
       "10408486                                @noraxxalien stupid  \n",
       "12205716                                                NaN  \n",
       "10807050                                                NaN  \n",
       "805194                          @MichaelbMedlin HA u got me  \n",
       "13549631    RT @zullylully: You raised your daughter right   "
      ]
     },
     "execution_count": 19,
     "metadata": {},
     "output_type": "execute_result"
    }
   ],
   "source": [
    "mask = tweets.duplicated('id', keep=False)\n",
    "duplicated_id = tweets[(mask) & (tweets['id'] != -1)]\n",
    "duplicated_id.sort_values('id').head(10)"
   ]
  },
  {
   "cell_type": "markdown",
   "id": "f0e5052f",
   "metadata": {},
   "source": [
    "Assign -1 to all the id duplicated"
   ]
  },
  {
   "cell_type": "code",
   "execution_count": 20,
   "id": "be134e1f",
   "metadata": {},
   "outputs": [],
   "source": [
    "tweets.loc[(mask) & (tweets['id'] != -1), 'id'] = -1"
   ]
  },
  {
   "cell_type": "markdown",
   "id": "d76d9bb5",
   "metadata": {},
   "source": [
    "### Infer num_hashtags, num_urls and num_mentions"
   ]
  },
  {
   "cell_type": "code",
   "execution_count": 21,
   "id": "2c46b878",
   "metadata": {},
   "outputs": [
    {
     "name": "stdout",
     "output_type": "stream",
     "text": [
      "num_hashtags nan: 1163675 num_mentions nan: 987988 num_urls nan: 987988\n",
      "num_hashtags nan: 489183 num_mentions nan: 488513 num_urls nan: 488513\n"
     ]
    }
   ],
   "source": [
    "tweets['infer_hashtags'] = tweets.text.str.count('#')\n",
    "tweets['infer_mentions'] = tweets.text.str.count('@')\n",
    "tweets['infer_urls'] = tweets.text.str.count('http://')\n",
    "\n",
    "print(\"num_hashtags nan: \" + str(tweets['num_hashtags'].isna().sum()) + \\\n",
    "      \" num_mentions nan: \" + str(tweets['num_mentions'].isna().sum()) + \\\n",
    "      \" num_urls nan: \" + str(tweets['num_mentions'].isna().sum()))\n",
    "\n",
    "tweets['num_hashtags'] = tweets['num_hashtags'].fillna(tweets['infer_hashtags'])\n",
    "tweets['num_mentions'] = tweets['num_mentions'].fillna(tweets['infer_mentions'])\n",
    "tweets['num_urls'] = tweets['num_urls'].fillna(tweets['infer_urls'])\n",
    "\n",
    "print(\"num_hashtags nan: \" + str(tweets['num_hashtags'].isna().sum()) + \\\n",
    "      \" num_mentions nan: \" + str(tweets['num_mentions'].isna().sum()) + \\\n",
    "      \" num_urls nan: \" + str(tweets['num_mentions'].isna().sum()))\n",
    "\n",
    "tweets.drop(columns=['infer_hashtags', 'infer_mentions', 'infer_urls'], inplace=True)"
   ]
  },
  {
   "cell_type": "markdown",
   "id": "2372ab74",
   "metadata": {},
   "source": [
    "### Replace NaN values in tweets"
   ]
  },
  {
   "cell_type": "code",
   "execution_count": 22,
   "id": "f2751746",
   "metadata": {},
   "outputs": [
    {
     "name": "stderr",
     "output_type": "stream",
     "text": [
      "/var/folders/h4/5wp1mt_n1k72n6zcf7wxd6bc0000gn/T/ipykernel_10975/700711532.py:2: FutureWarning: The default value of numeric_only in DataFrameGroupBy.mean is deprecated. In a future version, numeric_only will default to False. Either specify numeric_only or select only columns which should be valid for the function.\n",
      "  user_median = t.groupby('user_id', as_index=False).mean()\n"
     ]
    },
    {
     "name": "stdout",
     "output_type": "stream",
     "text": [
      "retweet_count nan: 518684, reply_count nan: 654509, favorite_count nan: 653433, num_hashtags nan: 377024, num_mentions nan: 376488, num_urls nan: 244865\n",
      "retweet_count nan: 172, reply_count nan: 344, favorite_count nan: 247, num_hashtags nan: 170, num_mentions nan: 170, num_urls nan: 88\n"
     ]
    }
   ],
   "source": [
    "t = tweets\n",
    "user_median = t.groupby('user_id', as_index=False).mean()\n",
    "user_median.rename(columns={\n",
    "    'retweet_count' : 'retweet_median',\n",
    "    'reply_count' : 'reply_median',\n",
    "    'favorite_count' : 'favorite_median',\n",
    "    'num_hashtags' : 'hashtags_median',\n",
    "    'num_urls' : 'urls_median',\n",
    "    'num_mentions' : 'mentions_median'\n",
    "}, inplace=True)\n",
    "user_median.drop(columns=['id'], inplace=True)\n",
    "tweets = t.merge(user_median, on='user_id')\n",
    "\n",
    "print(\"retweet_count nan: \" + str(tweets['retweet_count'].isna().sum()) + \\\n",
    "      \", reply_count nan: \" + str(tweets['reply_count'].isna().sum()) + \\\n",
    "      \", favorite_count nan: \" + str(tweets['favorite_count'].isna().sum()) + \\\n",
    "      \", num_hashtags nan: \" + str(tweets['num_hashtags'].isna().sum()) + \\\n",
    "      \", num_mentions nan: \" + str(tweets['num_mentions'].isna().sum()) + \\\n",
    "      \", num_urls nan: \" + str(tweets['num_urls'].isna().sum()))\n",
    "\n",
    "#sostituzione valori\n",
    "tweets['retweet_count'] = tweets['retweet_count'].fillna(tweets['retweet_median'])\n",
    "tweets['reply_count'] = tweets['reply_count'].fillna(tweets['reply_median'])\n",
    "tweets['favorite_count'] = tweets['favorite_count'].fillna(tweets['favorite_median'])\n",
    "tweets['num_hashtags'] = tweets['num_hashtags'].fillna(tweets['hashtags_median'])\n",
    "tweets['num_mentions'] = tweets['num_mentions'].fillna(tweets['mentions_median'])\n",
    "tweets['num_urls'] = tweets['num_urls'].fillna(tweets['urls_median'])\n",
    "\n",
    "\"\"\"tweets['retweet_count'] = tweets['retweet_count'].apply(lambda x : round(x, 0))\n",
    "tweets['reply_count'] = tweets['reply_count'].apply(lambda x : round(x, 0))\n",
    "tweets['favorite_count'] = tweets['favorite_count'].apply(lambda x : round(x, 0))\n",
    "tweets['num_hashtags'] = tweets['num_hashtags'].apply(lambda x : round(x, 0))\n",
    "tweets['num_mentions'] = tweets['num_mentions'].apply(lambda x : round(x, 0))\n",
    "tweets['num_urls'] = tweets['num_urls'].apply(lambda x : round(x, 0))\"\"\"\n",
    "\n",
    "tweets.drop(columns=['retweet_median', 'reply_median', 'favorite_median', 'hashtags_median', 'mentions_median', 'urls_median'], \\\n",
    "            inplace=True)\n",
    "\n",
    "print(\"retweet_count nan: \" + str(tweets['retweet_count'].isna().sum()) + \\\n",
    "      \", reply_count nan: \" + str(tweets['reply_count'].isna().sum()) + \\\n",
    "      \", favorite_count nan: \" + str(tweets['favorite_count'].isna().sum()) + \\\n",
    "      \", num_hashtags nan: \" + str(tweets['num_hashtags'].isna().sum()) + \\\n",
    "      \", num_mentions nan: \" + str(tweets['num_mentions'].isna().sum()) + \\\n",
    "      \", num_urls nan: \" + str(tweets['num_urls'].isna().sum()))\n"
   ]
  },
  {
   "cell_type": "markdown",
   "id": "1b5f209d",
   "metadata": {},
   "source": [
    "### Replacing invalid timestamp"
   ]
  },
  {
   "cell_type": "code",
   "execution_count": 23,
   "id": "bc72a266",
   "metadata": {},
   "outputs": [
    {
     "data": {
      "text/plain": [
       "97605"
      ]
     },
     "execution_count": 23,
     "metadata": {},
     "output_type": "execute_result"
    }
   ],
   "source": [
    "tweets.loc[(tweets.created_at < datetime.strptime(\"2006-07-15 00:00:00\", \"%Y-%m-%d %H:%M:%S\")) | (tweets.created_at > datetime.now()),\\\n",
    "     'created_at'] = datetime.strptime(\"2000-01-01 00:00:00\", \"%Y-%m-%d %H:%M:%S\")\n",
    "tweets[tweets['created_at'] == datetime.strptime(\"2000-01-01 00:00:00\", \"%Y-%m-%d %H:%M:%S\")]['id'].count()"
   ]
  },
  {
   "cell_type": "markdown",
   "id": "c4ad7578",
   "metadata": {},
   "source": [
    "### Outliers Analysis"
   ]
  },
  {
   "cell_type": "code",
   "execution_count": 80,
   "id": "6b1df961",
   "metadata": {},
   "outputs": [
    {
     "data": {
      "image/png": "[encoded data removed]",
      "text/plain": [
       "<Figure size 2000x2300 with 6 Axes>"
      ]
     },
     "metadata": {},
     "output_type": "display_data"
    }
   ],
   "source": [
    "fig = plt.figure(figsize=(20,23))\n",
    "fig_dims = (3,2)\n",
    "fig.subplots_adjust(hspace=0.4, wspace=0.4)\n",
    "\n",
    "###fig 1\n",
    "plt.subplot2grid(fig_dims, (0,0))\n",
    "tweets['retweet_count'].value_counts().plot(kind='hist', title='Retweet Count')\n",
    "plt.yscale('log')\n",
    "\n",
    "###fig 2\n",
    "plt.subplot2grid(fig_dims, (0,1))\n",
    "tweets['reply_count'].value_counts().plot(kind='hist', title='Reply Count')\n",
    "plt.yscale('log')\n",
    "\n",
    "###fig 3\n",
    "plt.subplot2grid(fig_dims, (1,0))\n",
    "tweets['favorite_count'].value_counts().plot(kind='hist', title='Favorite Count')\n",
    "plt.yscale('log')\n",
    "\n",
    "###fig 4\n",
    "plt.subplot2grid(fig_dims, (1,1))\n",
    "tweets['num_hashtags'].value_counts().plot(kind='hist', title='Num Hashtags')\n",
    "plt.yscale('log')\n",
    "\n",
    "###fig 5\n",
    "plt.subplot2grid(fig_dims, (2,0))\n",
    "tweets['num_mentions'].value_counts().plot(kind='hist', title='Num Mentions')\n",
    "plt.yscale('log')\n",
    "\n",
    "###fig 6\n",
    "plt.subplot2grid(fig_dims, (2,1))\n",
    "tweets['num_urls'].value_counts().plot(kind='hist', title='Num Urls')\n",
    "plt.yscale('log')\n",
    "\n",
    "\n",
    "plt.show()"
   ]
  },
  {
   "cell_type": "code",
   "execution_count": 25,
   "id": "2d18ae0c",
   "metadata": {},
   "outputs": [
    {
     "data": {
      "image/png": "[encoded data removed]",
      "text/plain": [
       "<Figure size 640x480 with 1 Axes>"
      ]
     },
     "metadata": {},
     "output_type": "display_data"
    }
   ],
   "source": [
    "tweets.boxplot(column=['retweet_count', 'reply_count', 'favorite_count', 'num_hashtags', 'num_mentions', 'num_urls'])\n",
    "plt.yscale('log')\n"
   ]
  },
  {
   "cell_type": "code",
   "execution_count": 26,
   "id": "c0e1019e",
   "metadata": {},
   "outputs": [],
   "source": [
    "clean_data = tweets.to_csv('clean_tweets_mean.csv')\n",
    "\n"
   ]
  },
  {
   "cell_type": "code",
   "execution_count": 45,
   "id": "fc0504a1",
   "metadata": {},
   "outputs": [],
   "source": [
    "tweets_mean = pd.read_csv('clean_tweets_mean.csv', lineterminator='\\n', index_col=0)\n",
    "tweets_median = pd.read_csv('clean_tweets.csv', lineterminator='\\n', index_col=0)\n",
    "tweets_mean = tweets_mean.round()\n",
    "tweets_mean['favorite_count'] = tweets_mean['favorite_count'].abs()"
   ]
  },
  {
   "cell_type": "code",
   "execution_count": 76,
   "id": "0464f24e",
   "metadata": {},
   "outputs": [
    {
     "data": {
      "image/png": "[encoded data removed]",
      "text/plain": [
       "<Figure size 640x480 with 1 Axes>"
      ]
     },
     "metadata": {},
     "output_type": "display_data"
    },
    {
     "data": {
      "text/plain": [
       "0.0"
      ]
     },
     "execution_count": 76,
     "metadata": {},
     "output_type": "execute_result"
    }
   ],
   "source": [
    "\n",
    "#tweets.loc[tweets['favorite_count'] < tweets['favorite_count'].quantile(.75), 'favorite_count'] = math.nan\n",
    "quantile_favorite = tweets_mean[tweets_mean['favorite_count'] < tweets_mean['favorite_count'].quantile(.999)]\n",
    "quantile_favorite.hist('favorite_count', bins=300)\n",
    "plt.yscale('log')\n",
    "plt.show()\n",
    "quantile_favorite['favorite_count'].min()"
   ]
  },
  {
   "cell_type": "code",
   "execution_count": 47,
   "id": "7fe25c4a",
   "metadata": {},
   "outputs": [
    {
     "data": {
      "text/plain": [
       "count    4.583600e+04\n",
       "mean     2.460627e+02\n",
       "std      3.714170e+04\n",
       "min      1.000000e+00\n",
       "25%      1.000000e+00\n",
       "50%      2.000000e+00\n",
       "75%      6.000000e+00\n",
       "max      7.879420e+06\n",
       "Name: retweet_count, dtype: float64"
      ]
     },
     "execution_count": 47,
     "metadata": {},
     "output_type": "execute_result"
    }
   ],
   "source": [
    "#quantile_favorite = tweets[tweets['retweet_count'] < tweets['retweet_count'].quantile(.95)]\n",
    "quantile_favorite = tweets_mean['retweet_count']\n",
    "quantile_favorite.value_counts().describe()\n",
    "plt.show()"
   ]
  },
  {
   "cell_type": "code",
   "execution_count": 48,
   "id": "16e275fe",
   "metadata": {},
   "outputs": [
    {
     "data": {
      "text/plain": [
       "count    4.583800e+04\n",
       "mean     2.460522e+02\n",
       "std      3.861918e+04\n",
       "min      1.000000e+00\n",
       "25%      1.000000e+00\n",
       "50%      2.000000e+00\n",
       "75%      6.000000e+00\n",
       "max      8.196076e+06\n",
       "Name: retweet_count, dtype: float64"
      ]
     },
     "execution_count": 48,
     "metadata": {},
     "output_type": "execute_result"
    }
   ],
   "source": [
    "quantile_favorite = tweets_median['retweet_count']\n",
    "quantile_favorite.value_counts().describe()\n"
   ]
  },
  {
   "cell_type": "code",
   "execution_count": 87,
   "id": "77a84ba6",
   "metadata": {},
   "outputs": [
    {
     "data": {
      "image/png": "[encoded data removed]",
      "text/plain": [
       "<Figure size 640x480 with 1 Axes>"
      ]
     },
     "metadata": {},
     "output_type": "display_data"
    }
   ],
   "source": [
    "#tweets.loc[tweets['favorite_count'] < tweets['favorite_count'].quantile(.75), 'favorite_count'] = math.nan\n",
    "quantile_favorite = tweets_mean[tweets_mean['retweet_count'] < tweets_mean['retweet_count'].quantile(.99)]\n",
    "quantile_favorite.hist('retweet_count',bins=300)\n",
    "plt.yscale('log')\n",
    "\n",
    "\n",
    "plt.show()"
   ]
  },
  {
   "cell_type": "code",
   "execution_count": 93,
   "id": "28531c91",
   "metadata": {},
   "outputs": [
    {
     "data": {
      "text/plain": [
       "count    1.086024e+07\n",
       "mean     1.000002e+00\n",
       "std      1.423283e-03\n",
       "min      1.000000e+00\n",
       "25%      1.000000e+00\n",
       "50%      1.000000e+00\n",
       "75%      1.000000e+00\n",
       "max      2.000000e+00\n",
       "dtype: float64"
      ]
     },
     "execution_count": 93,
     "metadata": {},
     "output_type": "execute_result"
    },
    {
     "data": {
      "image/png": "[encoded data removed]",
      "text/plain": [
       "<Figure size 640x480 with 1 Axes>"
      ]
     },
     "metadata": {},
     "output_type": "display_data"
    }
   ],
   "source": [
    "#tweets.loc[tweets['favorite_count'] < tweets['favorite_count'].quantile(.75), 'favorite_count'] = math.nan\n",
    "#quantile_favorite = tweets_mean[tweets_mean['reply_count'] < tweets_mean['reply_count'].quantile(.99)]\n",
    "#quantile_favorite.hist('reply_count')\n",
    "quantile_favorite = tweets_mean[tweets_mean['reply_count'] < tweets_mean['reply_count'].quantile(.9999)]\n",
    "quantile_favorite.hist('reply_count', bins=300)\n",
    "#plt.yscale('log')\n",
    "\n",
    "quantile_favorite.value_counts().describe()\n",
    "#plt.show()"
   ]
  },
  {
   "cell_type": "code",
   "execution_count": null,
   "id": "fa1ce87c",
   "metadata": {},
   "outputs": [],
   "source": []
  }
 ],
 "metadata": {
  "kernelspec": {
   "display_name": "Python 3.9.13 64-bit",
   "language": "python",
   "name": "python3"
  },
  "language_info": {
   "codemirror_mode": {
    "name": "ipython",
    "version": 3
   },
   "file_extension": ".py",
   "mimetype": "text/x-python",
   "name": "python",
   "nbconvert_exporter": "python",
   "pygments_lexer": "ipython3",
   "version": "3.9.13"
  },
  "vscode": {
   "interpreter": {
    "hash": "b0fa6594d8f4cbf19f97940f81e996739fb7646882a419484c72d19e05852a7e"
   }
  }
 },
 "nbformat": 4,
 "nbformat_minor": 5
}
