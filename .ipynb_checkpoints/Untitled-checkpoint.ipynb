{
 "cells": [
  {
   "cell_type": "code",
   "execution_count": 6,
   "id": "1c26a48f",
   "metadata": {},
   "outputs": [],
   "source": [
    "import pandas as pd"
   ]
  },
  {
   "cell_type": "code",
   "execution_count": 7,
   "id": "a7a1d865",
   "metadata": {},
   "outputs": [],
   "source": [
    "#create a pandas dataframes from csv files\n",
    "users = pd.read_csv('users.csv')\n",
    "tweets = pd.read_csv('tweets.csv')"
   ]
  },
  {
   "cell_type": "code",
   "execution_count": 8,
   "id": "0b242771",
   "metadata": {},
   "outputs": [
    {
     "name": "stdout",
     "output_type": "stream",
     "text": [
      "<class 'pandas.core.frame.DataFrame'>\n",
      "RangeIndex: 11508 entries, 0 to 11507\n",
      "Data columns (total 6 columns):\n",
      " #   Column          Non-Null Count  Dtype  \n",
      "---  ------          --------------  -----  \n",
      " 0   id              11508 non-null  int64  \n",
      " 1   name            11507 non-null  object \n",
      " 2   lang            11508 non-null  object \n",
      " 3   bot             11508 non-null  int64  \n",
      " 4   created_at      11508 non-null  object \n",
      " 5   statuses_count  11109 non-null  float64\n",
      "dtypes: float64(1), int64(2), object(3)\n",
      "memory usage: 539.6+ KB\n"
     ]
    },
    {
     "data": {
      "text/plain": [
       "id                  int64\n",
       "name               object\n",
       "lang               object\n",
       "bot                 int64\n",
       "created_at         object\n",
       "statuses_count    float64\n",
       "dtype: object"
      ]
     },
     "execution_count": 8,
     "metadata": {},
     "output_type": "execute_result"
    }
   ],
   "source": [
    "users.info()\n",
    "users.dtypes"
   ]
  },
  {
   "cell_type": "code",
   "execution_count": 10,
   "id": "894f7c82",
   "metadata": {},
   "outputs": [
    {
     "name": "stdout",
     "output_type": "stream",
     "text": [
      "<class 'pandas.core.frame.DataFrame'>\n",
      "RangeIndex: 13664696 entries, 0 to 13664695\n",
      "Data columns (total 10 columns):\n",
      " #   Column          Dtype \n",
      "---  ------          ----- \n",
      " 0   id              object\n",
      " 1   user_id         object\n",
      " 2   retweet_count   object\n",
      " 3   reply_count     object\n",
      " 4   favorite_count  object\n",
      " 5   num_hashtags    object\n",
      " 6   num_urls        object\n",
      " 7   num_mentions    object\n",
      " 8   created_at      object\n",
      " 9   text            object\n",
      "dtypes: object(10)\n",
      "memory usage: 1.0+ GB\n"
     ]
    },
    {
     "data": {
      "text/plain": [
       "id                object\n",
       "user_id           object\n",
       "retweet_count     object\n",
       "reply_count       object\n",
       "favorite_count    object\n",
       "num_hashtags      object\n",
       "num_urls          object\n",
       "num_mentions      object\n",
       "created_at        object\n",
       "text              object\n",
       "dtype: object"
      ]
     },
     "execution_count": 10,
     "metadata": {},
     "output_type": "execute_result"
    }
   ],
   "source": [
    "tweets.info()\n",
    "tweets.dtypes"
   ]
  },
  {
   "cell_type": "code",
   "execution_count": 11,
   "id": "7368804d",
   "metadata": {},
   "outputs": [
    {
     "name": "stdout",
     "output_type": "stream",
     "text": [
      "<class 'pandas.core.frame.DataFrame'>\n",
      "RangeIndex: 13664696 entries, 0 to 13664695\n",
      "Data columns (total 2 columns):\n",
      " #   Column  Dtype \n",
      "---  ------  ----- \n",
      " 0   id      object\n",
      " 1   text    object\n",
      "dtypes: object(2)\n",
      "memory usage: 208.5+ MB\n"
     ]
    },
    {
     "data": {
      "text/plain": [
       "id      object\n",
       "text    object\n",
       "dtype: object"
      ]
     },
     "execution_count": 11,
     "metadata": {},
     "output_type": "execute_result"
    }
   ],
   "source": [
    "#remove the text column to having a lighter dataframe\n",
    "texts = tweets[['id', 'text']].copy()\n",
    "texts.info()\n",
    "texts.dtypes"
   ]
  },
  {
   "cell_type": "code",
   "execution_count": 12,
   "id": "89f8478b",
   "metadata": {},
   "outputs": [
    {
     "name": "stdout",
     "output_type": "stream",
     "text": [
      "<class 'pandas.core.frame.DataFrame'>\n",
      "RangeIndex: 13664696 entries, 0 to 13664695\n",
      "Data columns (total 9 columns):\n",
      " #   Column          Dtype \n",
      "---  ------          ----- \n",
      " 0   id              object\n",
      " 1   user_id         object\n",
      " 2   retweet_count   object\n",
      " 3   reply_count     object\n",
      " 4   favorite_count  object\n",
      " 5   num_hashtags    object\n",
      " 6   num_urls        object\n",
      " 7   num_mentions    object\n",
      " 8   created_at      object\n",
      "dtypes: object(9)\n",
      "memory usage: 938.3+ MB\n"
     ]
    },
    {
     "data": {
      "text/plain": [
       "id                object\n",
       "user_id           object\n",
       "retweet_count     object\n",
       "reply_count       object\n",
       "favorite_count    object\n",
       "num_hashtags      object\n",
       "num_urls          object\n",
       "num_mentions      object\n",
       "created_at        object\n",
       "dtype: object"
      ]
     },
     "execution_count": 12,
     "metadata": {},
     "output_type": "execute_result"
    }
   ],
   "source": [
    "tweets = tweets.drop('text', axis=1)\n",
    "tweets.info()\n",
    "tweets.dtypes"
   ]
  },
  {
   "cell_type": "code",
   "execution_count": 13,
   "id": "d4d504c9",
   "metadata": {},
   "outputs": [
    {
     "name": "stdout",
     "output_type": "stream",
     "text": [
      "<class 'pandas.core.frame.DataFrame'>\n",
      "Int64Index: 11712597 entries, 0 to 13664695\n",
      "Data columns (total 9 columns):\n",
      " #   Column          Dtype \n",
      "---  ------          ----- \n",
      " 0   id              object\n",
      " 1   user_id         object\n",
      " 2   retweet_count   object\n",
      " 3   reply_count     object\n",
      " 4   favorite_count  object\n",
      " 5   num_hashtags    object\n",
      " 6   num_urls        object\n",
      " 7   num_mentions    object\n",
      " 8   created_at      object\n",
      "dtypes: object(9)\n",
      "memory usage: 893.6+ MB\n"
     ]
    },
    {
     "data": {
      "text/plain": [
       "id                object\n",
       "user_id           object\n",
       "retweet_count     object\n",
       "reply_count       object\n",
       "favorite_count    object\n",
       "num_hashtags      object\n",
       "num_urls          object\n",
       "num_mentions      object\n",
       "created_at        object\n",
       "dtype: object"
      ]
     },
     "execution_count": 13,
     "metadata": {},
     "output_type": "execute_result"
    }
   ],
   "source": [
    "tweets_ = tweets.drop_duplicates()\n",
    "tweets_.info()\n",
    "tweets_.dtypes"
   ]
  },
  {
   "cell_type": "code",
   "execution_count": 8,
   "id": "d3ecd24e",
   "metadata": {},
   "outputs": [
    {
     "data": {
      "text/plain": [
       "11672136"
      ]
     },
     "execution_count": 8,
     "metadata": {},
     "output_type": "execute_result"
    }
   ],
   "source": [
    "len(tweets_.id.unique())\n",
    "#tweets_ = tweets_.drop_duplicates('id')"
   ]
  },
  {
   "cell_type": "code",
   "execution_count": 9,
   "id": "08f6ccc7",
   "metadata": {},
   "outputs": [
    {
     "name": "stdout",
     "output_type": "stream",
     "text": [
      "<class 'pandas.core.frame.DataFrame'>\n",
      "Int64Index: 11712597 entries, 0 to 13664695\n",
      "Data columns (total 9 columns):\n",
      " #   Column          Dtype \n",
      "---  ------          ----- \n",
      " 0   id              object\n",
      " 1   user_id         object\n",
      " 2   retweet_count   object\n",
      " 3   reply_count     object\n",
      " 4   favorite_count  object\n",
      " 5   num_hashtags    object\n",
      " 6   num_urls        object\n",
      " 7   num_mentions    object\n",
      " 8   created_at      object\n",
      "dtypes: object(9)\n",
      "memory usage: 893.6+ MB\n"
     ]
    }
   ],
   "source": [
    "tweets_.info()"
   ]
  },
  {
   "cell_type": "code",
   "execution_count": 20,
   "id": "bdeecddd",
   "metadata": {
    "scrolled": true
   },
   "outputs": [
    {
     "data": {
      "text/plain": [
       "1952099"
      ]
     },
     "execution_count": 20,
     "metadata": {},
     "output_type": "execute_result"
    }
   ],
   "source": [
    "#count how much duplicates we have\n",
    "a = tweets.duplicated()\n",
    "i = 0\n",
    "for (k,v) in a.items():\n",
    "    if v == True:\n",
    "        i = i + 1;\n",
    "i"
   ]
  },
  {
   "cell_type": "code",
   "execution_count": 21,
   "id": "a9f7ddc7",
   "metadata": {},
   "outputs": [
    {
     "data": {
      "text/plain": [
       "0"
      ]
     },
     "execution_count": 21,
     "metadata": {},
     "output_type": "execute_result"
    }
   ],
   "source": [
    "#count how much wrong data id\n",
    "wrong_id = 0;\n",
    "index_list = [];\n",
    "for index, row in tweets['id'].items():\n",
    "    #check id value\n",
    "    if not isinstance(row, float):\n",
    "        if not row.isnumeric():\n",
    "            wrong_id = wrong_id + 1;\n",
    "            index_list.append(index);\n",
    "wrong_id"
   ]
  },
  {
   "cell_type": "code",
   "execution_count": 22,
   "id": "cdb280df",
   "metadata": {},
   "outputs": [
    {
     "data": {
      "text/plain": [
       "0"
      ]
     },
     "execution_count": 22,
     "metadata": {},
     "output_type": "execute_result"
    }
   ],
   "source": [
    "#count how much wrong data id to verify \n",
    "wrong_id = 0;\n",
    "index_list = [];\n",
    "for index, row in tweets['id'].items():\n",
    "    #check id value\n",
    "    if not isinstance(row, float):\n",
    "        if not row.isnumeric():\n",
    "            wrong_id = wrong_id + 1;\n",
    "            index_list.append(index);\n",
    "wrong_id"
   ]
  },
  {
   "cell_type": "code",
   "execution_count": 23,
   "id": "b2148c91",
   "metadata": {},
   "outputs": [
    {
     "data": {
      "text/html": [
       "<div>\n",
       "<style scoped>\n",
       "    .dataframe tbody tr th:only-of-type {\n",
       "        vertical-align: middle;\n",
       "    }\n",
       "\n",
       "    .dataframe tbody tr th {\n",
       "        vertical-align: top;\n",
       "    }\n",
       "\n",
       "    .dataframe thead th {\n",
       "        text-align: right;\n",
       "    }\n",
       "</style>\n",
       "<table border=\"1\" class=\"dataframe\">\n",
       "  <thead>\n",
       "    <tr style=\"text-align: right;\">\n",
       "      <th></th>\n",
       "      <th>id</th>\n",
       "      <th>user_id</th>\n",
       "      <th>retweet_count</th>\n",
       "      <th>reply_count</th>\n",
       "      <th>favorite_count</th>\n",
       "      <th>num_hashtags</th>\n",
       "      <th>num_urls</th>\n",
       "      <th>num_mentions</th>\n",
       "      <th>created_at</th>\n",
       "    </tr>\n",
       "  </thead>\n",
       "  <tbody>\n",
       "    <tr>\n",
       "      <th>0</th>\n",
       "      <td>509354017856950272</td>\n",
       "      <td>327746321</td>\n",
       "      <td>0</td>\n",
       "      <td>0</td>\n",
       "      <td>0</td>\n",
       "      <td>0</td>\n",
       "      <td>0</td>\n",
       "      <td>0</td>\n",
       "      <td>2019-09-11 14:53:55</td>\n",
       "    </tr>\n",
       "    <tr>\n",
       "      <th>1</th>\n",
       "      <td>583002592529121280</td>\n",
       "      <td>333722906</td>\n",
       "      <td>1</td>\n",
       "      <td>0</td>\n",
       "      <td>0</td>\n",
       "      <td>0</td>\n",
       "      <td>0</td>\n",
       "      <td>1</td>\n",
       "      <td>2020-04-01 20:27:04</td>\n",
       "    </tr>\n",
       "    <tr>\n",
       "      <th>2</th>\n",
       "      <td>461498835362013185</td>\n",
       "      <td>2379755827</td>\n",
       "      <td>0</td>\n",
       "      <td>0</td>\n",
       "      <td>0</td>\n",
       "      <td>0</td>\n",
       "      <td>0</td>\n",
       "      <td>1</td>\n",
       "      <td>2019-05-02 13:34:31</td>\n",
       "    </tr>\n",
       "    <tr>\n",
       "      <th>3</th>\n",
       "      <td>528808127366692864</td>\n",
       "      <td>466226882</td>\n",
       "      <td>0</td>\n",
       "      <td>0</td>\n",
       "      <td>0</td>\n",
       "      <td>0</td>\n",
       "      <td>0</td>\n",
       "      <td>0</td>\n",
       "      <td>2019-11-04 07:17:37</td>\n",
       "    </tr>\n",
       "    <tr>\n",
       "      <th>4</th>\n",
       "      <td>575336690904006656</td>\n",
       "      <td>1355537995</td>\n",
       "      <td>114</td>\n",
       "      <td>0</td>\n",
       "      <td>0</td>\n",
       "      <td>1</td>\n",
       "      <td>0</td>\n",
       "      <td>1</td>\n",
       "      <td>2020-03-11 16:45:31</td>\n",
       "    </tr>\n",
       "    <tr>\n",
       "      <th>...</th>\n",
       "      <td>...</td>\n",
       "      <td>...</td>\n",
       "      <td>...</td>\n",
       "      <td>...</td>\n",
       "      <td>...</td>\n",
       "      <td>...</td>\n",
       "      <td>...</td>\n",
       "      <td>...</td>\n",
       "      <td>...</td>\n",
       "    </tr>\n",
       "    <tr>\n",
       "      <th>13664691</th>\n",
       "      <td>588535254207467520</td>\n",
       "      <td>587491046</td>\n",
       "      <td>0</td>\n",
       "      <td>0</td>\n",
       "      <td>0</td>\n",
       "      <td>0</td>\n",
       "      <td>0</td>\n",
       "      <td>1</td>\n",
       "      <td>2020-04-17 02:51:53</td>\n",
       "    </tr>\n",
       "    <tr>\n",
       "      <th>13664692</th>\n",
       "      <td>580420653666402304</td>\n",
       "      <td>1414080518</td>\n",
       "      <td>0</td>\n",
       "      <td>0</td>\n",
       "      <td>1</td>\n",
       "      <td>0</td>\n",
       "      <td>0</td>\n",
       "      <td>1</td>\n",
       "      <td>2020-03-25 17:27:22</td>\n",
       "    </tr>\n",
       "    <tr>\n",
       "      <th>13664693</th>\n",
       "      <td>718157017970961</td>\n",
       "      <td>91781300</td>\n",
       "      <td>0</td>\n",
       "      <td>NaN</td>\n",
       "      <td>l25suv5</td>\n",
       "      <td>NaN</td>\n",
       "      <td>0.0</td>\n",
       "      <td>NaN</td>\n",
       "      <td>2016-07-10 22:43:09</td>\n",
       "    </tr>\n",
       "    <tr>\n",
       "      <th>13664694</th>\n",
       "      <td>441301348676415488</td>\n",
       "      <td>127895572</td>\n",
       "      <td>0</td>\n",
       "      <td>0</td>\n",
       "      <td>1</td>\n",
       "      <td>1</td>\n",
       "      <td>0</td>\n",
       "      <td>0</td>\n",
       "      <td>2019-03-07 19:56:55</td>\n",
       "    </tr>\n",
       "    <tr>\n",
       "      <th>13664695</th>\n",
       "      <td>486479812614451200</td>\n",
       "      <td>465421036</td>\n",
       "      <td>3</td>\n",
       "      <td>0</td>\n",
       "      <td>4</td>\n",
       "      <td>0</td>\n",
       "      <td>0</td>\n",
       "      <td>0</td>\n",
       "      <td>2019-07-10 12:00:00</td>\n",
       "    </tr>\n",
       "  </tbody>\n",
       "</table>\n",
       "<p>13230833 rows × 9 columns</p>\n",
       "</div>"
      ],
      "text/plain": [
       "                          id     user_id retweet_count reply_count  \\\n",
       "0         509354017856950272   327746321             0           0   \n",
       "1         583002592529121280   333722906             1           0   \n",
       "2         461498835362013185  2379755827             0           0   \n",
       "3         528808127366692864   466226882             0           0   \n",
       "4         575336690904006656  1355537995           114           0   \n",
       "...                      ...         ...           ...         ...   \n",
       "13664691  588535254207467520   587491046             0           0   \n",
       "13664692  580420653666402304  1414080518             0           0   \n",
       "13664693     718157017970961    91781300             0         NaN   \n",
       "13664694  441301348676415488   127895572             0           0   \n",
       "13664695  486479812614451200   465421036             3           0   \n",
       "\n",
       "         favorite_count num_hashtags num_urls num_mentions  \\\n",
       "0                     0            0        0            0   \n",
       "1                     0            0        0            1   \n",
       "2                     0            0        0            1   \n",
       "3                     0            0        0            0   \n",
       "4                     0            1        0            1   \n",
       "...                 ...          ...      ...          ...   \n",
       "13664691              0            0        0            1   \n",
       "13664692              1            0        0            1   \n",
       "13664693        l25suv5          NaN      0.0          NaN   \n",
       "13664694              1            1        0            0   \n",
       "13664695              4            0        0            0   \n",
       "\n",
       "                   created_at  \n",
       "0         2019-09-11 14:53:55  \n",
       "1         2020-04-01 20:27:04  \n",
       "2         2019-05-02 13:34:31  \n",
       "3         2019-11-04 07:17:37  \n",
       "4         2020-03-11 16:45:31  \n",
       "...                       ...  \n",
       "13664691  2020-04-17 02:51:53  \n",
       "13664692  2020-03-25 17:27:22  \n",
       "13664693  2016-07-10 22:43:09  \n",
       "13664694  2019-03-07 19:56:55  \n",
       "13664695  2019-07-10 12:00:00  \n",
       "\n",
       "[13230833 rows x 9 columns]"
      ]
     },
     "execution_count": 23,
     "metadata": {},
     "output_type": "execute_result"
    }
   ],
   "source": [
    "#delete all the wrong ids\n",
    "tweets.drop(index_list, inplace=True)\n",
    "tweets"
   ]
  },
  {
   "cell_type": "code",
   "execution_count": 33,
   "id": "1ef56059",
   "metadata": {},
   "outputs": [
    {
     "name": "stdout",
     "output_type": "stream",
     "text": [
      "<class 'str'>\n"
     ]
    },
    {
     "data": {
      "text/plain": [
       "0"
      ]
     },
     "execution_count": 33,
     "metadata": {},
     "output_type": "execute_result"
    }
   ],
   "source": [
    "#count how much wrong retweet we have\n",
    "wrong_retweet = 0\n",
    "index_str = []\n",
    "index_wrong = []\n",
    "index_negative = []\n",
    "for index, row in tweets['retweet_count'].items():\n",
    "    #check retweet value\n",
    "    if row != '0':\n",
    "        print(row)\n",
    "        print(type(row))\n",
    "        break\n",
    "wrong_retweet"
   ]
  },
  {
   "cell_type": "code",
   "execution_count": null,
   "id": "1ee4d7c6",
   "metadata": {},
   "outputs": [],
   "source": []
  }
 ],
 "metadata": {
  "kernelspec": {
   "display_name": "Python 3 (ipykernel)",
   "language": "python",
   "name": "python3"
  },
  "language_info": {
   "codemirror_mode": {
    "name": "ipython",
    "version": 3
   },
   "file_extension": ".py",
   "mimetype": "text/x-python",
   "name": "python",
   "nbconvert_exporter": "python",
   "pygments_lexer": "ipython3",
   "version": "3.10.7"
  }
 },
 "nbformat": 4,
 "nbformat_minor": 5
}
