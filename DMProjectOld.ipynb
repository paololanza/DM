{
 "cells": [
  {
   "cell_type": "code",
   "execution_count": 1,
   "id": "1c26a48f",
   "metadata": {},
   "outputs": [],
   "source": [
    "import math\n",
    "import numpy as np\n",
    "import pandas as pd\n",
    "import scipy.stats as stats\n",
    "import matplotlib.pyplot as plt\n",
    "\n",
    "from datetime import datetime \n",
    "from collections import defaultdict\n",
    "from scipy.stats import pearsonr"
   ]
  },
  {
   "cell_type": "code",
   "execution_count": 2,
   "id": "a7a1d865",
   "metadata": {},
   "outputs": [],
   "source": [
    "#create a pandas dataframes from csv files\n",
    "users = pd.read_csv('users.csv')\n",
    "tweets = pd.read_csv('tweets.csv')"
   ]
  },
  {
   "cell_type": "code",
   "execution_count": 3,
   "id": "0b242771",
   "metadata": {},
   "outputs": [
    {
     "name": "stdout",
     "output_type": "stream",
     "text": [
      "<class 'pandas.core.frame.DataFrame'>\n",
      "RangeIndex: 11508 entries, 0 to 11507\n",
      "Data columns (total 6 columns):\n",
      " #   Column          Non-Null Count  Dtype  \n",
      "---  ------          --------------  -----  \n",
      " 0   id              11508 non-null  int64  \n",
      " 1   name            11507 non-null  object \n",
      " 2   lang            11508 non-null  object \n",
      " 3   bot             11508 non-null  int64  \n",
      " 4   created_at      11508 non-null  object \n",
      " 5   statuses_count  11109 non-null  float64\n",
      "dtypes: float64(1), int64(2), object(3)\n",
      "memory usage: 539.6+ KB\n"
     ]
    },
    {
     "data": {
      "text/plain": [
       "id                  int64\n",
       "name               object\n",
       "lang               object\n",
       "bot                 int64\n",
       "created_at         object\n",
       "statuses_count    float64\n",
       "dtype: object"
      ]
     },
     "execution_count": 3,
     "metadata": {},
     "output_type": "execute_result"
    }
   ],
   "source": [
    "users.info()\n",
    "users.dtypes"
   ]
  },
  {
   "cell_type": "code",
   "execution_count": 4,
   "id": "894f7c82",
   "metadata": {},
   "outputs": [
    {
     "name": "stdout",
     "output_type": "stream",
     "text": [
      "<class 'pandas.core.frame.DataFrame'>\n",
      "RangeIndex: 13664696 entries, 0 to 13664695\n",
      "Data columns (total 10 columns):\n",
      " #   Column          Dtype \n",
      "---  ------          ----- \n",
      " 0   id              object\n",
      " 1   user_id         object\n",
      " 2   retweet_count   object\n",
      " 3   reply_count     object\n",
      " 4   favorite_count  object\n",
      " 5   num_hashtags    object\n",
      " 6   num_urls        object\n",
      " 7   num_mentions    object\n",
      " 8   created_at      object\n",
      " 9   text            object\n",
      "dtypes: object(10)\n",
      "memory usage: 1.0+ GB\n"
     ]
    },
    {
     "data": {
      "text/plain": [
       "id                object\n",
       "user_id           object\n",
       "retweet_count     object\n",
       "reply_count       object\n",
       "favorite_count    object\n",
       "num_hashtags      object\n",
       "num_urls          object\n",
       "num_mentions      object\n",
       "created_at        object\n",
       "text              object\n",
       "dtype: object"
      ]
     },
     "execution_count": 4,
     "metadata": {},
     "output_type": "execute_result"
    }
   ],
   "source": [
    "tweets.info()\n",
    "tweets.dtypes"
   ]
  },
  {
   "cell_type": "markdown",
   "id": "945a2936",
   "metadata": {},
   "source": [
    "# Data Understanding"
   ]
  },
  {
   "cell_type": "markdown",
   "id": "bcab6495",
   "metadata": {},
   "source": [
    "## Missing values analysis"
   ]
  },
  {
   "cell_type": "code",
   "execution_count": 5,
   "id": "d3526563",
   "metadata": {},
   "outputs": [
    {
     "data": {
      "text/plain": [
       "id                      2\n",
       "user_id            217283\n",
       "retweet_count      437134\n",
       "reply_count        647878\n",
       "favorite_count     647542\n",
       "num_hashtags      1057524\n",
       "num_urls           648623\n",
       "num_mentions       854165\n",
       "created_at              0\n",
       "text               537721\n",
       "dtype: int64"
      ]
     },
     "execution_count": 5,
     "metadata": {},
     "output_type": "execute_result"
    }
   ],
   "source": [
    "tweets.isna().sum()"
   ]
  },
  {
   "cell_type": "markdown",
   "id": "837a16a7",
   "metadata": {},
   "source": [
    "## Duplicates analysis"
   ]
  },
  {
   "cell_type": "code",
   "execution_count": 6,
   "id": "60498520",
   "metadata": {},
   "outputs": [],
   "source": [
    "distinct_rows = len(tweets.value_counts())"
   ]
  },
  {
   "cell_type": "code",
   "execution_count": 7,
   "id": "a208fbea",
   "metadata": {},
   "outputs": [
    {
     "name": "stdout",
     "output_type": "stream",
     "text": [
      "Total lenght: 13664696\n",
      "Total distinct rows: 10124682\n",
      "--------------------------------------\n",
      "Total duplicates: 3540014\n"
     ]
    }
   ],
   "source": [
    "print(\"Total lenght: \" + str(len(tweets.index)))\n",
    "print(\"Total distinct rows: \" + str(distinct_rows))\n",
    "print(\"--------------------------------------\")\n",
    "print(\"Total duplicates: \" + str(len(tweets.index) - distinct_rows))"
   ]
  },
  {
   "cell_type": "markdown",
   "id": "bdfd9196",
   "metadata": {},
   "source": [
    "#### It's useful to know if there are some different rows that have the same id"
   ]
  },
  {
   "cell_type": "code",
   "execution_count": 8,
   "id": "ef8d2060",
   "metadata": {},
   "outputs": [],
   "source": [
    "distinct_id_rows = len(tweets.value_counts(subset=['id']))"
   ]
  },
  {
   "cell_type": "code",
   "execution_count": 9,
   "id": "891ce7f6",
   "metadata": {},
   "outputs": [
    {
     "name": "stdout",
     "output_type": "stream",
     "text": [
      "Total duplicates id (different rows with same id): 1547453\n"
     ]
    }
   ],
   "source": [
    "print(\"Total duplicates id (different rows with same id): \" + str(distinct_id_rows - distinct_rows))"
   ]
  },
  {
   "cell_type": "markdown",
   "id": "d5c76c48",
   "metadata": {},
   "source": [
    "## Outlier analysis"
   ]
  },
  {
   "cell_type": "code",
   "execution_count": 91,
   "id": "a997bc7f",
   "metadata": {},
   "outputs": [
    {
     "data": {
      "image/png": "[encoded data removed]",
      "text/plain": [
       "<Figure size 432x288 with 1 Axes>"
      ]
     },
     "metadata": {
      "needs_background": "light"
     },
     "output_type": "display_data"
    }
   ],
   "source": [
    "plt.scatter(tweets['retweet_count'], tweets['favorite_count'])\n",
    "plt.yscale('log')\n",
    "plt.show()"
   ]
  },
  {
   "cell_type": "code",
   "execution_count": 92,
   "id": "8252814a",
   "metadata": {},
   "outputs": [
    {
     "data": {
      "image/png": "[encoded data removed]",
      "text/plain": [
       "<Figure size 432x288 with 1 Axes>"
      ]
     },
     "metadata": {
      "needs_background": "light"
     },
     "output_type": "display_data"
    }
   ],
   "source": [
    "boxplot = tweets.boxplot(column=['reply_count'])\n",
    "plt.yscale('log')"
   ]
  },
  {
   "cell_type": "code",
   "execution_count": 79,
   "id": "ae35c99f",
   "metadata": {},
   "outputs": [
    {
     "data": {
      "text/plain": [
       "4990797.790440127"
      ]
     },
     "execution_count": 79,
     "metadata": {},
     "output_type": "execute_result"
    }
   ],
   "source": [
    "tweets['retweet_count'].quantile(0.9999965)"
   ]
  },
  {
   "cell_type": "code",
   "execution_count": 89,
   "id": "33cb126f",
   "metadata": {},
   "outputs": [
    {
     "data": {
      "text/plain": [
       "8572.262480005622"
      ]
     },
     "execution_count": 89,
     "metadata": {},
     "output_type": "execute_result"
    }
   ],
   "source": [
    "tweets['reply_count'].quantile(0.9999)"
   ]
  },
  {
   "cell_type": "code",
   "execution_count": 84,
   "id": "ccaf1639",
   "metadata": {},
   "outputs": [
    {
     "data": {
      "text/plain": [
       "0.0"
      ]
     },
     "execution_count": 84,
     "metadata": {},
     "output_type": "execute_result"
    }
   ],
   "source": [
    "tweets['reply_count'].quantile(0.25)"
   ]
  },
  {
   "cell_type": "code",
   "execution_count": 142,
   "id": "c799ebad",
   "metadata": {},
   "outputs": [],
   "source": [
    "t = tweets[(tweets['id'].notna()) & (tweets['retweet_count'].notna()) & (tweets['reply_count'].notna()) & (tweets['favorite_count'].notna())]\n"
   ]
  },
  {
   "cell_type": "code",
   "execution_count": 143,
   "id": "3f483129",
   "metadata": {},
   "outputs": [
    {
     "data": {
      "text/plain": [
       "2.5"
      ]
     },
     "execution_count": 143,
     "metadata": {},
     "output_type": "execute_result"
    }
   ],
   "source": [
    "t['retweet_count'].quantile(0.75) + 1.5*(t['retweet_count'].quantile(0.75)-t['retweet_count'].quantile(0.25))"
   ]
  },
  {
   "cell_type": "code",
   "execution_count": 144,
   "id": "825651e6",
   "metadata": {},
   "outputs": [
    {
     "data": {
      "text/plain": [
       "0.0"
      ]
     },
     "execution_count": 144,
     "metadata": {},
     "output_type": "execute_result"
    }
   ],
   "source": [
    "t['reply_count'].quantile(0.75) + 1.5*(t['reply_count'].quantile(0.75)-t['reply_count'].quantile(0.25))"
   ]
  },
  {
   "cell_type": "code",
   "execution_count": 147,
   "id": "8a1b5adc",
   "metadata": {},
   "outputs": [
    {
     "data": {
      "text/plain": [
       "16.308816253476365"
      ]
     },
     "execution_count": 147,
     "metadata": {},
     "output_type": "execute_result"
    }
   ],
   "source": [
    "n = math.log((len(t.index) - t['retweet_count'].isna().sum()) + 1)\n",
    "n"
   ]
  },
  {
   "cell_type": "code",
   "execution_count": 146,
   "id": "54659cc3",
   "metadata": {},
   "outputs": [
    {
     "data": {
      "image/png": "[encoded data removed]",
      "text/plain": [
       "<Figure size 432x288 with 1 Axes>"
      ]
     },
     "metadata": {
      "needs_background": "light"
     },
     "output_type": "display_data"
    }
   ],
   "source": [
    "t['favorite_count'].hist(bins=16)\n",
    "plt.yscale('log')"
   ]
  },
  {
   "cell_type": "code",
   "execution_count": 121,
   "id": "98d7a2c2",
   "metadata": {},
   "outputs": [
    {
     "data": {
      "text/html": [
       "<div>\n",
       "<style scoped>\n",
       "    .dataframe tbody tr th:only-of-type {\n",
       "        vertical-align: middle;\n",
       "    }\n",
       "\n",
       "    .dataframe tbody tr th {\n",
       "        vertical-align: top;\n",
       "    }\n",
       "\n",
       "    .dataframe thead th {\n",
       "        text-align: right;\n",
       "    }\n",
       "</style>\n",
       "<table border=\"1\" class=\"dataframe\">\n",
       "  <thead>\n",
       "    <tr style=\"text-align: right;\">\n",
       "      <th></th>\n",
       "      <th>id</th>\n",
       "      <th>user_id</th>\n",
       "      <th>retweet_count</th>\n",
       "      <th>reply_count</th>\n",
       "      <th>favorite_count</th>\n",
       "      <th>num_hashtags</th>\n",
       "      <th>num_urls</th>\n",
       "      <th>num_mentions</th>\n",
       "      <th>created_at</th>\n",
       "      <th>text</th>\n",
       "    </tr>\n",
       "  </thead>\n",
       "  <tbody>\n",
       "    <tr>\n",
       "      <th>32</th>\n",
       "      <td>NaN</td>\n",
       "      <td>2.214453e+09</td>\n",
       "      <td>1.0</td>\n",
       "      <td>0.0</td>\n",
       "      <td>2.0</td>\n",
       "      <td>NaN</td>\n",
       "      <td>NaN</td>\n",
       "      <td>NaN</td>\n",
       "      <td>2019-01-18 01:13:23</td>\n",
       "      <td>NaN</td>\n",
       "    </tr>\n",
       "    <tr>\n",
       "      <th>60</th>\n",
       "      <td>NaN</td>\n",
       "      <td>1.532124e+07</td>\n",
       "      <td>NaN</td>\n",
       "      <td>NaN</td>\n",
       "      <td>NaN</td>\n",
       "      <td>NaN</td>\n",
       "      <td>0.0</td>\n",
       "      <td>2.0</td>\n",
       "      <td>2016-03-07 03:40:53</td>\n",
       "      <td>@abc7 @CharlieSheen Anything he says can and w...</td>\n",
       "    </tr>\n",
       "    <tr>\n",
       "      <th>71</th>\n",
       "      <td>NaN</td>\n",
       "      <td>5.224195e+08</td>\n",
       "      <td>0.0</td>\n",
       "      <td>NaN</td>\n",
       "      <td>0.0</td>\n",
       "      <td>NaN</td>\n",
       "      <td>0.0</td>\n",
       "      <td>NaN</td>\n",
       "      <td>2019-10-15 13:18:57</td>\n",
       "      <td>NaN</td>\n",
       "    </tr>\n",
       "    <tr>\n",
       "      <th>161</th>\n",
       "      <td>NaN</td>\n",
       "      <td>2.211927e+09</td>\n",
       "      <td>0.0</td>\n",
       "      <td>NaN</td>\n",
       "      <td>NaN</td>\n",
       "      <td>NaN</td>\n",
       "      <td>NaN</td>\n",
       "      <td>NaN</td>\n",
       "      <td>2020-01-29 00:24:20</td>\n",
       "      <td>NaN</td>\n",
       "    </tr>\n",
       "    <tr>\n",
       "      <th>183</th>\n",
       "      <td>NaN</td>\n",
       "      <td>1.241381e+09</td>\n",
       "      <td>0.0</td>\n",
       "      <td>NaN</td>\n",
       "      <td>0.0</td>\n",
       "      <td>0.0</td>\n",
       "      <td>0.0</td>\n",
       "      <td>2.0</td>\n",
       "      <td>2020-03-02 12:39:07</td>\n",
       "      <td>@Shpuld @GavinEdgington Also I often aligned t...</td>\n",
       "    </tr>\n",
       "    <tr>\n",
       "      <th>237</th>\n",
       "      <td>NaN</td>\n",
       "      <td>4.681245e+08</td>\n",
       "      <td>0.0</td>\n",
       "      <td>NaN</td>\n",
       "      <td>NaN</td>\n",
       "      <td>NaN</td>\n",
       "      <td>NaN</td>\n",
       "      <td>NaN</td>\n",
       "      <td>2019-11-03 10:24:13</td>\n",
       "      <td>Dietro un grande uomo, c'Ã¨ sempre una grande ...</td>\n",
       "    </tr>\n",
       "    <tr>\n",
       "      <th>269</th>\n",
       "      <td>NaN</td>\n",
       "      <td>2.506456e+08</td>\n",
       "      <td>0.0</td>\n",
       "      <td>0.0</td>\n",
       "      <td>NaN</td>\n",
       "      <td>NaN</td>\n",
       "      <td>NaN</td>\n",
       "      <td>NaN</td>\n",
       "      <td>2019-02-20 21:02:26</td>\n",
       "      <td>The little girls getting favors from the refer...</td>\n",
       "    </tr>\n",
       "    <tr>\n",
       "      <th>273</th>\n",
       "      <td>NaN</td>\n",
       "      <td>2.220714e+07</td>\n",
       "      <td>0.0</td>\n",
       "      <td>NaN</td>\n",
       "      <td>0.0</td>\n",
       "      <td>NaN</td>\n",
       "      <td>NaN</td>\n",
       "      <td>NaN</td>\n",
       "      <td>2019-06-02 21:32:27</td>\n",
       "      <td>NaN</td>\n",
       "    </tr>\n",
       "    <tr>\n",
       "      <th>304</th>\n",
       "      <td>NaN</td>\n",
       "      <td>1.722074e+08</td>\n",
       "      <td>NaN</td>\n",
       "      <td>0.0</td>\n",
       "      <td>1.0</td>\n",
       "      <td>0.0</td>\n",
       "      <td>0.0</td>\n",
       "      <td>0.0</td>\n",
       "      <td>2020-02-15 04:13:22</td>\n",
       "      <td>My brother listens to some country</td>\n",
       "    </tr>\n",
       "    <tr>\n",
       "      <th>375</th>\n",
       "      <td>NaN</td>\n",
       "      <td>3.688013e+08</td>\n",
       "      <td>0.0</td>\n",
       "      <td>NaN</td>\n",
       "      <td>0.0</td>\n",
       "      <td>NaN</td>\n",
       "      <td>0.0</td>\n",
       "      <td>NaN</td>\n",
       "      <td>2020-04-19 02:21:58</td>\n",
       "      <td>NaN</td>\n",
       "    </tr>\n",
       "    <tr>\n",
       "      <th>403</th>\n",
       "      <td>NaN</td>\n",
       "      <td>NaN</td>\n",
       "      <td>0.0</td>\n",
       "      <td>0.0</td>\n",
       "      <td>NaN</td>\n",
       "      <td>NaN</td>\n",
       "      <td>NaN</td>\n",
       "      <td>NaN</td>\n",
       "      <td>2019-09-11 16:21:22</td>\n",
       "      <td>Radiation Detection Equipment - Providing the ...</td>\n",
       "    </tr>\n",
       "    <tr>\n",
       "      <th>411</th>\n",
       "      <td>NaN</td>\n",
       "      <td>4.662345e+08</td>\n",
       "      <td>0.0</td>\n",
       "      <td>0.0</td>\n",
       "      <td>0.0</td>\n",
       "      <td>NaN</td>\n",
       "      <td>0.0</td>\n",
       "      <td>0.0</td>\n",
       "      <td>2019-11-02 18:16:33</td>\n",
       "      <td>L'aspirina e' un potente anticoncezionale. Bas...</td>\n",
       "    </tr>\n",
       "    <tr>\n",
       "      <th>419</th>\n",
       "      <td>NaN</td>\n",
       "      <td>4.663959e+08</td>\n",
       "      <td>0.0</td>\n",
       "      <td>0.0</td>\n",
       "      <td>3.0</td>\n",
       "      <td>NaN</td>\n",
       "      <td>0.0</td>\n",
       "      <td>0.0</td>\n",
       "      <td>2019-08-12 20:07:21</td>\n",
       "      <td>-Ciao amore, come sto senza trucco? -E TU CHI ...</td>\n",
       "    </tr>\n",
       "    <tr>\n",
       "      <th>447</th>\n",
       "      <td>NaN</td>\n",
       "      <td>5.311645e+08</td>\n",
       "      <td>0.0</td>\n",
       "      <td>0.0</td>\n",
       "      <td>0.0</td>\n",
       "      <td>0.0</td>\n",
       "      <td>NaN</td>\n",
       "      <td>0.0</td>\n",
       "      <td>2019-10-20 23:59:00</td>\n",
       "      <td>Awesome - An Easy Toilet Seat Lifter - keep th...</td>\n",
       "    </tr>\n",
       "    <tr>\n",
       "      <th>478</th>\n",
       "      <td>NaN</td>\n",
       "      <td>2.371930e+08</td>\n",
       "      <td>0.0</td>\n",
       "      <td>NaN</td>\n",
       "      <td>3.0</td>\n",
       "      <td>NaN</td>\n",
       "      <td>0.0</td>\n",
       "      <td>NaN</td>\n",
       "      <td>2019-06-30 16:18:57</td>\n",
       "      <td>NaN</td>\n",
       "    </tr>\n",
       "    <tr>\n",
       "      <th>495</th>\n",
       "      <td>NaN</td>\n",
       "      <td>2.606496e+08</td>\n",
       "      <td>0.0</td>\n",
       "      <td>0.0</td>\n",
       "      <td>NaN</td>\n",
       "      <td>NaN</td>\n",
       "      <td>NaN</td>\n",
       "      <td>NaN</td>\n",
       "      <td>2019-10-08 04:17:00</td>\n",
       "      <td>1929 â In nove cittÃ  viene giocata la prima...</td>\n",
       "    </tr>\n",
       "    <tr>\n",
       "      <th>523</th>\n",
       "      <td>NaN</td>\n",
       "      <td>3.348270e+08</td>\n",
       "      <td>0.0</td>\n",
       "      <td>0.0</td>\n",
       "      <td>0.0</td>\n",
       "      <td>0.0</td>\n",
       "      <td>NaN</td>\n",
       "      <td>0.0</td>\n",
       "      <td>2019-07-09 22:45:28</td>\n",
       "      <td>Any style that Nike makes in all black, shoe, ...</td>\n",
       "    </tr>\n",
       "    <tr>\n",
       "      <th>565</th>\n",
       "      <td>NaN</td>\n",
       "      <td>2.969720e+09</td>\n",
       "      <td>160.0</td>\n",
       "      <td>NaN</td>\n",
       "      <td>NaN</td>\n",
       "      <td>NaN</td>\n",
       "      <td>0.0</td>\n",
       "      <td>NaN</td>\n",
       "      <td>2020-04-07 12:08:52</td>\n",
       "      <td>NaN</td>\n",
       "    </tr>\n",
       "    <tr>\n",
       "      <th>647</th>\n",
       "      <td>NaN</td>\n",
       "      <td>6.790029e+07</td>\n",
       "      <td>0.0</td>\n",
       "      <td>0.0</td>\n",
       "      <td>0.0</td>\n",
       "      <td>NaN</td>\n",
       "      <td>0.0</td>\n",
       "      <td>1.0</td>\n",
       "      <td>2018-01-24 16:50:29</td>\n",
       "      <td>@JamalLeghari Then Election Or What ??</td>\n",
       "    </tr>\n",
       "    <tr>\n",
       "      <th>653</th>\n",
       "      <td>NaN</td>\n",
       "      <td>6.496532e+07</td>\n",
       "      <td>0.0</td>\n",
       "      <td>0.0</td>\n",
       "      <td>1.0</td>\n",
       "      <td>NaN</td>\n",
       "      <td>NaN</td>\n",
       "      <td>NaN</td>\n",
       "      <td>2018-01-31 02:21:28</td>\n",
       "      <td>NaN</td>\n",
       "    </tr>\n",
       "    <tr>\n",
       "      <th>688</th>\n",
       "      <td>NaN</td>\n",
       "      <td>4.350736e+07</td>\n",
       "      <td>19.0</td>\n",
       "      <td>0.0</td>\n",
       "      <td>0.0</td>\n",
       "      <td>0.0</td>\n",
       "      <td>0.0</td>\n",
       "      <td>NaN</td>\n",
       "      <td>2018-05-28 04:26:18</td>\n",
       "      <td>RT @ItsMr_Write: No sport has more passionate ...</td>\n",
       "    </tr>\n",
       "    <tr>\n",
       "      <th>690</th>\n",
       "      <td>NaN</td>\n",
       "      <td>6.202510e+08</td>\n",
       "      <td>0.0</td>\n",
       "      <td>0.0</td>\n",
       "      <td>NaN</td>\n",
       "      <td>1.0</td>\n",
       "      <td>0.0</td>\n",
       "      <td>0.0</td>\n",
       "      <td>2017-10-23 15:55:22</td>\n",
       "      <td>FF#FF to my parents.</td>\n",
       "    </tr>\n",
       "    <tr>\n",
       "      <th>712</th>\n",
       "      <td>NaN</td>\n",
       "      <td>3.862418e+08</td>\n",
       "      <td>5.0</td>\n",
       "      <td>0.0</td>\n",
       "      <td>0.0</td>\n",
       "      <td>NaN</td>\n",
       "      <td>NaN</td>\n",
       "      <td>NaN</td>\n",
       "      <td>2020-01-30 04:00:09</td>\n",
       "      <td>NaN</td>\n",
       "    </tr>\n",
       "    <tr>\n",
       "      <th>730</th>\n",
       "      <td>NaN</td>\n",
       "      <td>1.955763e+07</td>\n",
       "      <td>NaN</td>\n",
       "      <td>0.0</td>\n",
       "      <td>0.0</td>\n",
       "      <td>2.0</td>\n",
       "      <td>0.0</td>\n",
       "      <td>1.0</td>\n",
       "      <td>2020-02-24 14:42:29</td>\n",
       "      <td>RT @NWSNorman: 840am-Rain/sleet/thunder will c...</td>\n",
       "    </tr>\n",
       "    <tr>\n",
       "      <th>733</th>\n",
       "      <td>NaN</td>\n",
       "      <td>2.396310e+08</td>\n",
       "      <td>0.0</td>\n",
       "      <td>0.0</td>\n",
       "      <td>0.0</td>\n",
       "      <td>0.0</td>\n",
       "      <td>NaN</td>\n",
       "      <td>0.0</td>\n",
       "      <td>2019-10-13 23:33:29</td>\n",
       "      <td>1f u c4n r34d th1s u r34lly n33d t0 g37 l41d</td>\n",
       "    </tr>\n",
       "    <tr>\n",
       "      <th>735</th>\n",
       "      <td>NaN</td>\n",
       "      <td>3.347544e+08</td>\n",
       "      <td>0.0</td>\n",
       "      <td>0.0</td>\n",
       "      <td>NaN</td>\n",
       "      <td>0.0</td>\n",
       "      <td>0.0</td>\n",
       "      <td>0.0</td>\n",
       "      <td>2019-10-02 17:56:56</td>\n",
       "      <td>Conversation:  when three women are talking to...</td>\n",
       "    </tr>\n",
       "    <tr>\n",
       "      <th>764</th>\n",
       "      <td>NaN</td>\n",
       "      <td>2.687459e+08</td>\n",
       "      <td>0.0</td>\n",
       "      <td>0.0</td>\n",
       "      <td>NaN</td>\n",
       "      <td>NaN</td>\n",
       "      <td>NaN</td>\n",
       "      <td>NaN</td>\n",
       "      <td>2020-04-13 18:50:30</td>\n",
       "      <td>NaN</td>\n",
       "    </tr>\n",
       "    <tr>\n",
       "      <th>774</th>\n",
       "      <td>NaN</td>\n",
       "      <td>4.800829e+07</td>\n",
       "      <td>NaN</td>\n",
       "      <td>NaN</td>\n",
       "      <td>0.0</td>\n",
       "      <td>NaN</td>\n",
       "      <td>0.0</td>\n",
       "      <td>NaN</td>\n",
       "      <td>2020-04-30 05:25:03</td>\n",
       "      <td>NaN</td>\n",
       "    </tr>\n",
       "    <tr>\n",
       "      <th>777</th>\n",
       "      <td>NaN</td>\n",
       "      <td>2.975736e+08</td>\n",
       "      <td>0.0</td>\n",
       "      <td>0.0</td>\n",
       "      <td>NaN</td>\n",
       "      <td>0.0</td>\n",
       "      <td>1.0</td>\n",
       "      <td>0.0</td>\n",
       "      <td>2019-10-08 01:22:38</td>\n",
       "      <td>Read the History Of Samuel Adams Beer  http://...</td>\n",
       "    </tr>\n",
       "    <tr>\n",
       "      <th>805</th>\n",
       "      <td>NaN</td>\n",
       "      <td>2.571183e+07</td>\n",
       "      <td>NaN</td>\n",
       "      <td>NaN</td>\n",
       "      <td>NaN</td>\n",
       "      <td>NaN</td>\n",
       "      <td>1.0</td>\n",
       "      <td>0.0</td>\n",
       "      <td>2020-01-16 15:37:56</td>\n",
       "      <td>#losangeles #east #sunrise #usc http://t.co/Kn...</td>\n",
       "    </tr>\n",
       "    <tr>\n",
       "      <th>845</th>\n",
       "      <td>NaN</td>\n",
       "      <td>1.658188e+09</td>\n",
       "      <td>NaN</td>\n",
       "      <td>NaN</td>\n",
       "      <td>NaN</td>\n",
       "      <td>NaN</td>\n",
       "      <td>0.0</td>\n",
       "      <td>3.0</td>\n",
       "      <td>2020-04-12 17:06:24</td>\n",
       "      <td>RT @lovelocked89: RT @Luvh3art: RT @0203KYU010...</td>\n",
       "    </tr>\n",
       "    <tr>\n",
       "      <th>938</th>\n",
       "      <td>NaN</td>\n",
       "      <td>8.883767e+08</td>\n",
       "      <td>0.0</td>\n",
       "      <td>0.0</td>\n",
       "      <td>NaN</td>\n",
       "      <td>NaN</td>\n",
       "      <td>NaN</td>\n",
       "      <td>NaN</td>\n",
       "      <td>2020-04-29 11:05:10</td>\n",
       "      <td>@NIALL5SOZ ouch</td>\n",
       "    </tr>\n",
       "    <tr>\n",
       "      <th>942</th>\n",
       "      <td>NaN</td>\n",
       "      <td>2.163054e+08</td>\n",
       "      <td>NaN</td>\n",
       "      <td>NaN</td>\n",
       "      <td>NaN</td>\n",
       "      <td>NaN</td>\n",
       "      <td>0.0</td>\n",
       "      <td>1.0</td>\n",
       "      <td>2019-07-03 04:50:37</td>\n",
       "      <td>Estoy a nada de desintalar la aplicación de @l...</td>\n",
       "    </tr>\n",
       "    <tr>\n",
       "      <th>963</th>\n",
       "      <td>NaN</td>\n",
       "      <td>3.950414e+08</td>\n",
       "      <td>2990.0</td>\n",
       "      <td>0.0</td>\n",
       "      <td>0.0</td>\n",
       "      <td>NaN</td>\n",
       "      <td>0.0</td>\n",
       "      <td>1.0</td>\n",
       "      <td>2019-02-22 00:58:38</td>\n",
       "      <td>RT @FemaIeStruggle: When you used to play red ...</td>\n",
       "    </tr>\n",
       "    <tr>\n",
       "      <th>1031</th>\n",
       "      <td>NaN</td>\n",
       "      <td>8.284188e+07</td>\n",
       "      <td>0.0</td>\n",
       "      <td>0.0</td>\n",
       "      <td>NaN</td>\n",
       "      <td>NaN</td>\n",
       "      <td>NaN</td>\n",
       "      <td>NaN</td>\n",
       "      <td>2020-03-16 03:27:38</td>\n",
       "      <td>@achugopal njan varilla. Enik njettanda</td>\n",
       "    </tr>\n",
       "    <tr>\n",
       "      <th>1060</th>\n",
       "      <td>NaN</td>\n",
       "      <td>2.471671e+09</td>\n",
       "      <td>NaN</td>\n",
       "      <td>NaN</td>\n",
       "      <td>NaN</td>\n",
       "      <td>NaN</td>\n",
       "      <td>0.0</td>\n",
       "      <td>NaN</td>\n",
       "      <td>2020-03-14 10:42:51</td>\n",
       "      <td>NaN</td>\n",
       "    </tr>\n",
       "    <tr>\n",
       "      <th>1125</th>\n",
       "      <td>NaN</td>\n",
       "      <td>NaN</td>\n",
       "      <td>1.0</td>\n",
       "      <td>0.0</td>\n",
       "      <td>NaN</td>\n",
       "      <td>NaN</td>\n",
       "      <td>NaN</td>\n",
       "      <td>NaN</td>\n",
       "      <td>2020-01-29 02:55:04</td>\n",
       "      <td>RT @mayaelizabeth5: @miguxlc thanks sorry it t...</td>\n",
       "    </tr>\n",
       "    <tr>\n",
       "      <th>1131</th>\n",
       "      <td>NaN</td>\n",
       "      <td>2.157382e+09</td>\n",
       "      <td>0.0</td>\n",
       "      <td>0.0</td>\n",
       "      <td>0.0</td>\n",
       "      <td>0.0</td>\n",
       "      <td>0.0</td>\n",
       "      <td>0.0</td>\n",
       "      <td>2020-03-06 05:56:21</td>\n",
       "      <td>Someone please distract me...I can't fall asle...</td>\n",
       "    </tr>\n",
       "    <tr>\n",
       "      <th>1146</th>\n",
       "      <td>NaN</td>\n",
       "      <td>3.318106e+08</td>\n",
       "      <td>0.0</td>\n",
       "      <td>0.0</td>\n",
       "      <td>NaN</td>\n",
       "      <td>NaN</td>\n",
       "      <td>NaN</td>\n",
       "      <td>NaN</td>\n",
       "      <td>2019-10-26 02:27:29</td>\n",
       "      <td>NaN</td>\n",
       "    </tr>\n",
       "    <tr>\n",
       "      <th>1155</th>\n",
       "      <td>NaN</td>\n",
       "      <td>2.201164e+08</td>\n",
       "      <td>0.0</td>\n",
       "      <td>NaN</td>\n",
       "      <td>NaN</td>\n",
       "      <td>NaN</td>\n",
       "      <td>0.0</td>\n",
       "      <td>NaN</td>\n",
       "      <td>2019-10-14 06:30:30</td>\n",
       "      <td>NaN</td>\n",
       "    </tr>\n",
       "    <tr>\n",
       "      <th>1156</th>\n",
       "      <td>NaN</td>\n",
       "      <td>2.574353e+09</td>\n",
       "      <td>729.0</td>\n",
       "      <td>0.0</td>\n",
       "      <td>NaN</td>\n",
       "      <td>NaN</td>\n",
       "      <td>NaN</td>\n",
       "      <td>NaN</td>\n",
       "      <td>2020-03-13 21:38:26</td>\n",
       "      <td>RT @TumblrEdits: http://t.co/fRDOBr1Tu7</td>\n",
       "    </tr>\n",
       "    <tr>\n",
       "      <th>1174</th>\n",
       "      <td>NaN</td>\n",
       "      <td>1.950054e+08</td>\n",
       "      <td>0.0</td>\n",
       "      <td>0.0</td>\n",
       "      <td>0.0</td>\n",
       "      <td>0.0</td>\n",
       "      <td>0.0</td>\n",
       "      <td>NaN</td>\n",
       "      <td>2019-10-25 16:17:04</td>\n",
       "      <td>I'm not really interested in making money. Ste...</td>\n",
       "    </tr>\n",
       "    <tr>\n",
       "      <th>1218</th>\n",
       "      <td>NaN</td>\n",
       "      <td>6.142118e+08</td>\n",
       "      <td>NaN</td>\n",
       "      <td>0.0</td>\n",
       "      <td>8.0</td>\n",
       "      <td>0.0</td>\n",
       "      <td>0.0</td>\n",
       "      <td>0.0</td>\n",
       "      <td>2019-07-15 07:24:31</td>\n",
       "      <td>Due italiani su tre si sentono poveri, l'altro...</td>\n",
       "    </tr>\n",
       "    <tr>\n",
       "      <th>1222</th>\n",
       "      <td>NaN</td>\n",
       "      <td>5.311352e+08</td>\n",
       "      <td>0.0</td>\n",
       "      <td>0.0</td>\n",
       "      <td>NaN</td>\n",
       "      <td>NaN</td>\n",
       "      <td>NaN</td>\n",
       "      <td>NaN</td>\n",
       "      <td>2019-10-08 03:36:45</td>\n",
       "      <td>You gotta love that - an aquarium coffee table...</td>\n",
       "    </tr>\n",
       "    <tr>\n",
       "      <th>1224</th>\n",
       "      <td>NaN</td>\n",
       "      <td>5.312526e+08</td>\n",
       "      <td>0.0</td>\n",
       "      <td>NaN</td>\n",
       "      <td>0.0</td>\n",
       "      <td>NaN</td>\n",
       "      <td>1.0</td>\n",
       "      <td>NaN</td>\n",
       "      <td>2019-10-08 00:15:08</td>\n",
       "      <td>NaN</td>\n",
       "    </tr>\n",
       "    <tr>\n",
       "      <th>1261</th>\n",
       "      <td>NaN</td>\n",
       "      <td>NaN</td>\n",
       "      <td>0.0</td>\n",
       "      <td>0.0</td>\n",
       "      <td>NaN</td>\n",
       "      <td>NaN</td>\n",
       "      <td>NaN</td>\n",
       "      <td>NaN</td>\n",
       "      <td>2019-10-14 17:41:18</td>\n",
       "      <td>NaN</td>\n",
       "    </tr>\n",
       "    <tr>\n",
       "      <th>1292</th>\n",
       "      <td>NaN</td>\n",
       "      <td>5.311573e+08</td>\n",
       "      <td>NaN</td>\n",
       "      <td>NaN</td>\n",
       "      <td>NaN</td>\n",
       "      <td>NaN</td>\n",
       "      <td>0.0</td>\n",
       "      <td>0.0</td>\n",
       "      <td>2019-09-29 03:24:02</td>\n",
       "      <td>The only person who is educated is the one who...</td>\n",
       "    </tr>\n",
       "    <tr>\n",
       "      <th>1317</th>\n",
       "      <td>NaN</td>\n",
       "      <td>5.310206e+07</td>\n",
       "      <td>NaN</td>\n",
       "      <td>NaN</td>\n",
       "      <td>NaN</td>\n",
       "      <td>NaN</td>\n",
       "      <td>0.0</td>\n",
       "      <td>2.0</td>\n",
       "      <td>2020-04-15 13:40:33</td>\n",
       "      <td>RT @MEAIndia: PM @narendramodi chooses gift fr...</td>\n",
       "    </tr>\n",
       "    <tr>\n",
       "      <th>1404</th>\n",
       "      <td>NaN</td>\n",
       "      <td>5.223395e+08</td>\n",
       "      <td>NaN</td>\n",
       "      <td>NaN</td>\n",
       "      <td>NaN</td>\n",
       "      <td>NaN</td>\n",
       "      <td>0.0</td>\n",
       "      <td>0.0</td>\n",
       "      <td>2019-09-13 02:48:30</td>\n",
       "      <td>Where there is an open mind, there will always...</td>\n",
       "    </tr>\n",
       "    <tr>\n",
       "      <th>1434</th>\n",
       "      <td>NaN</td>\n",
       "      <td>6.109569e+08</td>\n",
       "      <td>NaN</td>\n",
       "      <td>NaN</td>\n",
       "      <td>NaN</td>\n",
       "      <td>NaN</td>\n",
       "      <td>1.0</td>\n",
       "      <td>NaN</td>\n",
       "      <td>2020-04-11 19:00:45</td>\n",
       "      <td>NaN</td>\n",
       "    </tr>\n",
       "  </tbody>\n",
       "</table>\n",
       "</div>"
      ],
      "text/plain": [
       "      id       user_id  retweet_count  reply_count  favorite_count  \\\n",
       "32   NaN  2.214453e+09            1.0          0.0             2.0   \n",
       "60   NaN  1.532124e+07            NaN          NaN             NaN   \n",
       "71   NaN  5.224195e+08            0.0          NaN             0.0   \n",
       "161  NaN  2.211927e+09            0.0          NaN             NaN   \n",
       "183  NaN  1.241381e+09            0.0          NaN             0.0   \n",
       "237  NaN  4.681245e+08            0.0          NaN             NaN   \n",
       "269  NaN  2.506456e+08            0.0          0.0             NaN   \n",
       "273  NaN  2.220714e+07            0.0          NaN             0.0   \n",
       "304  NaN  1.722074e+08            NaN          0.0             1.0   \n",
       "375  NaN  3.688013e+08            0.0          NaN             0.0   \n",
       "403  NaN           NaN            0.0          0.0             NaN   \n",
       "411  NaN  4.662345e+08            0.0          0.0             0.0   \n",
       "419  NaN  4.663959e+08            0.0          0.0             3.0   \n",
       "447  NaN  5.311645e+08            0.0          0.0             0.0   \n",
       "478  NaN  2.371930e+08            0.0          NaN             3.0   \n",
       "495  NaN  2.606496e+08            0.0          0.0             NaN   \n",
       "523  NaN  3.348270e+08            0.0          0.0             0.0   \n",
       "565  NaN  2.969720e+09          160.0          NaN             NaN   \n",
       "647  NaN  6.790029e+07            0.0          0.0             0.0   \n",
       "653  NaN  6.496532e+07            0.0          0.0             1.0   \n",
       "688  NaN  4.350736e+07           19.0          0.0             0.0   \n",
       "690  NaN  6.202510e+08            0.0          0.0             NaN   \n",
       "712  NaN  3.862418e+08            5.0          0.0             0.0   \n",
       "730  NaN  1.955763e+07            NaN          0.0             0.0   \n",
       "733  NaN  2.396310e+08            0.0          0.0             0.0   \n",
       "735  NaN  3.347544e+08            0.0          0.0             NaN   \n",
       "764  NaN  2.687459e+08            0.0          0.0             NaN   \n",
       "774  NaN  4.800829e+07            NaN          NaN             0.0   \n",
       "777  NaN  2.975736e+08            0.0          0.0             NaN   \n",
       "805  NaN  2.571183e+07            NaN          NaN             NaN   \n",
       "845  NaN  1.658188e+09            NaN          NaN             NaN   \n",
       "938  NaN  8.883767e+08            0.0          0.0             NaN   \n",
       "942  NaN  2.163054e+08            NaN          NaN             NaN   \n",
       "963  NaN  3.950414e+08         2990.0          0.0             0.0   \n",
       "1031 NaN  8.284188e+07            0.0          0.0             NaN   \n",
       "1060 NaN  2.471671e+09            NaN          NaN             NaN   \n",
       "1125 NaN           NaN            1.0          0.0             NaN   \n",
       "1131 NaN  2.157382e+09            0.0          0.0             0.0   \n",
       "1146 NaN  3.318106e+08            0.0          0.0             NaN   \n",
       "1155 NaN  2.201164e+08            0.0          NaN             NaN   \n",
       "1156 NaN  2.574353e+09          729.0          0.0             NaN   \n",
       "1174 NaN  1.950054e+08            0.0          0.0             0.0   \n",
       "1218 NaN  6.142118e+08            NaN          0.0             8.0   \n",
       "1222 NaN  5.311352e+08            0.0          0.0             NaN   \n",
       "1224 NaN  5.312526e+08            0.0          NaN             0.0   \n",
       "1261 NaN           NaN            0.0          0.0             NaN   \n",
       "1292 NaN  5.311573e+08            NaN          NaN             NaN   \n",
       "1317 NaN  5.310206e+07            NaN          NaN             NaN   \n",
       "1404 NaN  5.223395e+08            NaN          NaN             NaN   \n",
       "1434 NaN  6.109569e+08            NaN          NaN             NaN   \n",
       "\n",
       "      num_hashtags  num_urls  num_mentions          created_at  \\\n",
       "32             NaN       NaN           NaN 2019-01-18 01:13:23   \n",
       "60             NaN       0.0           2.0 2016-03-07 03:40:53   \n",
       "71             NaN       0.0           NaN 2019-10-15 13:18:57   \n",
       "161            NaN       NaN           NaN 2020-01-29 00:24:20   \n",
       "183            0.0       0.0           2.0 2020-03-02 12:39:07   \n",
       "237            NaN       NaN           NaN 2019-11-03 10:24:13   \n",
       "269            NaN       NaN           NaN 2019-02-20 21:02:26   \n",
       "273            NaN       NaN           NaN 2019-06-02 21:32:27   \n",
       "304            0.0       0.0           0.0 2020-02-15 04:13:22   \n",
       "375            NaN       0.0           NaN 2020-04-19 02:21:58   \n",
       "403            NaN       NaN           NaN 2019-09-11 16:21:22   \n",
       "411            NaN       0.0           0.0 2019-11-02 18:16:33   \n",
       "419            NaN       0.0           0.0 2019-08-12 20:07:21   \n",
       "447            0.0       NaN           0.0 2019-10-20 23:59:00   \n",
       "478            NaN       0.0           NaN 2019-06-30 16:18:57   \n",
       "495            NaN       NaN           NaN 2019-10-08 04:17:00   \n",
       "523            0.0       NaN           0.0 2019-07-09 22:45:28   \n",
       "565            NaN       0.0           NaN 2020-04-07 12:08:52   \n",
       "647            NaN       0.0           1.0 2018-01-24 16:50:29   \n",
       "653            NaN       NaN           NaN 2018-01-31 02:21:28   \n",
       "688            0.0       0.0           NaN 2018-05-28 04:26:18   \n",
       "690            1.0       0.0           0.0 2017-10-23 15:55:22   \n",
       "712            NaN       NaN           NaN 2020-01-30 04:00:09   \n",
       "730            2.0       0.0           1.0 2020-02-24 14:42:29   \n",
       "733            0.0       NaN           0.0 2019-10-13 23:33:29   \n",
       "735            0.0       0.0           0.0 2019-10-02 17:56:56   \n",
       "764            NaN       NaN           NaN 2020-04-13 18:50:30   \n",
       "774            NaN       0.0           NaN 2020-04-30 05:25:03   \n",
       "777            0.0       1.0           0.0 2019-10-08 01:22:38   \n",
       "805            NaN       1.0           0.0 2020-01-16 15:37:56   \n",
       "845            NaN       0.0           3.0 2020-04-12 17:06:24   \n",
       "938            NaN       NaN           NaN 2020-04-29 11:05:10   \n",
       "942            NaN       0.0           1.0 2019-07-03 04:50:37   \n",
       "963            NaN       0.0           1.0 2019-02-22 00:58:38   \n",
       "1031           NaN       NaN           NaN 2020-03-16 03:27:38   \n",
       "1060           NaN       0.0           NaN 2020-03-14 10:42:51   \n",
       "1125           NaN       NaN           NaN 2020-01-29 02:55:04   \n",
       "1131           0.0       0.0           0.0 2020-03-06 05:56:21   \n",
       "1146           NaN       NaN           NaN 2019-10-26 02:27:29   \n",
       "1155           NaN       0.0           NaN 2019-10-14 06:30:30   \n",
       "1156           NaN       NaN           NaN 2020-03-13 21:38:26   \n",
       "1174           0.0       0.0           NaN 2019-10-25 16:17:04   \n",
       "1218           0.0       0.0           0.0 2019-07-15 07:24:31   \n",
       "1222           NaN       NaN           NaN 2019-10-08 03:36:45   \n",
       "1224           NaN       1.0           NaN 2019-10-08 00:15:08   \n",
       "1261           NaN       NaN           NaN 2019-10-14 17:41:18   \n",
       "1292           NaN       0.0           0.0 2019-09-29 03:24:02   \n",
       "1317           NaN       0.0           2.0 2020-04-15 13:40:33   \n",
       "1404           NaN       0.0           0.0 2019-09-13 02:48:30   \n",
       "1434           NaN       1.0           NaN 2020-04-11 19:00:45   \n",
       "\n",
       "                                                   text  \n",
       "32                                                  NaN  \n",
       "60    @abc7 @CharlieSheen Anything he says can and w...  \n",
       "71                                                  NaN  \n",
       "161                                                 NaN  \n",
       "183   @Shpuld @GavinEdgington Also I often aligned t...  \n",
       "237   Dietro un grande uomo, c'Ã¨ sempre una grande ...  \n",
       "269   The little girls getting favors from the refer...  \n",
       "273                                                 NaN  \n",
       "304                 My brother listens to some country   \n",
       "375                                                 NaN  \n",
       "403   Radiation Detection Equipment - Providing the ...  \n",
       "411   L'aspirina e' un potente anticoncezionale. Bas...  \n",
       "419   -Ciao amore, come sto senza trucco? -E TU CHI ...  \n",
       "447   Awesome - An Easy Toilet Seat Lifter - keep th...  \n",
       "478                                                 NaN  \n",
       "495   1929 â In nove cittÃ  viene giocata la prima...  \n",
       "523   Any style that Nike makes in all black, shoe, ...  \n",
       "565                                                 NaN  \n",
       "647              @JamalLeghari Then Election Or What ??  \n",
       "653                                                 NaN  \n",
       "688   RT @ItsMr_Write: No sport has more passionate ...  \n",
       "690                                FF#FF to my parents.  \n",
       "712                                                 NaN  \n",
       "730   RT @NWSNorman: 840am-Rain/sleet/thunder will c...  \n",
       "733        1f u c4n r34d th1s u r34lly n33d t0 g37 l41d  \n",
       "735   Conversation:  when three women are talking to...  \n",
       "764                                                 NaN  \n",
       "774                                                 NaN  \n",
       "777   Read the History Of Samuel Adams Beer  http://...  \n",
       "805   #losangeles #east #sunrise #usc http://t.co/Kn...  \n",
       "845   RT @lovelocked89: RT @Luvh3art: RT @0203KYU010...  \n",
       "938                                    @NIALL5SOZ ouch   \n",
       "942   Estoy a nada de desintalar la aplicación de @l...  \n",
       "963   RT @FemaIeStruggle: When you used to play red ...  \n",
       "1031            @achugopal njan varilla. Enik njettanda  \n",
       "1060                                                NaN  \n",
       "1125  RT @mayaelizabeth5: @miguxlc thanks sorry it t...  \n",
       "1131  Someone please distract me...I can't fall asle...  \n",
       "1146                                                NaN  \n",
       "1155                                                NaN  \n",
       "1156            RT @TumblrEdits: http://t.co/fRDOBr1Tu7  \n",
       "1174  I'm not really interested in making money. Ste...  \n",
       "1218  Due italiani su tre si sentono poveri, l'altro...  \n",
       "1222  You gotta love that - an aquarium coffee table...  \n",
       "1224                                                NaN  \n",
       "1261                                                NaN  \n",
       "1292  The only person who is educated is the one who...  \n",
       "1317  RT @MEAIndia: PM @narendramodi chooses gift fr...  \n",
       "1404  Where there is an open mind, there will always...  \n",
       "1434                                                NaN  "
      ]
     },
     "execution_count": 121,
     "metadata": {},
     "output_type": "execute_result"
    }
   ],
   "source": [
    "tweets[tweets['id'].isna()].head(50)"
   ]
  },
  {
   "cell_type": "markdown",
   "id": "f34835b8",
   "metadata": {},
   "source": [
    "## Attributes types"
   ]
  },
  {
   "cell_type": "code",
   "execution_count": 10,
   "id": "aa10bf57",
   "metadata": {},
   "outputs": [],
   "source": [
    "#check attrbutes type"
   ]
  },
  {
   "cell_type": "code",
   "execution_count": 11,
   "id": "949028e3",
   "metadata": {},
   "outputs": [],
   "source": [
    "tweets['id'] = pd.to_numeric(tweets['id'], errors='coerce')\n",
    "tweets['user_id'] = pd.to_numeric(tweets['user_id'], errors='coerce')\n",
    "tweets['retweet_count'] = pd.to_numeric(tweets['retweet_count'], errors='coerce')\n",
    "tweets['reply_count'] = pd.to_numeric(tweets['reply_count'], errors='coerce')\n",
    "tweets['favorite_count'] = pd.to_numeric(tweets['favorite_count'], errors='coerce')\n",
    "tweets['num_hashtags'] = pd.to_numeric(tweets['num_hashtags'], errors='coerce')\n",
    "tweets['num_mentions'] = pd.to_numeric(tweets['num_mentions'], errors='coerce')\n",
    "tweets['num_urls'] = pd.to_numeric(tweets['num_urls'], errors='coerce')\n",
    "tweets['created_at'] = pd.to_datetime(tweets['created_at'], errors='coerce')"
   ]
  },
  {
   "cell_type": "code",
   "execution_count": 12,
   "id": "08f6ccc7",
   "metadata": {},
   "outputs": [
    {
     "name": "stdout",
     "output_type": "stream",
     "text": [
      "<class 'pandas.core.frame.DataFrame'>\n",
      "RangeIndex: 13664696 entries, 0 to 13664695\n",
      "Data columns (total 10 columns):\n",
      " #   Column          Dtype         \n",
      "---  ------          -----         \n",
      " 0   id              float64       \n",
      " 1   user_id         float64       \n",
      " 2   retweet_count   float64       \n",
      " 3   reply_count     float64       \n",
      " 4   favorite_count  float64       \n",
      " 5   num_hashtags    float64       \n",
      " 6   num_urls        float64       \n",
      " 7   num_mentions    float64       \n",
      " 8   created_at      datetime64[ns]\n",
      " 9   text            object        \n",
      "dtypes: datetime64[ns](1), float64(8), object(1)\n",
      "memory usage: 1.0+ GB\n"
     ]
    }
   ],
   "source": [
    "tweets.info()"
   ]
  },
  {
   "cell_type": "code",
   "execution_count": null,
   "id": "57617c7e",
   "metadata": {},
   "outputs": [],
   "source": []
  },
  {
   "cell_type": "markdown",
   "id": "5f2e97cf",
   "metadata": {},
   "source": [
    "# Data Preparation"
   ]
  },
  {
   "cell_type": "markdown",
   "id": "d1fffe10",
   "metadata": {},
   "source": [
    "## Select Attributes"
   ]
  },
  {
   "cell_type": "code",
   "execution_count": null,
   "id": "b09dbb94",
   "metadata": {},
   "outputs": [],
   "source": []
  },
  {
   "cell_type": "markdown",
   "id": "e2b256e7",
   "metadata": {},
   "source": [
    "## Reduce Data Dimension"
   ]
  },
  {
   "cell_type": "code",
   "execution_count": 13,
   "id": "4a3060a4",
   "metadata": {},
   "outputs": [],
   "source": [
    "#eliminazione duplicati"
   ]
  },
  {
   "cell_type": "markdown",
   "id": "bab8e74d",
   "metadata": {},
   "source": [
    "## Select Records"
   ]
  },
  {
   "cell_type": "code",
   "execution_count": 14,
   "id": "dc86ea83",
   "metadata": {},
   "outputs": [],
   "source": [
    "#eliminazione record senza dati (?)"
   ]
  },
  {
   "cell_type": "markdown",
   "id": "8ce823a8",
   "metadata": {},
   "source": [
    "## Treat Missing Values"
   ]
  },
  {
   "cell_type": "code",
   "execution_count": 15,
   "id": "fbbb3398",
   "metadata": {},
   "outputs": [],
   "source": [
    "# trasformazione nan (media o mediana)"
   ]
  },
  {
   "cell_type": "markdown",
   "id": "74daab53",
   "metadata": {},
   "source": [
    "## Treat Outliers"
   ]
  },
  {
   "cell_type": "code",
   "execution_count": null,
   "id": "067b92e3",
   "metadata": {},
   "outputs": [],
   "source": []
  },
  {
   "cell_type": "markdown",
   "id": "61f63623",
   "metadata": {},
   "source": [
    "## Integrate, Unify and Transform Data"
   ]
  },
  {
   "cell_type": "code",
   "execution_count": null,
   "id": "d007107b",
   "metadata": {},
   "outputs": [],
   "source": []
  },
  {
   "cell_type": "markdown",
   "id": "14dbd54d",
   "metadata": {},
   "source": [
    "## Improve Data Quality"
   ]
  },
  {
   "cell_type": "markdown",
   "id": "40350c68",
   "metadata": {},
   "source": [
    "### Check created_at attributes of tweets"
   ]
  },
  {
   "cell_type": "code",
   "execution_count": 17,
   "id": "14778d2c",
   "metadata": {},
   "outputs": [
    {
     "ename": "NameError",
     "evalue": "name 'counting_past' is not defined",
     "output_type": "error",
     "traceback": [
      "\u001b[0;31m---------------------------------------------------------------------------\u001b[0m",
      "\u001b[0;31mNameError\u001b[0m                                 Traceback (most recent call last)",
      "Input \u001b[0;32mIn [17]\u001b[0m, in \u001b[0;36m<cell line: 15>\u001b[0;34m()\u001b[0m\n\u001b[1;32m     12\u001b[0m         count_past \u001b[38;5;241m+\u001b[39m\u001b[38;5;241m=\u001b[39m \u001b[38;5;241m1\u001b[39m\n\u001b[1;32m     13\u001b[0m         wrong_list\u001b[38;5;241m.\u001b[39mappend(index)\n\u001b[0;32m---> 15\u001b[0m \u001b[43mcounting_past\u001b[49m \u001b[38;5;241m+\u001b[39m counting_future\n",
      "\u001b[0;31mNameError\u001b[0m: name 'counting_past' is not defined"
     ]
    }
   ],
   "source": [
    "count_future = 0\n",
    "count_past = 0\n",
    "wrong_list = []\n",
    "now = datetime.now()\n",
    "launch_twitter = datetime.strptime(\"2006-07-15 00:00:00\", \"%Y-%m-%d %H:%M:%S\")\n",
    "\n",
    "for index, row in tweets['created_at'].items():\n",
    "    if (now - row).days < 0:\n",
    "        count_future += 1\n",
    "        wrong_list.append(index)\n",
    "    if (row - launch_twitter).days < 0:\n",
    "        count_past += 1\n",
    "        wrong_list.append(index)"
   ]
  },
  {
   "cell_type": "code",
   "execution_count": 18,
   "id": "ff747437",
   "metadata": {},
   "outputs": [
    {
     "data": {
      "text/plain": [
       "97605"
      ]
     },
     "execution_count": 18,
     "metadata": {},
     "output_type": "execute_result"
    }
   ],
   "source": [
    "count_past + count_future"
   ]
  },
  {
   "cell_type": "code",
   "execution_count": null,
   "id": "e811096b",
   "metadata": {},
   "outputs": [],
   "source": []
  },
  {
   "cell_type": "code",
   "execution_count": null,
   "id": "8fef7f54",
   "metadata": {},
   "outputs": [],
   "source": []
  },
  {
   "cell_type": "code",
   "execution_count": null,
   "id": "7807174a",
   "metadata": {},
   "outputs": [],
   "source": []
  },
  {
   "cell_type": "code",
   "execution_count": null,
   "id": "09af897d",
   "metadata": {},
   "outputs": [],
   "source": []
  },
  {
   "cell_type": "code",
   "execution_count": null,
   "id": "9eff9ed2",
   "metadata": {},
   "outputs": [],
   "source": []
  },
  {
   "cell_type": "code",
   "execution_count": null,
   "id": "8a1a90dd",
   "metadata": {},
   "outputs": [],
   "source": []
  },
  {
   "cell_type": "code",
   "execution_count": null,
   "id": "e934439d",
   "metadata": {},
   "outputs": [],
   "source": []
  },
  {
   "cell_type": "code",
   "execution_count": null,
   "id": "2b994870",
   "metadata": {},
   "outputs": [],
   "source": []
  },
  {
   "cell_type": "code",
   "execution_count": null,
   "id": "2f5fb250",
   "metadata": {},
   "outputs": [],
   "source": []
  },
  {
   "cell_type": "code",
   "execution_count": null,
   "id": "ddecb7b5",
   "metadata": {},
   "outputs": [],
   "source": []
  },
  {
   "cell_type": "code",
   "execution_count": null,
   "id": "5e48a50c",
   "metadata": {},
   "outputs": [],
   "source": []
  },
  {
   "cell_type": "code",
   "execution_count": null,
   "id": "473707bb",
   "metadata": {},
   "outputs": [],
   "source": []
  },
  {
   "cell_type": "code",
   "execution_count": null,
   "id": "4bd28d88",
   "metadata": {},
   "outputs": [],
   "source": []
  },
  {
   "cell_type": "code",
   "execution_count": null,
   "id": "e7bd530b",
   "metadata": {},
   "outputs": [],
   "source": []
  },
  {
   "cell_type": "code",
   "execution_count": null,
   "id": "dbf5963a",
   "metadata": {},
   "outputs": [],
   "source": []
  },
  {
   "cell_type": "code",
   "execution_count": null,
   "id": "1b4e97d2",
   "metadata": {},
   "outputs": [],
   "source": []
  },
  {
   "cell_type": "code",
   "execution_count": null,
   "id": "a9f7ddc7",
   "metadata": {},
   "outputs": [],
   "source": [
    "#count how much wrong data id\n",
    "wrong_id = 0;\n",
    "index_list = [];\n",
    "for index, row in tweets['id'].items():\n",
    "    #check id value\n",
    "    if not isinstance(row, float):\n",
    "        if not row.isnumeric():\n",
    "            wrong_id = wrong_id + 1;\n",
    "            index_list.append(index);\n",
    "wrong_id"
   ]
  },
  {
   "cell_type": "code",
   "execution_count": null,
   "id": "782044b3",
   "metadata": {},
   "outputs": [],
   "source": [
    "#count how much wrong data id to verify \n",
    "wrong_id = 0;\n",
    "index_list = [];\n",
    "for index, row in tweets['id'].items():\n",
    "    #check id value\n",
    "    if not isinstance(row, float):\n",
    "        if not row.isnumeric():\n",
    "            wrong_id = wrong_id + 1;\n",
    "            index_list.append(index);\n",
    "wrong_id"
   ]
  },
  {
   "cell_type": "code",
   "execution_count": null,
   "id": "b2148c91",
   "metadata": {
    "scrolled": true
   },
   "outputs": [],
   "source": [
    "#delete all the wrong ids\n",
    "tweets.drop(index_list, inplace=True)\n",
    "tweets"
   ]
  },
  {
   "cell_type": "code",
   "execution_count": null,
   "id": "1ef56059",
   "metadata": {},
   "outputs": [],
   "source": [
    "#count how much wrong retweet we have\n",
    "wrong_retweet = 0\n",
    "w_retweet_lst = []\n",
    "\n",
    "for index, row in tweets['retweet_count'].items():\n",
    "    #check retweet value\n",
    "    if isinstance(row, str):\n",
    "        if not row.isnumeric():\n",
    "            wrong_retweet += 1\n",
    "            w_retweet_lst.append(index)\n",
    "    else:\n",
    "        wrong_retweet += 1\n",
    "        w_retweet_lst.append(index)"
   ]
  },
  {
   "cell_type": "code",
   "execution_count": null,
   "id": "1ee4d7c6",
   "metadata": {},
   "outputs": [],
   "source": [
    "wrong_retweet"
   ]
  },
  {
   "cell_type": "markdown",
   "id": "71e10fd1",
   "metadata": {},
   "source": [
    "## Count how much wrong retweet we have"
   ]
  },
  {
   "cell_type": "code",
   "execution_count": null,
   "id": "46d88fd0",
   "metadata": {},
   "outputs": [],
   "source": [
    "wrong_reply = 0\n",
    "w_reply_lst = []\n",
    "\n",
    "for index, row in tweets['reply_count'].items():\n",
    "    #check retweet value\n",
    "    if isinstance(row, str):\n",
    "        if not row.isnumeric():\n",
    "            wrong_reply += 1\n",
    "            w_reply_lst.append(index)\n",
    "    else:\n",
    "        wrong_reply += 1\n",
    "        w_reply_lst.append(index)\n",
    "wrong_reply"
   ]
  },
  {
   "cell_type": "markdown",
   "id": "a9f20bc3",
   "metadata": {},
   "source": [
    "## Count how much wrong favorite we have"
   ]
  },
  {
   "cell_type": "code",
   "execution_count": null,
   "id": "3008e717",
   "metadata": {
    "scrolled": true
   },
   "outputs": [],
   "source": [
    "wrong_favorite = 0\n",
    "drop_fav_list = []\n",
    "nan = 0;\n",
    "\n",
    "for index, row in tweets['favorite_count'].items():\n",
    "    #check retweet value\n",
    "    if isinstance(row, str):\n",
    "        if not row.isnumeric():\n",
    "            \n",
    "            if '.' in row:\n",
    "                row = int(row.split('.')[0])\n",
    "            \n",
    "            elif '-' in row:\n",
    "                row = 0\n",
    "                        \n",
    "            else:\n",
    "                \n",
    "                drop_fav_list.append(index)\n",
    "            \n",
    "            wrong_favorite += 1\n",
    "            \n",
    "        else:\n",
    "            row = int(row)"
   ]
  },
  {
   "cell_type": "code",
   "execution_count": null,
   "id": "74f26bfb",
   "metadata": {},
   "outputs": [],
   "source": [
    "tweets.drop(drop_fav_list, axis=0, inplace=True)"
   ]
  },
  {
   "cell_type": "code",
   "execution_count": null,
   "id": "cce5d7a9",
   "metadata": {},
   "outputs": [],
   "source": [
    "#tweets['favorite_count'].isna().sum()\n",
    "#tweets.dropna(subset=['favorite_count'], inplace=True)\n",
    "a = tweets.astype('int32', errors='ignore')\n",
    "a.dtypes"
   ]
  },
  {
   "cell_type": "code",
   "execution_count": null,
   "id": "bd6add89",
   "metadata": {},
   "outputs": [],
   "source": [
    "a.sort_values('favorite_count', ascending=False).head(50)"
   ]
  },
  {
   "cell_type": "code",
   "execution_count": null,
   "id": "384e0406",
   "metadata": {},
   "outputs": [],
   "source": [
    "a['favorite_count'].max()"
   ]
  },
  {
   "cell_type": "code",
   "execution_count": null,
   "id": "04bc8a57",
   "metadata": {},
   "outputs": [],
   "source": []
  },
  {
   "cell_type": "markdown",
   "id": "dc3b4713",
   "metadata": {},
   "source": [
    "## Check num_hashtag attributes:"
   ]
  },
  {
   "cell_type": "code",
   "execution_count": null,
   "id": "f8570398",
   "metadata": {},
   "outputs": [],
   "source": [
    "\n",
    "wrong_htag = 0\n",
    "w_htag_lst = []\n",
    "\n",
    "for index, row in tweets['num_hashtags'].items():\n",
    "    #check retweet value\n",
    "    if isinstance(row, str):\n",
    "        if not row.isnumeric():\n",
    "            wrong_htag += 1\n",
    "            w_htag_lst.append(index)\n",
    "    else:\n",
    "        wrong_htag += 1\n",
    "        w_htag_lst.append(index)\n",
    "wrong_htag\n",
    "tweets['num_hashtags'][w_htag_lst[1000]]"
   ]
  },
  {
   "cell_type": "markdown",
   "id": "98e8cc87",
   "metadata": {},
   "source": [
    "# Check created_at attributes: "
   ]
  },
  {
   "cell_type": "code",
   "execution_count": null,
   "id": "035d0307",
   "metadata": {},
   "outputs": [],
   "source": [
    "count_past"
   ]
  },
  {
   "cell_type": "code",
   "execution_count": null,
   "id": "cf02787c",
   "metadata": {},
   "outputs": [],
   "source": [
    "count_future"
   ]
  },
  {
   "cell_type": "code",
   "execution_count": null,
   "id": "128649ac",
   "metadata": {},
   "outputs": [],
   "source": [
    "type(tweets['num_urls'][0])"
   ]
  },
  {
   "cell_type": "markdown",
   "id": "e3cdf51f",
   "metadata": {},
   "source": [
    "## Count how much wrong num_url we have"
   ]
  },
  {
   "cell_type": "code",
   "execution_count": null,
   "id": "d3ecd24e",
   "metadata": {},
   "outputs": [],
   "source": [
    "len(tweets_.id.unique())\n",
    "#tweets_ = tweets_.drop_duplicates('id')"
   ]
  },
  {
   "cell_type": "code",
   "execution_count": null,
   "id": "248ee071",
   "metadata": {},
   "outputs": [],
   "source": [
    "wrong_url = 0\n",
    "w_url_lst = []\n",
    "\n",
    "for index, row in tweets['num_urls'].items():\n",
    "    #check url value\n",
    "    if isinstance(row, str):\n",
    "        if not row.isnumeric():\n",
    "            wrong_url += 1\n",
    "            w_url_lst.append(index)\n",
    "    else:\n",
    "        wrong_url += 1\n",
    "        w_url_lst.append(index)\n",
    "wrong_url"
   ]
  },
  {
   "cell_type": "markdown",
   "id": "36493aa5",
   "metadata": {},
   "source": [
    "## Count how much wrong num_mentions we have"
   ]
  },
  {
   "cell_type": "code",
   "execution_count": null,
   "id": "d54cd91b",
   "metadata": {},
   "outputs": [],
   "source": [
    "wrong_mentions = 0\n",
    "w_mentions_lst = []\n",
    "\n",
    "for index, row in tweets['num_mentions'].items():\n",
    "    #check url value\n",
    "    if isinstance(row, str):\n",
    "        if not row.isnumeric():\n",
    "            wrong_mentions += 1\n",
    "            w_mentions_lst.append(index)\n",
    "    else:\n",
    "        wrong_mentions += 1\n",
    "        w_mentions_lst.append(index)\n",
    "wrong_mentions"
   ]
  },
  {
   "cell_type": "markdown",
   "id": "3913e769",
   "metadata": {},
   "source": [
    "# Check the attribute of the USERS file"
   ]
  },
  {
   "cell_type": "markdown",
   "id": "bd4a3973",
   "metadata": {},
   "source": [
    "#### sort users by id"
   ]
  },
  {
   "cell_type": "code",
   "execution_count": null,
   "id": "ad73ac08",
   "metadata": {},
   "outputs": [],
   "source": [
    "users.sort_values(by=['id'], inplace=True)"
   ]
  },
  {
   "cell_type": "markdown",
   "id": "798ebe4e",
   "metadata": {},
   "source": [
    "#### correction of the langauge attribute"
   ]
  },
  {
   "cell_type": "code",
   "execution_count": null,
   "id": "af8b624f",
   "metadata": {},
   "outputs": [],
   "source": [
    "users.lang.unique()"
   ]
  },
  {
   "cell_type": "code",
   "execution_count": null,
   "id": "a126b763",
   "metadata": {},
   "outputs": [],
   "source": [
    "for index, row in users['lang'].items():\n",
    "    users['lang'][index] = row.lower()  \n",
    "    if row == 'select language...': \n",
    "        2-1 #dosomething"
   ]
  },
  {
   "cell_type": "markdown",
   "id": "48514c14",
   "metadata": {},
   "source": [
    "#### plotting the bar graph on languages"
   ]
  },
  {
   "cell_type": "code",
   "execution_count": null,
   "id": "2a968033",
   "metadata": {},
   "outputs": [],
   "source": [
    "users['lang'].value_counts().plot(kind='bar', title='Languages')\n",
    "plt.show()"
   ]
  },
  {
   "cell_type": "code",
   "execution_count": null,
   "id": "869f9457",
   "metadata": {},
   "outputs": [],
   "source": []
  },
  {
   "cell_type": "code",
   "execution_count": null,
   "id": "e6966353",
   "metadata": {},
   "outputs": [],
   "source": [
    "tweets.isna().sum()"
   ]
  },
  {
   "cell_type": "code",
   "execution_count": null,
   "id": "7740ae4d",
   "metadata": {},
   "outputs": [],
   "source": [
    "tweets.dtypes"
   ]
  },
  {
   "cell_type": "code",
   "execution_count": null,
   "id": "6f3d6964",
   "metadata": {},
   "outputs": [],
   "source": [
    "tweets.sort_values('reply_count', ascending=False).head(30)"
   ]
  },
  {
   "cell_type": "code",
   "execution_count": null,
   "id": "473b5be8",
   "metadata": {},
   "outputs": [],
   "source": [
    "tweets.dropna(subset=['id', 'user_id'], inplace=True)"
   ]
  },
  {
   "cell_type": "code",
   "execution_count": null,
   "id": "1f834f50",
   "metadata": {},
   "outputs": [],
   "source": [
    "tweets.isna().sum()"
   ]
  },
  {
   "cell_type": "markdown",
   "id": "914e4ad0",
   "metadata": {},
   "source": [
    "# Check the user_id in users db"
   ]
  },
  {
   "cell_type": "code",
   "execution_count": null,
   "id": "468edc13",
   "metadata": {},
   "outputs": [],
   "source": []
  }
 ],
 "metadata": {
  "kernelspec": {
   "display_name": "Python 3 (ipykernel)",
   "language": "python",
   "name": "python3"
  },
  "language_info": {
   "codemirror_mode": {
    "name": "ipython",
    "version": 3
   },
   "file_extension": ".py",
   "mimetype": "text/x-python",
   "name": "python",
   "nbconvert_exporter": "python",
   "pygments_lexer": "ipython3",
   "version": "3.9.7"
  }
 },
 "nbformat": 4,
 "nbformat_minor": 5
}
