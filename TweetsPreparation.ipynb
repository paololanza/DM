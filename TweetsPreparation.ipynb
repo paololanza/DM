{
 "cells": [
  {
   "cell_type": "code",
   "execution_count": 1,
   "id": "d202ed54",
   "metadata": {},
   "outputs": [],
   "source": [
    "import math\n",
    "import numpy as np\n",
    "import pandas as pd\n",
    "import scipy.stats as stats\n",
    "import matplotlib.pyplot as plt\n",
    "\n",
    "from datetime import datetime \n",
    "from collections import defaultdict\n",
    "from scipy.stats import pearsonr"
   ]
  },
  {
   "cell_type": "code",
   "execution_count": 2,
   "id": "1190324c",
   "metadata": {},
   "outputs": [],
   "source": [
    "#create a pandas dataframes from csv files\n",
    "tweets = pd.read_csv('tweets.csv')"
   ]
  },
  {
   "cell_type": "markdown",
   "id": "f333b9b0",
   "metadata": {},
   "source": [
    "## Tweets Analysis"
   ]
  },
  {
   "cell_type": "markdown",
   "id": "6825bdaa",
   "metadata": {},
   "source": [
    "## Trasformazione delle colonne in tipi"
   ]
  },
  {
   "cell_type": "code",
   "execution_count": 3,
   "id": "108896f1",
   "metadata": {},
   "outputs": [],
   "source": [
    "tweets['id'] = pd.to_numeric(tweets['id'], errors='coerce')\n",
    "tweets['user_id'] = pd.to_numeric(tweets['user_id'], errors='coerce')\n",
    "tweets['retweet_count'] = pd.to_numeric(tweets['retweet_count'], errors='coerce')\n",
    "tweets['reply_count'] = pd.to_numeric(tweets['reply_count'], errors='coerce')\n",
    "tweets['favorite_count'] = pd.to_numeric(tweets['favorite_count'], errors='coerce')\n",
    "tweets['num_hashtags'] = pd.to_numeric(tweets['num_hashtags'], errors='coerce')\n",
    "tweets['num_mentions'] = pd.to_numeric(tweets['num_mentions'], errors='coerce')\n",
    "tweets['num_urls'] = pd.to_numeric(tweets['num_urls'], errors='coerce')\n",
    "tweets['created_at'] = pd.to_datetime(tweets['created_at'], errors='coerce')"
   ]
  },
  {
   "cell_type": "markdown",
   "id": "ec54640f",
   "metadata": {},
   "source": [
    "## Eliminazione dei valori negativi"
   ]
  },
  {
   "cell_type": "code",
   "execution_count": 4,
   "id": "3e7e645e",
   "metadata": {},
   "outputs": [],
   "source": [
    "tweets['retweet_count'] = tweets['retweet_count'].abs()\n",
    "tweets['reply_count'] = tweets['reply_count'].abs()\n",
    "tweets['favorite_count'] = tweets['favorite_count'].abs()\n",
    "tweets['num_hashtags'] = tweets['num_hashtags'].abs()\n",
    "tweets['num_mentions'] = tweets['num_mentions'].abs()\n",
    "tweets['num_urls'] = tweets['num_urls'].abs()"
   ]
  },
  {
   "cell_type": "markdown",
   "id": "e0bcb8e6",
   "metadata": {},
   "source": [
    "## Eliminazione dei valori 'inf'"
   ]
  },
  {
   "cell_type": "code",
   "execution_count": 5,
   "id": "470ecf67",
   "metadata": {},
   "outputs": [],
   "source": [
    "tweets.replace('inf', np.nan, inplace=True)\n",
    "tweets.replace(np.inf, np.nan, inplace=True)\n",
    "\n",
    "tweets.replace('inf', math.nan, inplace=True)\n",
    "tweets.replace(math.inf, math.nan, inplace=True)"
   ]
  },
  {
   "cell_type": "markdown",
   "id": "eb54f558",
   "metadata": {},
   "source": [
    "### Drop duplicates"
   ]
  },
  {
   "cell_type": "code",
   "execution_count": 6,
   "id": "fc8bc2ce",
   "metadata": {},
   "outputs": [
    {
     "name": "stdout",
     "output_type": "stream",
     "text": [
      "Dropped 1952099 duplicates\n"
     ]
    }
   ],
   "source": [
    "count = tweets['id'].count()\n",
    "tweets.drop_duplicates(inplace=True)\n",
    "print(\"Dropped \" + str(count - tweets['id'].count()) + \" duplicates\")"
   ]
  },
  {
   "cell_type": "markdown",
   "id": "a9a5ceae",
   "metadata": {},
   "source": [
    "### Replace NaN values in 'id'"
   ]
  },
  {
   "cell_type": "markdown",
   "id": "7a370f23",
   "metadata": {},
   "source": [
    "Replace nan values with a value (-1) that indicates that this information is missing"
   ]
  },
  {
   "cell_type": "code",
   "execution_count": 7,
   "id": "85def117",
   "metadata": {},
   "outputs": [],
   "source": [
    "tweets.loc[tweets['id'].isna(), 'id'] = -1"
   ]
  },
  {
   "cell_type": "markdown",
   "id": "7cbcf5f3",
   "metadata": {},
   "source": [
    "Check if there are some id duplicated"
   ]
  },
  {
   "cell_type": "code",
   "execution_count": 8,
   "id": "3057b75b",
   "metadata": {},
   "outputs": [
    {
     "data": {
      "text/html": [
       "<div>\n",
       "<style scoped>\n",
       "    .dataframe tbody tr th:only-of-type {\n",
       "        vertical-align: middle;\n",
       "    }\n",
       "\n",
       "    .dataframe tbody tr th {\n",
       "        vertical-align: top;\n",
       "    }\n",
       "\n",
       "    .dataframe thead th {\n",
       "        text-align: right;\n",
       "    }\n",
       "</style>\n",
       "<table border=\"1\" class=\"dataframe\">\n",
       "  <thead>\n",
       "    <tr style=\"text-align: right;\">\n",
       "      <th></th>\n",
       "      <th>id</th>\n",
       "      <th>user_id</th>\n",
       "      <th>retweet_count</th>\n",
       "      <th>reply_count</th>\n",
       "      <th>favorite_count</th>\n",
       "      <th>num_hashtags</th>\n",
       "      <th>num_urls</th>\n",
       "      <th>num_mentions</th>\n",
       "      <th>created_at</th>\n",
       "      <th>text</th>\n",
       "    </tr>\n",
       "  </thead>\n",
       "  <tbody>\n",
       "    <tr>\n",
       "      <th>8592560</th>\n",
       "      <td>218442.0</td>\n",
       "      <td>4.663176e+08</td>\n",
       "      <td>0.0</td>\n",
       "      <td>NaN</td>\n",
       "      <td>0.0</td>\n",
       "      <td>NaN</td>\n",
       "      <td>NaN</td>\n",
       "      <td>NaN</td>\n",
       "      <td>2019-09-05 06:37:24</td>\n",
       "      <td>NaN</td>\n",
       "    </tr>\n",
       "    <tr>\n",
       "      <th>3498751</th>\n",
       "      <td>218442.0</td>\n",
       "      <td>2.380298e+09</td>\n",
       "      <td>0.0</td>\n",
       "      <td>0.0</td>\n",
       "      <td>0.0</td>\n",
       "      <td>NaN</td>\n",
       "      <td>NaN</td>\n",
       "      <td>NaN</td>\n",
       "      <td>2019-05-03 09:50:40</td>\n",
       "      <td>NaN</td>\n",
       "    </tr>\n",
       "    <tr>\n",
       "      <th>7967612</th>\n",
       "      <td>261723.0</td>\n",
       "      <td>2.877875e+09</td>\n",
       "      <td>285.0</td>\n",
       "      <td>0.0</td>\n",
       "      <td>NaN</td>\n",
       "      <td>0.0</td>\n",
       "      <td>NaN</td>\n",
       "      <td>1.0</td>\n",
       "      <td>2020-01-11 07:55:12</td>\n",
       "      <td>RT @LOLGOP: For the cost of the Iraq War, we c...</td>\n",
       "    </tr>\n",
       "    <tr>\n",
       "      <th>10205294</th>\n",
       "      <td>261723.0</td>\n",
       "      <td>4.670607e+08</td>\n",
       "      <td>NaN</td>\n",
       "      <td>0.0</td>\n",
       "      <td>NaN</td>\n",
       "      <td>1.0</td>\n",
       "      <td>0.0</td>\n",
       "      <td>0.0</td>\n",
       "      <td>2019-09-17 19:36:23</td>\n",
       "      <td>In paradiso non c'e' sesso. Approfittatene ade...</td>\n",
       "    </tr>\n",
       "    <tr>\n",
       "      <th>13085390</th>\n",
       "      <td>457781.0</td>\n",
       "      <td>NaN</td>\n",
       "      <td>NaN</td>\n",
       "      <td>NaN</td>\n",
       "      <td>NaN</td>\n",
       "      <td>NaN</td>\n",
       "      <td>NaN</td>\n",
       "      <td>NaN</td>\n",
       "      <td>2020-04-28 15:05:38</td>\n",
       "      <td>@twistynipple did they</td>\n",
       "    </tr>\n",
       "    <tr>\n",
       "      <th>10408486</th>\n",
       "      <td>457781.0</td>\n",
       "      <td>NaN</td>\n",
       "      <td>NaN</td>\n",
       "      <td>NaN</td>\n",
       "      <td>NaN</td>\n",
       "      <td>NaN</td>\n",
       "      <td>NaN</td>\n",
       "      <td>NaN</td>\n",
       "      <td>2020-01-29 02:53:42</td>\n",
       "      <td>@noraxxalien stupid</td>\n",
       "    </tr>\n",
       "    <tr>\n",
       "      <th>12205716</th>\n",
       "      <td>558867.0</td>\n",
       "      <td>4.716197e+07</td>\n",
       "      <td>NaN</td>\n",
       "      <td>NaN</td>\n",
       "      <td>0.0</td>\n",
       "      <td>NaN</td>\n",
       "      <td>0.0</td>\n",
       "      <td>NaN</td>\n",
       "      <td>2017-05-17 22:32:44</td>\n",
       "      <td>NaN</td>\n",
       "    </tr>\n",
       "    <tr>\n",
       "      <th>10807050</th>\n",
       "      <td>558867.0</td>\n",
       "      <td>NaN</td>\n",
       "      <td>0.0</td>\n",
       "      <td>NaN</td>\n",
       "      <td>NaN</td>\n",
       "      <td>NaN</td>\n",
       "      <td>0.0</td>\n",
       "      <td>NaN</td>\n",
       "      <td>2019-04-05 03:10:53</td>\n",
       "      <td>NaN</td>\n",
       "    </tr>\n",
       "    <tr>\n",
       "      <th>805194</th>\n",
       "      <td>785227.0</td>\n",
       "      <td>7.080435e+08</td>\n",
       "      <td>0.0</td>\n",
       "      <td>0.0</td>\n",
       "      <td>NaN</td>\n",
       "      <td>NaN</td>\n",
       "      <td>0.0</td>\n",
       "      <td>0.0</td>\n",
       "      <td>2020-02-06 11:57:16</td>\n",
       "      <td>@MichaelbMedlin HA u got me</td>\n",
       "    </tr>\n",
       "    <tr>\n",
       "      <th>13549631</th>\n",
       "      <td>785227.0</td>\n",
       "      <td>NaN</td>\n",
       "      <td>590.0</td>\n",
       "      <td>0.0</td>\n",
       "      <td>0.0</td>\n",
       "      <td>0.0</td>\n",
       "      <td>1.0</td>\n",
       "      <td>NaN</td>\n",
       "      <td>2019-06-22 16:30:35</td>\n",
       "      <td>RT @zullylully: You raised your daughter right</td>\n",
       "    </tr>\n",
       "  </tbody>\n",
       "</table>\n",
       "</div>"
      ],
      "text/plain": [
       "                id       user_id  retweet_count  reply_count  favorite_count  \\\n",
       "8592560   218442.0  4.663176e+08            0.0          NaN             0.0   \n",
       "3498751   218442.0  2.380298e+09            0.0          0.0             0.0   \n",
       "7967612   261723.0  2.877875e+09          285.0          0.0             NaN   \n",
       "10205294  261723.0  4.670607e+08            NaN          0.0             NaN   \n",
       "13085390  457781.0           NaN            NaN          NaN             NaN   \n",
       "10408486  457781.0           NaN            NaN          NaN             NaN   \n",
       "12205716  558867.0  4.716197e+07            NaN          NaN             0.0   \n",
       "10807050  558867.0           NaN            0.0          NaN             NaN   \n",
       "805194    785227.0  7.080435e+08            0.0          0.0             NaN   \n",
       "13549631  785227.0           NaN          590.0          0.0             0.0   \n",
       "\n",
       "          num_hashtags  num_urls  num_mentions          created_at  \\\n",
       "8592560            NaN       NaN           NaN 2019-09-05 06:37:24   \n",
       "3498751            NaN       NaN           NaN 2019-05-03 09:50:40   \n",
       "7967612            0.0       NaN           1.0 2020-01-11 07:55:12   \n",
       "10205294           1.0       0.0           0.0 2019-09-17 19:36:23   \n",
       "13085390           NaN       NaN           NaN 2020-04-28 15:05:38   \n",
       "10408486           NaN       NaN           NaN 2020-01-29 02:53:42   \n",
       "12205716           NaN       0.0           NaN 2017-05-17 22:32:44   \n",
       "10807050           NaN       0.0           NaN 2019-04-05 03:10:53   \n",
       "805194             NaN       0.0           0.0 2020-02-06 11:57:16   \n",
       "13549631           0.0       1.0           NaN 2019-06-22 16:30:35   \n",
       "\n",
       "                                                       text  \n",
       "8592560                                                 NaN  \n",
       "3498751                                                 NaN  \n",
       "7967612   RT @LOLGOP: For the cost of the Iraq War, we c...  \n",
       "10205294  In paradiso non c'e' sesso. Approfittatene ade...  \n",
       "13085390                             @twistynipple did they  \n",
       "10408486                                @noraxxalien stupid  \n",
       "12205716                                                NaN  \n",
       "10807050                                                NaN  \n",
       "805194                          @MichaelbMedlin HA u got me  \n",
       "13549631    RT @zullylully: You raised your daughter right   "
      ]
     },
     "execution_count": 8,
     "metadata": {},
     "output_type": "execute_result"
    }
   ],
   "source": [
    "mask = tweets.duplicated('id', keep=False)\n",
    "duplicated_id = tweets[(mask) & (tweets['id'] != -1)]\n",
    "duplicated_id.sort_values('id').head(10)"
   ]
  },
  {
   "cell_type": "markdown",
   "id": "f0e5052f",
   "metadata": {},
   "source": [
    "Assign -1 to all the id duplicated"
   ]
  },
  {
   "cell_type": "code",
   "execution_count": 9,
   "id": "be134e1f",
   "metadata": {},
   "outputs": [],
   "source": [
    "tweets.loc[(mask) & (tweets['id'] != -1), 'id'] = -1"
   ]
  },
  {
   "cell_type": "markdown",
   "metadata": {},
   "source": [
    "### Replace NaN values in user_id"
   ]
  },
  {
   "cell_type": "code",
   "execution_count": null,
   "metadata": {},
   "outputs": [],
   "source": [
    "tweets.loc[tweets['user_id'].isna(), 'user_id'] = -1"
   ]
  },
  {
   "cell_type": "markdown",
   "metadata": {},
   "source": [
    "### Infer num_hashtags, num_urls, num_mentions"
   ]
  },
  {
   "cell_type": "code",
   "execution_count": 10,
   "metadata": {},
   "outputs": [
    {
     "name": "stdout",
     "output_type": "stream",
     "text": [
      "num_hashtags nan: 1163675 num_mentions nan: 987988 num_urls nan: 987988\n",
      "num_hashtags nan: 489183 num_mentions nan: 488513 num_urls nan: 488513\n"
     ]
    }
   ],
   "source": [
    "tweets['infer_hashtags'] = tweets.text.str.count('#')\n",
    "tweets['infer_mentions'] = tweets.text.str.count('@')\n",
    "tweets['infer_urls'] = tweets.text.str.count('http://')\n",
    "\n",
    "print(\"num_hashtags nan: \" + str(tweets['num_hashtags'].isna().sum()) + \\\n",
    "      \" num_mentions nan: \" + str(tweets['num_mentions'].isna().sum()) + \\\n",
    "      \" num_urls nan: \" + str(tweets['num_mentions'].isna().sum()))\n",
    "\n",
    "tweets['num_hashtags'] = tweets['num_hashtags'].fillna(tweets['infer_hashtags'])\n",
    "tweets['num_mentions'] = tweets['num_mentions'].fillna(tweets['infer_mentions'])\n",
    "tweets['num_urls'] = tweets['num_urls'].fillna(tweets['infer_urls'])\n",
    "\n",
    "print(\"num_hashtags nan: \" + str(tweets['num_hashtags'].isna().sum()) + \\\n",
    "      \" num_mentions nan: \" + str(tweets['num_mentions'].isna().sum()) + \\\n",
    "      \" num_urls nan: \" + str(tweets['num_mentions'].isna().sum()))\n",
    "\n",
    "tweets.drop(columns=['infer_hashtags', 'infer_mentions', 'infer_urls'], inplace=True)"
   ]
  },
  {
   "cell_type": "markdown",
   "id": "2372ab74",
   "metadata": {},
   "source": [
    "### Replace NaN values in tweets"
   ]
  },
  {
   "cell_type": "code",
   "execution_count": 11,
   "id": "f2751746",
   "metadata": {},
   "outputs": [
    {
     "name": "stdout",
     "output_type": "stream",
     "text": [
      "retweet_count nan: 518685, reply_count nan: 654510, favorite_count nan: 653433, num_hashtags nan: 377024, num_mentions nan: 376488, num_urls nan: 244865\n",
      "retweet_count nan: 158, reply_count nan: 257, favorite_count nan: 247, num_hashtags nan: 170, num_mentions nan: 170, num_urls nan: 88\n"
     ]
    }
   ],
   "source": [
    "t = tweets\n",
    "user_median = t.groupby('user_id', as_index=False).median()\n",
    "user_median.rename(columns={\n",
    "    'retweet_count' : 'retweet_median',\n",
    "    'reply_count' : 'reply_median',\n",
    "    'favorite_count' : 'favorite_median',\n",
    "    'num_hashtags' : 'hashtags_median',\n",
    "    'num_urls' : 'urls_median',\n",
    "    'num_mentions' : 'mentions_median'\n",
    "}, inplace=True)\n",
    "user_median.drop(columns=['id'], inplace=True)\n",
    "tweets = t.merge(user_median, on='user_id')\n",
    "\n",
    "print(\"retweet_count nan: \" + str(tweets['retweet_count'].isna().sum()) + \\\n",
    "      \", reply_count nan: \" + str(tweets['reply_count'].isna().sum()) + \\\n",
    "      \", favorite_count nan: \" + str(tweets['favorite_count'].isna().sum()) + \\\n",
    "      \", num_hashtags nan: \" + str(tweets['num_hashtags'].isna().sum()) + \\\n",
    "      \", num_mentions nan: \" + str(tweets['num_mentions'].isna().sum()) + \\\n",
    "      \", num_urls nan: \" + str(tweets['num_urls'].isna().sum()))\n",
    "\n",
    "#sostituzione valori\n",
    "tweets['retweet_count'] = tweets['retweet_count'].fillna(tweets['retweet_median'])\n",
    "tweets['reply_count'] = tweets['reply_count'].fillna(tweets['reply_median'])\n",
    "tweets['favorite_count'] = tweets['favorite_count'].fillna(tweets['favorite_median'])\n",
    "tweets['num_hashtags'] = tweets['num_hashtags'].fillna(tweets['hashtags_median'])\n",
    "tweets['num_mentions'] = tweets['num_mentions'].fillna(tweets['mentions_median'])\n",
    "tweets['num_urls'] = tweets['num_urls'].fillna(tweets['urls_median'])\n",
    "\n",
    "tweets.drop(columns=['retweet_median', 'reply_median', 'favorite_median', 'hashtags_median', 'mentions_median', 'urls_median'], \\\n",
    "            inplace=True)\n",
    "\n",
    "print(\"retweet_count nan: \" + str(tweets['retweet_count'].isna().sum()) + \\\n",
    "      \", reply_count nan: \" + str(tweets['reply_count'].isna().sum()) + \\\n",
    "      \", favorite_count nan: \" + str(tweets['favorite_count'].isna().sum()) + \\\n",
    "      \", num_hashtags nan: \" + str(tweets['num_hashtags'].isna().sum()) + \\\n",
    "      \", num_mentions nan: \" + str(tweets['num_mentions'].isna().sum()) + \\\n",
    "      \", num_urls nan: \" + str(tweets['num_urls'].isna().sum()))\n"
   ]
  },
  {
   "cell_type": "code",
   "execution_count": 12,
   "metadata": {},
   "outputs": [],
   "source": [
    "tweets['retweet_count'].replace(math.nan, tweets['retweet_count'].median(), inplace=True)\n",
    "tweets['reply_count'].replace(math.nan, tweets['reply_count'].median(), inplace=True)\n",
    "tweets['favorite_count'].replace(math.nan, tweets['favorite_count'].median(), inplace=True)\n",
    "tweets['num_hashtags'].replace(math.nan, tweets['num_hashtags'].median(), inplace=True)\n",
    "tweets['num_mentions'].replace(math.nan, tweets['num_mentions'].median(), inplace=True)\n",
    "tweets['num_urls'].replace(math.nan, tweets['num_urls'].median(), inplace=True)"
   ]
  },
  {
   "cell_type": "markdown",
   "id": "1b5f209d",
   "metadata": {},
   "source": [
    "### Replacing invalid timestamp"
   ]
  },
  {
   "cell_type": "code",
   "execution_count": 13,
   "id": "bc72a266",
   "metadata": {},
   "outputs": [
    {
     "data": {
      "text/plain": [
       "97605"
      ]
     },
     "execution_count": 13,
     "metadata": {},
     "output_type": "execute_result"
    }
   ],
   "source": [
    "tweets.loc[(tweets.created_at < datetime.strptime(\"2006-07-15 00:00:00\", \"%Y-%m-%d %H:%M:%S\")) | (tweets.created_at > datetime.now()),\\\n",
    "     'created_at'] = datetime.strptime(\"2000-01-01 00:00:00\", \"%Y-%m-%d %H:%M:%S\")\n",
    "tweets[tweets['created_at'] == datetime.strptime(\"2000-01-01 00:00:00\", \"%Y-%m-%d %H:%M:%S\")]['id'].count()"
   ]
  },
  {
   "cell_type": "markdown",
   "id": "333a3c76",
   "metadata": {},
   "source": [
    "### Number of special char"
   ]
  },
  {
   "cell_type": "code",
   "execution_count": 14,
   "id": "4cd9f865",
   "metadata": {},
   "outputs": [],
   "source": [
    "special = '[(|!£$%&/=?^@#§,.;:-_<>ç@)]' # Define special characters\n",
    "tweets['special'] = tweets['text'].str.count(special) # Count them\n",
    "tweets['special'] = tweets['special'].fillna(0)\n",
    "tweets['special'] = tweets['special'].astype(int)\n"
   ]
  },
  {
   "cell_type": "markdown",
   "id": "3dd987d4",
   "metadata": {},
   "source": [
    "### Lenght"
   ]
  },
  {
   "cell_type": "code",
   "execution_count": 15,
   "id": "cd3c83e2",
   "metadata": {},
   "outputs": [],
   "source": [
    "tweets['text_lenght'] = tweets['text'].str.len()\n",
    "tweets['text_lenght'] = tweets['text_lenght'].fillna(0)\n",
    "tweets['text_lenght'] = tweets['text_lenght'].astype(int)\n"
   ]
  },
  {
   "cell_type": "markdown",
   "metadata": {},
   "source": [
    "### Outliers"
   ]
  },
  {
   "cell_type": "code",
   "execution_count": 16,
   "id": "6b1df961",
   "metadata": {},
   "outputs": [],
   "source": [
    "tweets.loc[(tweets['retweet_count'] > tweets['retweet_count'].quantile(.99))] = 0\n",
    "tweets.loc[(tweets['reply_count'] > tweets['reply_count'].quantile(.99)) ] = 0\n",
    "tweets.loc[(tweets['favorite_count'] > tweets['favorite_count'].quantile(.99))] = 0\n",
    "tweets.loc[(tweets['num_hashtags'] > tweets['num_hashtags'].quantile(.99)) ] = 0\n",
    "tweets.loc[(tweets['num_mentions'] > tweets['num_mentions'].quantile(.99))] = 0\n",
    "tweets.loc[(tweets['num_urls'] > tweets['num_urls'].quantile(.99))] = 0\n",
    "\n",
    "#tweets.loc[(tweets['text_lenght'] > tweets['text_lenght'].quantile(.95))] = 0\n",
    "#tweets.loc[(tweets['special'] > tweets['special'].quantile(.95))] = 0\n",
    "        "
   ]
  },
  {
   "cell_type": "code",
   "execution_count": 17,
   "metadata": {},
   "outputs": [
    {
     "data": {
      "text/plain": [
       "7014.0"
      ]
     },
     "execution_count": 17,
     "metadata": {},
     "output_type": "execute_result"
    }
   ],
   "source": [
    "tweets['retweet_count'].max()"
   ]
  },
  {
   "cell_type": "code",
   "execution_count": 18,
   "metadata": {},
   "outputs": [],
   "source": [
    "tweets.to_csv('new_tweets.csv')"
   ]
  }
 ],
 "metadata": {
  "kernelspec": {
   "display_name": "Python 3.10.4 64-bit",
   "language": "python",
   "name": "python3"
  },
  "language_info": {
   "codemirror_mode": {
    "name": "ipython",
    "version": 3
   },
   "file_extension": ".py",
   "mimetype": "text/x-python",
   "name": "python",
   "nbconvert_exporter": "python",
   "pygments_lexer": "ipython3",
   "version": "3.10.4"
  },
  "orig_nbformat": 4,
  "vscode": {
   "interpreter": {
    "hash": "aee8b7b246df8f9039afb4144a1f6fd8d2ca17a180786b69acc140d282b71a49"
   }
  }
 },
 "nbformat": 4,
 "nbformat_minor": 2
}
