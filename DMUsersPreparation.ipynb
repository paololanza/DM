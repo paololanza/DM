{
 "cells": [
  {
   "cell_type": "code",
   "execution_count": null,
   "metadata": {},
   "outputs": [],
   "source": [
    "users.to_csv('new_users.csv')"
   ]
  },
  {
   "cell_type": "code",
   "execution_count": null,
   "id": "d202ed54",
   "metadata": {},
   "outputs": [],
   "source": [
    "import math\n",
    "import numpy as np\n",
    "import pandas as pd\n",
    "import scipy.stats as stats\n",
    "import matplotlib.pyplot as plt\n",
    "\n",
    "from datetime import datetime \n",
    "from collections import defaultdict\n",
    "from scipy.stats import pearsonr"
   ]
  },
  {
   "cell_type": "code",
   "execution_count": null,
   "id": "1190324c",
   "metadata": {},
   "outputs": [],
   "source": [
    "#create a pandas dataframes from csv files\n",
    "users = pd.read_csv('users.csv')"
   ]
  },
  {
   "cell_type": "code",
   "execution_count": null,
   "id": "d75b9728",
   "metadata": {},
   "outputs": [],
   "source": [
    "users.info()\n",
    "users.dtypes"
   ]
  },
  {
   "cell_type": "markdown",
   "id": "6825bdaa",
   "metadata": {},
   "source": [
    "## Trasformazione delle colonne in tipi"
   ]
  },
  {
   "cell_type": "code",
   "execution_count": null,
   "metadata": {},
   "outputs": [],
   "source": [
    "\n",
    "users['id'] = pd.to_numeric(users['id'], errors='coerce')\n",
    "users['created_at'] = pd.to_datetime(users['created_at'], errors='coerce')"
   ]
  },
  {
   "cell_type": "markdown",
   "id": "ec54640f",
   "metadata": {},
   "source": [
    "## Eliminazione dei valori negativi"
   ]
  },
  {
   "cell_type": "code",
   "execution_count": null,
   "metadata": {},
   "outputs": [],
   "source": [
    "\n",
    "users['statuses_count'] = users['statuses_count'].abs()"
   ]
  },
  {
   "cell_type": "markdown",
   "id": "ac7b3161",
   "metadata": {},
   "source": [
    "## User analysis "
   ]
  },
  {
   "cell_type": "code",
   "execution_count": null,
   "id": "dc0a3714",
   "metadata": {},
   "outputs": [],
   "source": [
    "users['lang'].value_counts().plot(kind='bar', title='Languages count')\n",
    "plt.yscale('log')\n",
    "plt.show()"
   ]
  },
  {
   "cell_type": "markdown",
   "id": "69c0673b",
   "metadata": {},
   "source": [
    "#### Lang Correction"
   ]
  },
  {
   "cell_type": "code",
   "execution_count": null,
   "id": "a65f6485",
   "metadata": {},
   "outputs": [],
   "source": [
    "users['lang'] = users['lang'].str.lower()\n",
    "users['lang'].value_counts().plot(kind='bar', title='Languages count')\n",
    "\n",
    "users.rename(columns={\n",
    "    'id' : 'user_id',\n",
    "    'created_at' : 'subscribing_date'\n",
    "}, inplace=True)\n",
    "nal = users[(users['lang'] == 'select language...') | (users['lang'] == 'xx-lc')]\n",
    "\n",
    "text_nal = tweets.merge(nal, on='user_id')\n",
    "text_nal"
   ]
  },
  {
   "cell_type": "code",
   "execution_count": null,
   "id": "04757d21",
   "metadata": {},
   "outputs": [],
   "source": [
    "text_nal[text_nal['name'] == 'Leanne Arker']"
   ]
  },
  {
   "cell_type": "markdown",
   "id": "811e090f",
   "metadata": {},
   "source": [
    "##### Users without a language are en"
   ]
  },
  {
   "cell_type": "code",
   "execution_count": null,
   "id": "d7a546e4",
   "metadata": {},
   "outputs": [],
   "source": [
    "users['lang'].replace('select language...', 'en', inplace=True)\n",
    "users['lang'].replace('xx-lc', 'en', inplace=True)"
   ]
  },
  {
   "cell_type": "markdown",
   "id": "8dbbac16",
   "metadata": {},
   "source": [
    "### Bot Analysis"
   ]
  },
  {
   "cell_type": "markdown",
   "id": "64b978ba",
   "metadata": {},
   "source": [
    "Check if there are only 0 and 1 values"
   ]
  },
  {
   "cell_type": "code",
   "execution_count": null,
   "id": "1eea843e",
   "metadata": {},
   "outputs": [],
   "source": [
    "users.bot.unique()"
   ]
  },
  {
   "cell_type": "markdown",
   "id": "d423a838",
   "metadata": {},
   "source": [
    "### User's created at analysis (previously we changed the name of the attribute in 'subscribing_date')"
   ]
  },
  {
   "cell_type": "code",
   "execution_count": null,
   "id": "9a0592bb",
   "metadata": {},
   "outputs": [],
   "source": [
    "users[users['subscribing_date'] > datetime.now()]"
   ]
  },
  {
   "cell_type": "code",
   "execution_count": null,
   "id": "a5007859",
   "metadata": {},
   "outputs": [],
   "source": [
    "users[users['subscribing_date'] < datetime.strptime(\"2006-07-15 00:00:00\", \"%Y-%m-%d %H:%M:%S\")]"
   ]
  },
  {
   "cell_type": "code",
   "execution_count": null,
   "metadata": {},
   "outputs": [],
   "source": [
    "users.to_csv('new_users.csv')"
   ]
  }
 ],
 "metadata": {
  "kernelspec": {
   "display_name": "Python 3.9.13 64-bit",
   "language": "python",
   "name": "python3"
  },
  "language_info": {
   "name": "python",
   "version": "3.9.13"
  },
  "orig_nbformat": 4,
  "vscode": {
   "interpreter": {
    "hash": "b0fa6594d8f4cbf19f97940f81e996739fb7646882a419484c72d19e05852a7e"
   }
  }
 },
 "nbformat": 4,
 "nbformat_minor": 2
}
